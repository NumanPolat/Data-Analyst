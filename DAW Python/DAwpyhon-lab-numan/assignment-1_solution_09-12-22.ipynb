{
 "cells": [
  {
   "cell_type": "code",
   "execution_count": 2,
   "id": "e6f00dca",
   "metadata": {},
   "outputs": [],
   "source": [
    "import numpy as np"
   ]
  },
  {
   "cell_type": "code",
   "execution_count": 5,
   "id": "27a5f304",
   "metadata": {},
   "outputs": [],
   "source": [
    "my_list = [5,10,15,20,25]"
   ]
  },
  {
   "cell_type": "code",
   "execution_count": 6,
   "id": "a6dc7727",
   "metadata": {},
   "outputs": [
    {
     "data": {
      "text/plain": [
       "array([ 5, 10, 15, 20, 25])"
      ]
     },
     "execution_count": 6,
     "metadata": {},
     "output_type": "execute_result"
    }
   ],
   "source": [
    "np.array(my_list)"
   ]
  },
  {
   "cell_type": "code",
   "execution_count": 7,
   "id": "3eea684e",
   "metadata": {},
   "outputs": [
    {
     "data": {
      "text/plain": [
       "array([ 5, 10, 15, 20, 25])"
      ]
     },
     "execution_count": 7,
     "metadata": {},
     "output_type": "execute_result"
    }
   ],
   "source": [
    "np.arange(5,26,5)"
   ]
  },
  {
   "cell_type": "code",
   "execution_count": 8,
   "id": "c6bf25a2",
   "metadata": {},
   "outputs": [
    {
     "data": {
      "text/plain": [
       "array([[0., 0., 0., 0., 0.],\n",
       "       [0., 0., 0., 0., 0.],\n",
       "       [0., 0., 0., 0., 0.],\n",
       "       [0., 0., 0., 0., 0.],\n",
       "       [0., 0., 0., 0., 0.]])"
      ]
     },
     "execution_count": 8,
     "metadata": {},
     "output_type": "execute_result"
    }
   ],
   "source": [
    "np.zeros((5,5))"
   ]
  },
  {
   "cell_type": "code",
   "execution_count": 11,
   "id": "b00a089a",
   "metadata": {},
   "outputs": [
    {
     "data": {
      "text/plain": [
       "array([[0., 0., 0., 0., 0.],\n",
       "       [0., 0., 0., 0., 0.],\n",
       "       [0., 0., 0., 0., 0.],\n",
       "       [0., 0., 0., 0., 0.],\n",
       "       [0., 0., 0., 0., 0.]])"
      ]
     },
     "execution_count": 11,
     "metadata": {},
     "output_type": "execute_result"
    }
   ],
   "source": [
    "np.empty((5, 5))"
   ]
  },
  {
   "cell_type": "code",
   "execution_count": 10,
   "id": "ca2565f0",
   "metadata": {},
   "outputs": [
    {
     "data": {
      "text/plain": [
       "array([[1, 1, 1, 1],\n",
       "       [1, 1, 1, 1],\n",
       "       [1, 1, 1, 1],\n",
       "       [1, 1, 1, 1]])"
      ]
     },
     "execution_count": 10,
     "metadata": {},
     "output_type": "execute_result"
    }
   ],
   "source": [
    "np.ones((4,4),dtype=int)"
   ]
  },
  {
   "cell_type": "code",
   "execution_count": 13,
   "id": "79d06d85",
   "metadata": {},
   "outputs": [
    {
     "data": {
      "text/plain": [
       "array([[7, 7, 7, 7],\n",
       "       [7, 7, 7, 7],\n",
       "       [7, 7, 7, 7],\n",
       "       [7, 7, 7, 7]])"
      ]
     },
     "execution_count": 13,
     "metadata": {},
     "output_type": "execute_result"
    }
   ],
   "source": [
    "np.full((4,4),7)"
   ]
  },
  {
   "cell_type": "code",
   "execution_count": 15,
   "id": "0914f258",
   "metadata": {},
   "outputs": [
    {
     "data": {
      "text/plain": [
       "array([ 2,  4,  6,  8, 10, 12, 14, 16])"
      ]
     },
     "execution_count": 15,
     "metadata": {},
     "output_type": "execute_result"
    }
   ],
   "source": [
    "np.array(range(2,17,2))"
   ]
  },
  {
   "cell_type": "code",
   "execution_count": 21,
   "id": "e1686a52",
   "metadata": {},
   "outputs": [
    {
     "data": {
      "text/plain": [
       "array([[ 0,  1,  2,  3,  4],\n",
       "       [ 5,  6,  7,  8,  9],\n",
       "       [10, 11, 12, 13, 14],\n",
       "       [15, 16, 17, 18, 19],\n",
       "       [20, 21, 22, 23, 24]])"
      ]
     },
     "execution_count": 21,
     "metadata": {},
     "output_type": "execute_result"
    }
   ],
   "source": [
    "np.array(range(0,25)).reshape(5,5)"
   ]
  },
  {
   "cell_type": "code",
   "execution_count": 22,
   "id": "c07cb217",
   "metadata": {},
   "outputs": [
    {
     "data": {
      "text/plain": [
       "array([[ 0,  1,  2,  3,  4],\n",
       "       [ 5,  6,  7,  8,  9],\n",
       "       [10, 11, 12, 13, 14],\n",
       "       [15, 16, 17, 18, 19],\n",
       "       [20, 21, 22, 23, 24]])"
      ]
     },
     "execution_count": 22,
     "metadata": {},
     "output_type": "execute_result"
    }
   ],
   "source": [
    "np.linspace(start = [0,5,10,15,20], stop= [4, 9,14,19,24], num = 5, dtype = int, axis = 1)"
   ]
  },
  {
   "cell_type": "code",
   "execution_count": 30,
   "id": "a1dd6a5a",
   "metadata": {},
   "outputs": [
    {
     "data": {
      "text/plain": [
       "array([[0.3011468 , 0.89835037, 0.52899779, 0.83535008, 0.84126445],\n",
       "       [0.78048041, 0.10947808, 0.85883259, 0.49896627, 0.08632452],\n",
       "       [0.10094109, 0.39265967, 0.62171535, 0.16896445, 0.27270327],\n",
       "       [0.640535  , 0.70198453, 0.26555257, 0.51774506, 0.67888057],\n",
       "       [0.55283117, 0.01777479, 0.61552199, 0.41870906, 0.53200866]])"
      ]
     },
     "execution_count": 30,
     "metadata": {},
     "output_type": "execute_result"
    }
   ],
   "source": [
    "np.random.rand(25).reshape(5,5)"
   ]
  },
  {
   "cell_type": "code",
   "execution_count": 37,
   "id": "3a2fbe9d",
   "metadata": {},
   "outputs": [
    {
     "data": {
      "text/plain": [
       "array([[24, 27, 27, 49],\n",
       "       [37, 29, 27, 33],\n",
       "       [42, 47, 21, 43]])"
      ]
     },
     "execution_count": 37,
     "metadata": {},
     "output_type": "execute_result"
    }
   ],
   "source": [
    "np.random.randint(20,50, size = (3,4))"
   ]
  },
  {
   "cell_type": "code",
   "execution_count": 39,
   "id": "7009551e",
   "metadata": {},
   "outputs": [
    {
     "data": {
      "text/plain": [
       "array([28, 15, 15, 40, 49, 11, 16,  8, 29, 22, 22, 23, 40, 13, 24,  5, 30,\n",
       "        5, 23,  1, 25, 23, 42, 31, 32, 17,  1, 35, 42, 15, 26, 10,  2, 43,\n",
       "       41, 34, 30, 37, 13, 36, 24, 17, 24, 31,  9, 23, 26,  3])"
      ]
     },
     "execution_count": 39,
     "metadata": {},
     "output_type": "execute_result"
    }
   ],
   "source": [
    "ranarr = np.random.randint(1,50,48)\n",
    "ranarr"
   ]
  },
  {
   "cell_type": "code",
   "execution_count": 40,
   "id": "bbe548d7",
   "metadata": {},
   "outputs": [
    {
     "data": {
      "text/plain": [
       "array([[28, 15, 15, 40, 49, 11, 16,  8],\n",
       "       [29, 22, 22, 23, 40, 13, 24,  5],\n",
       "       [30,  5, 23,  1, 25, 23, 42, 31],\n",
       "       [32, 17,  1, 35, 42, 15, 26, 10],\n",
       "       [ 2, 43, 41, 34, 30, 37, 13, 36],\n",
       "       [24, 17, 24, 31,  9, 23, 26,  3]])"
      ]
     },
     "execution_count": 40,
     "metadata": {},
     "output_type": "execute_result"
    }
   ],
   "source": [
    "ranarr.reshape(6,8)"
   ]
  },
  {
   "cell_type": "code",
   "execution_count": 41,
   "id": "b911a11c",
   "metadata": {},
   "outputs": [
    {
     "data": {
      "text/plain": [
       "array([[28, 15, 15, 40, 49, 11, 16,  8],\n",
       "       [29, 22, 22, 23, 40, 13, 24,  5],\n",
       "       [30,  5, 23,  1, 25, 23, 42, 31],\n",
       "       [32, 17,  1, 35, 42, 15, 26, 10],\n",
       "       [ 2, 43, 41, 34, 30, 37, 13, 36],\n",
       "       [24, 17, 24, 31,  9, 23, 26,  3]])"
      ]
     },
     "execution_count": 41,
     "metadata": {},
     "output_type": "execute_result"
    }
   ],
   "source": [
    "ranarr.reshape(6,-1)  ## 6 ya uygun ayarlama yapar(-1 çarpmayı tamamlar)"
   ]
  },
  {
   "cell_type": "code",
   "execution_count": 42,
   "id": "e5d0c12e",
   "metadata": {},
   "outputs": [
    {
     "data": {
      "text/plain": [
       "array([[28, 15, 15, 40, 49, 11],\n",
       "       [16,  8, 29, 22, 22, 23],\n",
       "       [40, 13, 24,  5, 30,  5],\n",
       "       [23,  1, 25, 23, 42, 31],\n",
       "       [32, 17,  1, 35, 42, 15],\n",
       "       [26, 10,  2, 43, 41, 34],\n",
       "       [30, 37, 13, 36, 24, 17],\n",
       "       [24, 31,  9, 23, 26,  3]])"
      ]
     },
     "execution_count": 42,
     "metadata": {},
     "output_type": "execute_result"
    }
   ],
   "source": [
    "ranarr.reshape(8,-1)"
   ]
  },
  {
   "cell_type": "code",
   "execution_count": 44,
   "id": "90fead45",
   "metadata": {},
   "outputs": [
    {
     "data": {
      "text/plain": [
       "array([[ 1,  2,  3,  4],\n",
       "       [ 5,  6,  7,  8],\n",
       "       [ 9, 10, 11, 12],\n",
       "       [13, 14, 15, 16]])"
      ]
     },
     "execution_count": 44,
     "metadata": {},
     "output_type": "execute_result"
    }
   ],
   "source": [
    "mat  =np.arange(1,17).reshape(4,4)\n",
    "mat"
   ]
  },
  {
   "cell_type": "code",
   "execution_count": 47,
   "id": "6ac380e4",
   "metadata": {},
   "outputs": [
    {
     "data": {
      "text/plain": [
       "array([[ 6,  7],\n",
       "       [10, 11]])"
      ]
     },
     "execution_count": 47,
     "metadata": {},
     "output_type": "execute_result"
    }
   ],
   "source": [
    "mat[1:3,1:3]"
   ]
  },
  {
   "cell_type": "code",
   "execution_count": 48,
   "id": "6b100def",
   "metadata": {},
   "outputs": [
    {
     "data": {
      "text/plain": [
       "array([[ 6,  7],\n",
       "       [10, 11]])"
      ]
     },
     "execution_count": 48,
     "metadata": {},
     "output_type": "execute_result"
    }
   ],
   "source": [
    "mat[[1, 2], 1:3]"
   ]
  },
  {
   "cell_type": "code",
   "execution_count": 53,
   "id": "2e47407f",
   "metadata": {},
   "outputs": [
    {
     "data": {
      "text/plain": [
       "array([5, 7])"
      ]
     },
     "execution_count": 53,
     "metadata": {},
     "output_type": "execute_result"
    }
   ],
   "source": [
    "mat[1,::2]"
   ]
  },
  {
   "cell_type": "code",
   "execution_count": 54,
   "id": "045f3c02",
   "metadata": {},
   "outputs": [
    {
     "data": {
      "text/plain": [
       "array([5, 7])"
      ]
     },
     "execution_count": 54,
     "metadata": {},
     "output_type": "execute_result"
    }
   ],
   "source": [
    "mat[1][::2]"
   ]
  },
  {
   "cell_type": "code",
   "execution_count": 57,
   "id": "8c9dd495",
   "metadata": {},
   "outputs": [
    {
     "data": {
      "text/plain": [
       "array([[ 5,  7],\n",
       "       [13, 15]])"
      ]
     },
     "execution_count": 57,
     "metadata": {},
     "output_type": "execute_result"
    }
   ],
   "source": [
    "mat[1::2, ::2]"
   ]
  },
  {
   "cell_type": "code",
   "execution_count": 59,
   "id": "380c69cc",
   "metadata": {},
   "outputs": [
    {
     "data": {
      "text/plain": [
       "array([1, 2, 3, 4, 5, 6, 7, 8, 9])"
      ]
     },
     "execution_count": 59,
     "metadata": {},
     "output_type": "execute_result"
    }
   ],
   "source": [
    "mat[mat<10]"
   ]
  },
  {
   "cell_type": "code",
   "execution_count": 62,
   "id": "2effd18d",
   "metadata": {},
   "outputs": [
    {
     "data": {
      "text/plain": [
       "array([13, 14, 15, 16])"
      ]
     },
     "execution_count": 62,
     "metadata": {},
     "output_type": "execute_result"
    }
   ],
   "source": [
    "mat[mat>12]"
   ]
  },
  {
   "cell_type": "code",
   "execution_count": 63,
   "id": "70b24b12",
   "metadata": {},
   "outputs": [
    {
     "ename": "ValueError",
     "evalue": "operands could not be broadcast together with shapes (9,) (4,) ",
     "output_type": "error",
     "traceback": [
      "\u001b[1;31m---------------------------------------------------------------------------\u001b[0m",
      "\u001b[1;31mValueError\u001b[0m                                Traceback (most recent call last)",
      "Input \u001b[1;32mIn [63]\u001b[0m, in \u001b[0;36m<cell line: 1>\u001b[1;34m()\u001b[0m\n\u001b[1;32m----> 1\u001b[0m \u001b[43mmat\u001b[49m\u001b[43m[\u001b[49m\u001b[43mmat\u001b[49m\u001b[38;5;241;43m<\u001b[39;49m\u001b[38;5;241;43m10\u001b[39;49m\u001b[43m]\u001b[49m\u001b[43m \u001b[49m\u001b[38;5;241;43m+\u001b[39;49m\u001b[43m \u001b[49m\u001b[43mmat\u001b[49m\u001b[43m[\u001b[49m\u001b[43mmat\u001b[49m\u001b[38;5;241;43m>\u001b[39;49m\u001b[38;5;241;43m12\u001b[39;49m\u001b[43m]\u001b[49m\n",
      "\u001b[1;31mValueError\u001b[0m: operands could not be broadcast together with shapes (9,) (4,) "
     ]
    }
   ],
   "source": [
    "mat[mat<10] + mat[mat>12]"
   ]
  },
  {
   "cell_type": "code",
   "execution_count": null,
   "id": "b982e18b",
   "metadata": {},
   "outputs": [],
   "source": [
    "df.TotalPayBenefits[2:3]"
   ]
  },
  {
   "cell_type": "code",
   "execution_count": null,
   "id": "24aa5520",
   "metadata": {},
   "outputs": [],
   "source": [
    "df[“JobTitle”].value_counts().tail(3)"
   ]
  },
  {
   "cell_type": "code",
   "execution_count": null,
   "id": "37daaf7f",
   "metadata": {},
   "outputs": [],
   "source": [
    "liste=[]\n",
    "for i in df[df[\"Year\"]==2012][\"TotalPayBenefits\"]:\n",
    "    if i > df[\"TotalPayBenefits\"].mean():\n",
    "        liste.append(i)\n",
    "len(liste)"
   ]
  },
  {
   "cell_type": "code",
   "execution_count": null,
   "id": "4f93bd6a",
   "metadata": {},
   "outputs": [],
   "source": [
    "sal_new = df.iloc[:, 1:4]\n",
    "sal_new"
   ]
  },
  {
   "cell_type": "code",
   "execution_count": null,
   "id": "9f066e9b",
   "metadata": {},
   "outputs": [],
   "source": []
  },
  {
   "cell_type": "code",
   "execution_count": null,
   "id": "a2222367",
   "metadata": {},
   "outputs": [],
   "source": []
  }
 ],
 "metadata": {
  "kernelspec": {
   "display_name": "Python 3 (ipykernel)",
   "language": "python",
   "name": "python3"
  },
  "language_info": {
   "codemirror_mode": {
    "name": "ipython",
    "version": 3
   },
   "file_extension": ".py",
   "mimetype": "text/x-python",
   "name": "python",
   "nbconvert_exporter": "python",
   "pygments_lexer": "ipython3",
   "version": "3.9.12"
  }
 },
 "nbformat": 4,
 "nbformat_minor": 5
}
