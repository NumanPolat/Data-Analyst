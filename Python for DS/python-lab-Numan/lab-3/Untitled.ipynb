{
 "cells": [
  {
   "cell_type": "markdown",
   "id": "8f34e672",
   "metadata": {},
   "source": [
    "Task 1"
   ]
  },
  {
   "cell_type": "code",
   "execution_count": 2,
   "id": "48180af7",
   "metadata": {},
   "outputs": [
    {
     "name": "stdout",
     "output_type": "stream",
     "text": [
      "[1, 2, 3, 5, 8, 13]\n"
     ]
    }
   ],
   "source": [
    "liste = [1,2,3]\n",
    "liste.append(liste[-2] + liste[-1])\n",
    "liste.append(liste[-2] + liste[-1])\n",
    "liste.append(liste[-2] + liste[-1])\n",
    "print(liste)"
   ]
  },
  {
   "cell_type": "markdown",
   "id": "267239c9",
   "metadata": {},
   "source": [
    "    Task 2\n",
    " ilk n doğal sayının karelerinin toplamı     (n(n+1)(2n+1)) /6"
   ]
  },
  {
   "cell_type": "code",
   "execution_count": 8,
   "id": "8756fd7a",
   "metadata": {},
   "outputs": [
    {
     "ename": "SyntaxError",
     "evalue": "invalid syntax (2913998957.py, line 3)",
     "output_type": "error",
     "traceback": [
      "\u001b[1;36m  Input \u001b[1;32mIn [8]\u001b[1;36m\u001b[0m\n\u001b[1;33m    print(f\"the sum of swuares of firdt {n} number equal to:\", sum_of_squares )\u001b[0m\n\u001b[1;37m    ^\u001b[0m\n\u001b[1;31mSyntaxError\u001b[0m\u001b[1;31m:\u001b[0m invalid syntax\n"
     ]
    }
   ],
   "source": [
    "n = int(input(\"give me a natural number to calculate sum of squares of firdt n  number: \"))\n",
    "sum_of_squares =  int((n* (n+1) * (2* (n+1)))\n",
    "print(f\"the sum of squares of firdt {n} number equal to:\", sum_of_squares )"
   ]
  },
  {
   "cell_type": "markdown",
   "id": "c309d942",
   "metadata": {},
   "source": [
    "Task 3\n",
    "girilen sayının tek veya çift olma durumunu, ayurıca bu sayının 3e bölüüp bölünememe durumunu ekrana yazdıran bir program yazınız."
   ]
  },
  {
   "cell_type": "code",
   "execution_count": 10,
   "id": "b4d6884c",
   "metadata": {},
   "outputs": [
    {
     "name": "stdout",
     "output_type": "stream",
     "text": [
      "give a number: 55\n",
      " 55 is an odd nnumebr  and it can be not be divided into3 \n"
     ]
    }
   ],
   "source": [
    "number= int(input(\"give a number: \"))\n",
    "text1 = \"is an odd number\"\n",
    "text2 = \"is an even number\"\n",
    "text3 = \"and it can be not be divided into3\"\n",
    "text4 = \"and it can be divided into 3\"\n",
    "print(f\" {number}\", f\"{int(bool(number % 2)) * text1}\", f\"{int(not bool(number % 2)) * text2}\", f\"{int(bool(number % 3)) * text3}\",\n",
    "     f\"{int(not bool(number % 3)) * text3}\")\n"
   ]
  },
  {
   "cell_type": "markdown",
   "id": "cbecb061",
   "metadata": {},
   "source": [
    "Task-4\n",
    "dairenin alanını \"math\" kütüphanesi ile hesaplayan kod"
   ]
  },
  {
   "cell_type": "code",
   "execution_count": null,
   "id": "481735c6",
   "metadata": {},
   "outputs": [],
   "source": [
    "r = 5\n",
    "pi = 3.14\n",
    "square_of_circle = pi * r ** 2\n"
   ]
  },
  {
   "cell_type": "code",
   "execution_count": 12,
   "id": "b97ae040",
   "metadata": {},
   "outputs": [],
   "source": [
    "import math \n"
   ]
  },
  {
   "cell_type": "code",
   "execution_count": 13,
   "id": "33019558",
   "metadata": {},
   "outputs": [
    {
     "data": {
      "text/plain": [
       "3.141592653589793"
      ]
     },
     "execution_count": 13,
     "metadata": {},
     "output_type": "execute_result"
    }
   ],
   "source": [
    "math.pi"
   ]
  },
  {
   "cell_type": "code",
   "execution_count": 15,
   "id": "60ad7d4e",
   "metadata": {},
   "outputs": [
    {
     "data": {
      "text/plain": [
       "8.0"
      ]
     },
     "execution_count": 15,
     "metadata": {},
     "output_type": "execute_result"
    }
   ],
   "source": [
    "math.pow(2, 3)"
   ]
  },
  {
   "cell_type": "code",
   "execution_count": 18,
   "id": "88fd72e4",
   "metadata": {},
   "outputs": [
    {
     "ename": "TypeError",
     "evalue": "pow expected 2 arguments, got 1",
     "output_type": "error",
     "traceback": [
      "\u001b[1;31m---------------------------------------------------------------------------\u001b[0m",
      "\u001b[1;31mTypeError\u001b[0m                                 Traceback (most recent call last)",
      "Input \u001b[1;32mIn [18]\u001b[0m, in \u001b[0;36m<cell line: 2>\u001b[1;34m()\u001b[0m\n\u001b[0;32m      1\u001b[0m r \u001b[38;5;241m=\u001b[39m \u001b[38;5;241m5\u001b[39m\n\u001b[1;32m----> 2\u001b[0m area \u001b[38;5;241m=\u001b[39m \u001b[43mmath\u001b[49m\u001b[38;5;241;43m.\u001b[39;49m\u001b[43mpow\u001b[49m\u001b[43m(\u001b[49m\u001b[43mmath\u001b[49m\u001b[38;5;241;43m.\u001b[39;49m\u001b[43mpi\u001b[49m\u001b[43m \u001b[49m\u001b[38;5;241;43m*\u001b[39;49m\u001b[43m \u001b[49m\u001b[43mr\u001b[49m\u001b[43m)\u001b[49m\n",
      "\u001b[1;31mTypeError\u001b[0m: pow expected 2 arguments, got 1"
     ]
    }
   ],
   "source": [
    "r = 5\n",
    "area = math.pow(math.pi * r)"
   ]
  },
  {
   "cell_type": "code",
   "execution_count": null,
   "id": "160ad76c",
   "metadata": {},
   "outputs": [],
   "source": []
  }
 ],
 "metadata": {
  "kernelspec": {
   "display_name": "Python 3 (ipykernel)",
   "language": "python",
   "name": "python3"
  },
  "language_info": {
   "codemirror_mode": {
    "name": "ipython",
    "version": 3
   },
   "file_extension": ".py",
   "mimetype": "text/x-python",
   "name": "python",
   "nbconvert_exporter": "python",
   "pygments_lexer": "ipython3",
   "version": "3.9.12"
  }
 },
 "nbformat": 4,
 "nbformat_minor": 5
}
