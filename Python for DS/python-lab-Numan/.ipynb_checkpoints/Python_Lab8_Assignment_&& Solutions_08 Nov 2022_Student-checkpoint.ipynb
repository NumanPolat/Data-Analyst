{
 "cells": [
  {
   "cell_type": "code",
   "execution_count": 9,
   "id": "51bfb842",
   "metadata": {},
   "outputs": [],
   "source": [
    "command =  [\"right 20\", \"right 30\", \"left 50\", \"up 10\", \"down 20\"]"
   ]
  },
  {
   "cell_type": "code",
   "execution_count": 10,
   "id": "c17d94dd",
   "metadata": {},
   "outputs": [],
   "source": [
    "x=y=0"
   ]
  },
  {
   "cell_type": "code",
   "execution_count": 11,
   "id": "97ba3586",
   "metadata": {},
   "outputs": [
    {
     "data": {
      "text/plain": [
       "['down', '20']"
      ]
     },
     "execution_count": 11,
     "metadata": {},
     "output_type": "execute_result"
    }
   ],
   "source": [
    "command[-1].split()"
   ]
  },
  {
   "cell_type": "code",
   "execution_count": 12,
   "id": "988f2f43",
   "metadata": {},
   "outputs": [
    {
     "data": {
      "text/plain": [
       "'down'"
      ]
     },
     "execution_count": 12,
     "metadata": {},
     "output_type": "execute_result"
    }
   ],
   "source": [
    "command[-1].split()[0]"
   ]
  },
  {
   "cell_type": "code",
   "execution_count": 13,
   "id": "991ba752",
   "metadata": {},
   "outputs": [
    {
     "data": {
      "text/plain": [
       "'20'"
      ]
     },
     "execution_count": 13,
     "metadata": {},
     "output_type": "execute_result"
    }
   ],
   "source": [
    "command[-1].split()[1]"
   ]
  },
  {
   "cell_type": "code",
   "execution_count": 14,
   "id": "c0415e5d",
   "metadata": {},
   "outputs": [
    {
     "data": {
      "text/plain": [
       "[0, 1, 2, 3, 4]"
      ]
     },
     "execution_count": 14,
     "metadata": {},
     "output_type": "execute_result"
    }
   ],
   "source": [
    "list(range(len(command)))"
   ]
  },
  {
   "cell_type": "code",
   "execution_count": 18,
   "id": "0ae643d7",
   "metadata": {},
   "outputs": [
    {
     "ename": "ValueError",
     "evalue": "invalid literal for int() with base 10: 'right'",
     "output_type": "error",
     "traceback": [
      "\u001b[1;31m---------------------------------------------------------------------------\u001b[0m",
      "\u001b[1;31mValueError\u001b[0m                                Traceback (most recent call last)",
      "Input \u001b[1;32mIn [18]\u001b[0m, in \u001b[0;36m<cell line: 1>\u001b[1;34m()\u001b[0m\n\u001b[0;32m      1\u001b[0m \u001b[38;5;28;01mfor\u001b[39;00m i \u001b[38;5;129;01min\u001b[39;00m \u001b[38;5;28mrange\u001b[39m(\u001b[38;5;28mlen\u001b[39m(command)):\n\u001b[1;32m----> 2\u001b[0m     \u001b[38;5;28;01mif\u001b[39;00m command[i]\u001b[38;5;241m.\u001b[39mstartswith(\u001b[38;5;124m\"\u001b[39m\u001b[38;5;124mr\u001b[39m\u001b[38;5;124m\"\u001b[39m): x \u001b[38;5;241m=\u001b[39m x \u001b[38;5;241m+\u001b[39m \u001b[38;5;28mint\u001b[39m(command[i]\u001b[38;5;241m.\u001b[39msplit()[i])\n\u001b[0;32m      3\u001b[0m     \u001b[38;5;28;01melif\u001b[39;00m command[i]\u001b[38;5;241m.\u001b[39mstartswith(\u001b[38;5;124m\"\u001b[39m\u001b[38;5;124ml\u001b[39m\u001b[38;5;124m\"\u001b[39m): x \u001b[38;5;241m=\u001b[39m x \u001b[38;5;241m-\u001b[39m \u001b[38;5;28mint\u001b[39m(command[i]\u001b[38;5;241m.\u001b[39msplit()[i])\n\u001b[0;32m      4\u001b[0m     \u001b[38;5;28;01melif\u001b[39;00m command[i]\u001b[38;5;241m.\u001b[39mstartswith(\u001b[38;5;124m\"\u001b[39m\u001b[38;5;124mu\u001b[39m\u001b[38;5;124m\"\u001b[39m): y \u001b[38;5;241m=\u001b[39m y \u001b[38;5;241m+\u001b[39m \u001b[38;5;28mint\u001b[39m(command[i]\u001b[38;5;241m.\u001b[39msplit()[i])\n",
      "\u001b[1;31mValueError\u001b[0m: invalid literal for int() with base 10: 'right'"
     ]
    }
   ],
   "source": [
    "for i in range(len(command)):\n",
    "    if command[i].startswith(\"r\"): x = x + int(command[i].split()[i])\n",
    "    elif command[i].startswith(\"l\"): x = x - int(command[i].split()[i])\n",
    "    elif command[i].startswith(\"u\"): y = y + int(command[i].split()[i])\n",
    "    elif command[i].startswith(\"d\"): y = y - int(command[i].split()[i])\n",
    "\n",
    "[x, y]\n",
    "        "
   ]
  },
  {
   "cell_type": "code",
   "execution_count": 23,
   "id": "fb081dd5",
   "metadata": {},
   "outputs": [
    {
     "data": {
      "text/plain": [
       "False"
      ]
     },
     "execution_count": 23,
     "metadata": {},
     "output_type": "execute_result"
    }
   ],
   "source": [
    "a = \"[({})]\"\n",
    "\"{}\" in a.replace(\"{}\", \"[]\")"
   ]
  },
  {
   "cell_type": "code",
   "execution_count": 26,
   "id": "5c9a45ae",
   "metadata": {},
   "outputs": [
    {
     "data": {
      "text/plain": [
       "'[([])]'"
      ]
     },
     "execution_count": 26,
     "metadata": {},
     "output_type": "execute_result"
    }
   ],
   "source": [
    "a = \"[({})]\".replace(\"{}\", \"[]\")\n",
    "a"
   ]
  },
  {
   "cell_type": "code",
   "execution_count": 27,
   "id": "f6b1edf0",
   "metadata": {},
   "outputs": [],
   "source": [
    "s= \"[([{({})}])]\""
   ]
  },
  {
   "cell_type": "code",
   "execution_count": 28,
   "id": "71965ce2",
   "metadata": {},
   "outputs": [],
   "source": [
    "def isValid(s):\n",
    "    while \"()\" in s or \"[]\" in s or \"{}\" in  s :\n",
    "        s.replace(\"()\", \"\").replace(\"[]\", \"\").replace(\"{}\", \"\")\n",
    "    return s == \"\""
   ]
  },
  {
   "cell_type": "code",
   "execution_count": null,
   "id": "0f697d17",
   "metadata": {},
   "outputs": [],
   "source": []
  },
  {
   "cell_type": "code",
   "execution_count": null,
   "id": "eaee364e",
   "metadata": {},
   "outputs": [],
   "source": []
  },
  {
   "cell_type": "code",
   "execution_count": null,
   "id": "dd12f16c",
   "metadata": {},
   "outputs": [],
   "source": []
  },
  {
   "cell_type": "code",
   "execution_count": null,
   "id": "465edf6a",
   "metadata": {},
   "outputs": [],
   "source": []
  },
  {
   "cell_type": "code",
   "execution_count": null,
   "id": "27634793",
   "metadata": {},
   "outputs": [],
   "source": []
  },
  {
   "cell_type": "code",
   "execution_count": null,
   "id": "048e262e",
   "metadata": {},
   "outputs": [],
   "source": []
  },
  {
   "cell_type": "code",
   "execution_count": null,
   "id": "6a7f7358",
   "metadata": {},
   "outputs": [],
   "source": []
  }
 ],
 "metadata": {
  "kernelspec": {
   "display_name": "Python 3 (ipykernel)",
   "language": "python",
   "name": "python3"
  },
  "language_info": {
   "codemirror_mode": {
    "name": "ipython",
    "version": 3
   },
   "file_extension": ".py",
   "mimetype": "text/x-python",
   "name": "python",
   "nbconvert_exporter": "python",
   "pygments_lexer": "ipython3",
   "version": "3.9.12"
  }
 },
 "nbformat": 4,
 "nbformat_minor": 5
}
