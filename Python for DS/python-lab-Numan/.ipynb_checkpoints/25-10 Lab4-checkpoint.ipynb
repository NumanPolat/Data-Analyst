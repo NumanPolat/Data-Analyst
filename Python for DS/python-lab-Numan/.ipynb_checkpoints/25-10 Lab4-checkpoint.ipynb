{
 "cells": [
  {
   "cell_type": "markdown",
   "id": "a50591ac",
   "metadata": {},
   "source": [
    "Assigment-6"
   ]
  },
  {
   "cell_type": "code",
   "execution_count": 1,
   "id": "ac6594c3",
   "metadata": {},
   "outputs": [],
   "source": [
    "numbers = [1, 3, 7, 4, 6, 3, 0, 3, 6, 3, 7, 6, 6]       #itrerable ları alıp  döndürebilir."
   ]
  },
  {
   "cell_type": "code",
   "execution_count": 2,
   "id": "49875f1f",
   "metadata": {},
   "outputs": [
    {
     "data": {
      "text/plain": [
       "7"
      ]
     },
     "execution_count": 2,
     "metadata": {},
     "output_type": "execute_result"
    }
   ],
   "source": [
    "max(numbers)"
   ]
  },
  {
   "cell_type": "code",
   "execution_count": 3,
   "id": "761368ee",
   "metadata": {},
   "outputs": [
    {
     "data": {
      "text/plain": [
       "35"
      ]
     },
     "execution_count": 3,
     "metadata": {},
     "output_type": "execute_result"
    }
   ],
   "source": [
    "max(11, 8, 35)         # şeklinde içine arg atıp da en büyüğünü döndürebilir"
   ]
  },
  {
   "cell_type": "code",
   "execution_count": 4,
   "id": "a3709ffc",
   "metadata": {},
   "outputs": [],
   "source": [
    "empty = []"
   ]
  },
  {
   "cell_type": "code",
   "execution_count": 5,
   "id": "b827dbc9",
   "metadata": {},
   "outputs": [
    {
     "ename": "ValueError",
     "evalue": "max() arg is an empty sequence",
     "output_type": "error",
     "traceback": [
      "\u001b[1;31m---------------------------------------------------------------------------\u001b[0m",
      "\u001b[1;31mValueError\u001b[0m                                Traceback (most recent call last)",
      "Input \u001b[1;32mIn [5]\u001b[0m, in \u001b[0;36m<cell line: 1>\u001b[1;34m()\u001b[0m\n\u001b[1;32m----> 1\u001b[0m \u001b[38;5;28;43mmax\u001b[39;49m\u001b[43m(\u001b[49m\u001b[43mempty\u001b[49m\u001b[43m)\u001b[49m\n",
      "\u001b[1;31mValueError\u001b[0m: max() arg is an empty sequence"
     ]
    }
   ],
   "source": [
    "max(empty)"
   ]
  },
  {
   "cell_type": "code",
   "execution_count": 6,
   "id": "29f52155",
   "metadata": {},
   "outputs": [
    {
     "data": {
      "text/plain": [
       "'boş'"
      ]
     },
     "execution_count": 6,
     "metadata": {},
     "output_type": "execute_result"
    }
   ],
   "source": [
    "max(empty, default = \"boş\")"
   ]
  },
  {
   "cell_type": "code",
   "execution_count": 7,
   "id": "28120283",
   "metadata": {},
   "outputs": [
    {
     "data": {
      "text/plain": [
       "True"
      ]
     },
     "execution_count": 7,
     "metadata": {},
     "output_type": "execute_result"
    }
   ],
   "source": [
    "max(empty, default = True)"
   ]
  },
  {
   "cell_type": "code",
   "execution_count": 9,
   "id": "4cd0aa5b",
   "metadata": {},
   "outputs": [],
   "source": [
    "numbers = [1, 3, 7, 4, 6, 3, 0, 3, 6, 3, 7, 6, 6] "
   ]
  },
  {
   "cell_type": "code",
   "execution_count": 10,
   "id": "e18c0857",
   "metadata": {},
   "outputs": [
    {
     "data": {
      "text/plain": [
       "2"
      ]
     },
     "execution_count": 10,
     "metadata": {},
     "output_type": "execute_result"
    }
   ],
   "source": [
    "numbers.count(7)"
   ]
  },
  {
   "cell_type": "code",
   "execution_count": 23,
   "id": "ce0709fe",
   "metadata": {},
   "outputs": [],
   "source": [
    "a = numbers.count(max(numbers))"
   ]
  },
  {
   "cell_type": "code",
   "execution_count": 24,
   "id": "d3eff623",
   "metadata": {},
   "outputs": [],
   "source": [
    "a = max(numbers, key = numbers.count)             #max fonk iterable içinden bir tane elemanı döndürür."
   ]
  },
  {
   "cell_type": "code",
   "execution_count": 25,
   "id": "8172e328",
   "metadata": {},
   "outputs": [],
   "source": [
    "cnt = numbers.count(max(numbers, key = numbers.count))"
   ]
  },
  {
   "cell_type": "code",
   "execution_count": 27,
   "id": "3d28522d",
   "metadata": {},
   "outputs": [
    {
     "name": "stdout",
     "output_type": "stream",
     "text": [
      "The most frequent number is 3 and it was 4 times repeated\n"
     ]
    }
   ],
   "source": [
    "print(f\"The most frequent number is {a} and it was {cnt} times repeated\")"
   ]
  },
  {
   "cell_type": "code",
   "execution_count": 28,
   "id": "89f26dcf",
   "metadata": {},
   "outputs": [],
   "source": [
    "şehirler = [\"istanbul\", \"agrı\", \"ankara\", \"van\"]"
   ]
  },
  {
   "cell_type": "code",
   "execution_count": 29,
   "id": "d8f6bb4a",
   "metadata": {},
   "outputs": [
    {
     "data": {
      "text/plain": [
       "['agrı', 'ankara', 'istanbul', 'van']"
      ]
     },
     "execution_count": 29,
     "metadata": {},
     "output_type": "execute_result"
    }
   ],
   "source": [
    "sorted(şehirler)                      # büyükten küçüğe doğru yada askicode a göre sıralar."
   ]
  },
  {
   "cell_type": "code",
   "execution_count": 30,
   "id": "7046fca7",
   "metadata": {},
   "outputs": [
    {
     "data": {
      "text/plain": [
       "['van', 'agrı', 'ankara', 'istanbul']"
      ]
     },
     "execution_count": 30,
     "metadata": {},
     "output_type": "execute_result"
    }
   ],
   "source": [
    "sorted(şehirler, key = len)         #fonksiyonların çalışma parametrelerini değiştirebiliriz."
   ]
  },
  {
   "cell_type": "markdown",
   "id": "0b4585ce",
   "metadata": {},
   "source": [
    "Assigment-7"
   ]
  },
  {
   "cell_type": "code",
   "execution_count": 31,
   "id": "c3fcdc87",
   "metadata": {},
   "outputs": [],
   "source": [
    "sales = {\"cost_value\": 25.85,\n",
    "        \"sell_value\": 38,\n",
    "        \"invertory\": 5000\n",
    "        }\n"
   ]
  },
  {
   "cell_type": "code",
   "execution_count": 32,
   "id": "78bb6eec",
   "metadata": {},
   "outputs": [
    {
     "data": {
      "text/plain": [
       "38"
      ]
     },
     "execution_count": 32,
     "metadata": {},
     "output_type": "execute_result"
    }
   ],
   "source": [
    "sales[\"sell_value\"]"
   ]
  },
  {
   "cell_type": "code",
   "execution_count": 33,
   "id": "e0748e2b",
   "metadata": {},
   "outputs": [
    {
     "data": {
      "text/plain": [
       "25.85"
      ]
     },
     "execution_count": 33,
     "metadata": {},
     "output_type": "execute_result"
    }
   ],
   "source": [
    "sales[\"cost_value\"]"
   ]
  },
  {
   "cell_type": "code",
   "execution_count": 34,
   "id": "48a3e416",
   "metadata": {},
   "outputs": [
    {
     "data": {
      "text/plain": [
       "5000"
      ]
     },
     "execution_count": 34,
     "metadata": {},
     "output_type": "execute_result"
    }
   ],
   "source": [
    "sales[\"invertory\"]"
   ]
  },
  {
   "cell_type": "code",
   "execution_count": 37,
   "id": "ec9dbf9b",
   "metadata": {},
   "outputs": [
    {
     "name": "stdout",
     "output_type": "stream",
     "text": [
      "60749.99999999999\n",
      "60750\n",
      "60750.0\n"
     ]
    }
   ],
   "source": [
    "total_profit = (sales[\"sell_value\"] - sales[\"cost_value\"]) *  sales[\"invertory\"]\n",
    "print(total_profit)\n",
    "print(round(total_profit))\n",
    "print(round(total_profit, 2))"
   ]
  },
  {
   "cell_type": "code",
   "execution_count": 41,
   "id": "240007a8",
   "metadata": {},
   "outputs": [],
   "source": [
    "payrolls = {\"first\": 3,\n",
    "        \"second\": 29.99,\n",
    "        \"third\": 4.1}\n"
   ]
  },
  {
   "cell_type": "code",
   "execution_count": 43,
   "id": "0f462078",
   "metadata": {},
   "outputs": [
    {
     "name": "stdout",
     "output_type": "stream",
     "text": [
      " $3.00\n",
      " $29.99\n",
      " $4.10\n"
     ]
    }
   ],
   "source": [
    "print(\" ${:.2f}\".format(payrolls[\"first\"]))\n",
    "print(\" ${:.2f}\".format(payrolls[\"second\"]))\n",
    "print(\" ${:.2f}\".format(payrolls[\"third\"]))"
   ]
  },
  {
   "cell_type": "markdown",
   "id": "1609e260",
   "metadata": {},
   "source": [
    "## mutable(değişebilen) & immutable(değişmeyen)"
   ]
  },
  {
   "cell_type": "markdown",
   "id": "598bd3fe",
   "metadata": {},
   "source": [
    "mutable:\n",
    "\n",
    "list\n",
    "dictionary\n",
    "set\n",
    "user-defined classes"
   ]
  },
  {
   "cell_type": "code",
   "execution_count": null,
   "id": "a22d9f2d",
   "metadata": {},
   "outputs": [],
   "source": [
    "immutable:\n",
    "    \n",
    "int                  #hashable\n",
    "float\n",
    "decimal\n",
    "bool\n",
    "string\n",
    "tuple\n",
    "range"
   ]
  },
  {
   "cell_type": "code",
   "execution_count": 45,
   "id": "cccd83f1",
   "metadata": {},
   "outputs": [
    {
     "data": {
      "text/plain": [
       "10"
      ]
     },
     "execution_count": 45,
     "metadata": {},
     "output_type": "execute_result"
    }
   ],
   "source": [
    "sayı = 10\n",
    "hash(sayı)"
   ]
  },
  {
   "cell_type": "code",
   "execution_count": 46,
   "id": "124897ea",
   "metadata": {},
   "outputs": [
    {
     "data": {
      "text/plain": [
       "3936543024611031217"
      ]
     },
     "execution_count": 46,
     "metadata": {},
     "output_type": "execute_result"
    }
   ],
   "source": [
    "hash(\"10\")"
   ]
  },
  {
   "cell_type": "code",
   "execution_count": 47,
   "id": "4566ae61",
   "metadata": {},
   "outputs": [],
   "source": [
    "a = \"10\""
   ]
  },
  {
   "cell_type": "code",
   "execution_count": 48,
   "id": "8c62d90a",
   "metadata": {},
   "outputs": [
    {
     "data": {
      "text/plain": [
       "3936543024611031217"
      ]
     },
     "execution_count": 48,
     "metadata": {},
     "output_type": "execute_result"
    }
   ],
   "source": [
    "hash(a)"
   ]
  },
  {
   "cell_type": "code",
   "execution_count": 49,
   "id": "08cd49d5",
   "metadata": {},
   "outputs": [],
   "source": [
    "listem = [10, 20, 30]"
   ]
  },
  {
   "cell_type": "code",
   "execution_count": null,
   "id": "9c679489",
   "metadata": {},
   "outputs": [],
   "source": []
  },
  {
   "cell_type": "code",
   "execution_count": null,
   "id": "49621baa",
   "metadata": {},
   "outputs": [],
   "source": []
  },
  {
   "cell_type": "code",
   "execution_count": null,
   "id": "fb0a5a0b",
   "metadata": {},
   "outputs": [],
   "source": []
  },
  {
   "cell_type": "code",
   "execution_count": null,
   "id": "70ce82e8",
   "metadata": {},
   "outputs": [],
   "source": []
  },
  {
   "cell_type": "code",
   "execution_count": null,
   "id": "15bd9af8",
   "metadata": {},
   "outputs": [],
   "source": []
  },
  {
   "cell_type": "code",
   "execution_count": null,
   "id": "a2d566fa",
   "metadata": {},
   "outputs": [],
   "source": []
  }
 ],
 "metadata": {
  "kernelspec": {
   "display_name": "Python 3 (ipykernel)",
   "language": "python",
   "name": "python3"
  },
  "language_info": {
   "codemirror_mode": {
    "name": "ipython",
    "version": 3
   },
   "file_extension": ".py",
   "mimetype": "text/x-python",
   "name": "python",
   "nbconvert_exporter": "python",
   "pygments_lexer": "ipython3",
   "version": "3.9.12"
  }
 },
 "nbformat": 4,
 "nbformat_minor": 5
}
