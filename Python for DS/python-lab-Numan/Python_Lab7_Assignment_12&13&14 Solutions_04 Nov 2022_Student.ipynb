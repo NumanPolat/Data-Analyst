{
 "cells": [
  {
   "cell_type": "markdown",
   "id": "761f290e",
   "metadata": {},
   "source": [
    "## Assignment-12"
   ]
  },
  {
   "cell_type": "code",
   "execution_count": null,
   "id": "ea380c8b",
   "metadata": {},
   "outputs": [],
   "source": [
    "while True:\n",
    "    number = input(\"enter a positive number:\")\n",
    "    "
   ]
  },
  {
   "cell_type": "code",
   "execution_count": null,
   "id": "0998c0e3",
   "metadata": {},
   "outputs": [],
   "source": []
  },
  {
   "cell_type": "code",
   "execution_count": 2,
   "id": "b5bb950d",
   "metadata": {},
   "outputs": [
    {
     "data": {
      "text/plain": [
       "True"
      ]
     },
     "execution_count": 2,
     "metadata": {},
     "output_type": "execute_result"
    }
   ],
   "source": [
    "sayı = \"123\"\n",
    "sayı.isdigit()   ## eğer digit string se true değilse false"
   ]
  },
  {
   "cell_type": "code",
   "execution_count": 4,
   "id": "f0419233",
   "metadata": {},
   "outputs": [
    {
     "data": {
      "text/plain": [
       "False"
      ]
     },
     "execution_count": 4,
     "metadata": {},
     "output_type": "execute_result"
    }
   ],
   "source": [
    "\"-123\".isdigit()"
   ]
  },
  {
   "cell_type": "code",
   "execution_count": 6,
   "id": "bf0c49cc",
   "metadata": {},
   "outputs": [
    {
     "data": {
      "text/plain": [
       "False"
      ]
     },
     "execution_count": 6,
     "metadata": {},
     "output_type": "execute_result"
    }
   ],
   "source": [
    "\"123.0\".isdigit()"
   ]
  },
  {
   "cell_type": "code",
   "execution_count": 9,
   "id": "10ca6590",
   "metadata": {},
   "outputs": [
    {
     "name": "stdout",
     "output_type": "stream",
     "text": [
      "enter a positive number:153\n",
      "153 is an Amstrong number\n"
     ]
    }
   ],
   "source": [
    "while True:\n",
    "    number = input(\"enter a positive number:\")\n",
    "    digits = len(number)\n",
    "    sum_ = 0\n",
    "    \n",
    "    if not number.isdigit():\n",
    "        print(number, \"is invalid entry.Please enter a valid input.\")\n",
    "    \n",
    "    elif int(number) >= 0:\n",
    "        for i in range(len(number)):\n",
    "            sum_ = sum_ + int(number[i]) ** digits\n",
    "            \n",
    "        if sum_ == int(number):\n",
    "            print(number, \"is an Amstrong number\")\n",
    "            break\n",
    "        else:\n",
    "            print(number, \"is not an Amstrong number\")\n",
    "            break"
   ]
  },
  {
   "cell_type": "markdown",
   "id": "8098496e",
   "metadata": {},
   "source": [
    "## Assignment-13"
   ]
  },
  {
   "cell_type": "code",
   "execution_count": 12,
   "id": "8b2dbdac",
   "metadata": {},
   "outputs": [
    {
     "name": "stdout",
     "output_type": "stream",
     "text": [
      "enter a positive integer number yo check if it is a Prime number:17\n",
      "17 is a Prime number\n"
     ]
    }
   ],
   "source": [
    "n = int(input(\"enter a positive integer number yo check if it is a Prime number:\"))\n",
    "\n",
    "counter = 0\n",
    "\n",
    "for i in range(1, n+1):\n",
    "    if n % i == 0:\n",
    "        counter +=1\n",
    "if (n ==0) or (n == 1) or counter >= 3:\n",
    "    print(n, \"is not a prime number\")\n",
    "else:\n",
    "    print(n, \"is a Prime number\")"
   ]
  },
  {
   "cell_type": "markdown",
   "id": "cff6b9a0",
   "metadata": {},
   "source": [
    "## Assignment-14"
   ]
  },
  {
   "cell_type": "code",
   "execution_count": 16,
   "id": "de37b401",
   "metadata": {},
   "outputs": [
    {
     "name": "stdout",
     "output_type": "stream",
     "text": [
      "[1, 1, 2, 3, 5, 8, 13, 21, 34, 55]\n"
     ]
    }
   ],
   "source": [
    "fibo = [1,1]\n",
    "\n",
    "for i in range(8):\n",
    "    fibo.append(fibo[i] + fibo[i+1])\n",
    "print(fibo)"
   ]
  },
  {
   "cell_type": "code",
   "execution_count": 17,
   "id": "5ac27068",
   "metadata": {},
   "outputs": [
    {
     "name": "stdout",
     "output_type": "stream",
     "text": [
      "enter a numebr10\n",
      "[1, 1, 2, 3, 5, 8, 13, 21, 34, 55]\n"
     ]
    }
   ],
   "source": [
    "n = int(input(\"enter a numebr\"))\n",
    "fibo = [1,1]\n",
    "\n",
    "for i in range(n-2):\n",
    "    fibo.append(fibo[i] + fibo[i+1])\n",
    "print(fibo)"
   ]
  },
  {
   "cell_type": "code",
   "execution_count": null,
   "id": "d4d433e5",
   "metadata": {},
   "outputs": [],
   "source": []
  },
  {
   "cell_type": "code",
   "execution_count": null,
   "id": "168cd740",
   "metadata": {},
   "outputs": [],
   "source": []
  },
  {
   "cell_type": "code",
   "execution_count": null,
   "id": "27d4fb6f",
   "metadata": {},
   "outputs": [],
   "source": []
  }
 ],
 "metadata": {
  "kernelspec": {
   "display_name": "Python 3 (ipykernel)",
   "language": "python",
   "name": "python3"
  },
  "language_info": {
   "codemirror_mode": {
    "name": "ipython",
    "version": 3
   },
   "file_extension": ".py",
   "mimetype": "text/x-python",
   "name": "python",
   "nbconvert_exporter": "python",
   "pygments_lexer": "ipython3",
   "version": "3.9.12"
  }
 },
 "nbformat": 4,
 "nbformat_minor": 5
}
