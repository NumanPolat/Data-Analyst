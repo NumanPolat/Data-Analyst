{
 "cells": [
  {
   "cell_type": "markdown",
   "id": "69c1f936",
   "metadata": {},
   "source": [
    "Assigment-6"
   ]
  },
  {
   "cell_type": "code",
   "execution_count": 1,
   "id": "c31eb789",
   "metadata": {},
   "outputs": [],
   "source": [
    "numbers = [1, 3, 7, 4, 6, 3, 0, 3, 6, 3, 7, 6, 6]       #itrerable ları alıp  döndürebilir."
   ]
  },
  {
   "cell_type": "code",
   "execution_count": 2,
   "id": "b0f2dc01",
   "metadata": {},
   "outputs": [
    {
     "data": {
      "text/plain": [
       "7"
      ]
     },
     "execution_count": 2,
     "metadata": {},
     "output_type": "execute_result"
    }
   ],
   "source": [
    "max(numbers)"
   ]
  },
  {
   "cell_type": "code",
   "execution_count": 3,
   "id": "ae706e5d",
   "metadata": {},
   "outputs": [
    {
     "data": {
      "text/plain": [
       "35"
      ]
     },
     "execution_count": 3,
     "metadata": {},
     "output_type": "execute_result"
    }
   ],
   "source": [
    "max(11, 8, 35)         # şeklinde içine arg atıp da en büyüğünü döndürebilir"
   ]
  },
  {
   "cell_type": "code",
   "execution_count": 4,
   "id": "23f0e66e",
   "metadata": {},
   "outputs": [],
   "source": [
    "empty = []"
   ]
  },
  {
   "cell_type": "code",
   "execution_count": 5,
   "id": "ce5672d8",
   "metadata": {},
   "outputs": [
    {
     "ename": "ValueError",
     "evalue": "max() arg is an empty sequence",
     "output_type": "error",
     "traceback": [
      "\u001b[1;31m---------------------------------------------------------------------------\u001b[0m",
      "\u001b[1;31mValueError\u001b[0m                                Traceback (most recent call last)",
      "Input \u001b[1;32mIn [5]\u001b[0m, in \u001b[0;36m<cell line: 1>\u001b[1;34m()\u001b[0m\n\u001b[1;32m----> 1\u001b[0m \u001b[38;5;28;43mmax\u001b[39;49m\u001b[43m(\u001b[49m\u001b[43mempty\u001b[49m\u001b[43m)\u001b[49m\n",
      "\u001b[1;31mValueError\u001b[0m: max() arg is an empty sequence"
     ]
    }
   ],
   "source": [
    "max(empty)"
   ]
  },
  {
   "cell_type": "code",
   "execution_count": 6,
   "id": "ca51e210",
   "metadata": {},
   "outputs": [
    {
     "data": {
      "text/plain": [
       "'boş'"
      ]
     },
     "execution_count": 6,
     "metadata": {},
     "output_type": "execute_result"
    }
   ],
   "source": [
    "max(empty, default = \"boş\")"
   ]
  },
  {
   "cell_type": "code",
   "execution_count": 7,
   "id": "01dfa6b6",
   "metadata": {},
   "outputs": [
    {
     "data": {
      "text/plain": [
       "True"
      ]
     },
     "execution_count": 7,
     "metadata": {},
     "output_type": "execute_result"
    }
   ],
   "source": [
    "max(empty, default = True)"
   ]
  },
  {
   "cell_type": "code",
   "execution_count": 9,
   "id": "868b09f8",
   "metadata": {},
   "outputs": [],
   "source": [
    "numbers = [1, 3, 7, 4, 6, 3, 0, 3, 6, 3, 7, 6, 6] "
   ]
  },
  {
   "cell_type": "code",
   "execution_count": 10,
   "id": "e61f05d2",
   "metadata": {},
   "outputs": [
    {
     "data": {
      "text/plain": [
       "2"
      ]
     },
     "execution_count": 10,
     "metadata": {},
     "output_type": "execute_result"
    }
   ],
   "source": [
    "numbers.count(7)"
   ]
  },
  {
   "cell_type": "code",
   "execution_count": 23,
   "id": "8c076e2a",
   "metadata": {},
   "outputs": [],
   "source": [
    "a = numbers.count(max(numbers))"
   ]
  },
  {
   "cell_type": "code",
   "execution_count": 24,
   "id": "e0a10215",
   "metadata": {},
   "outputs": [],
   "source": [
    "a = max(numbers, key = numbers.count)             #max fonk iterable içinden bir tane elemanı döndürür."
   ]
  },
  {
   "cell_type": "code",
   "execution_count": 25,
   "id": "634c9fa4",
   "metadata": {},
   "outputs": [],
   "source": [
    "cnt = numbers.count(max(numbers, key = numbers.count))"
   ]
  },
  {
   "cell_type": "code",
   "execution_count": 27,
   "id": "111383ab",
   "metadata": {},
   "outputs": [
    {
     "name": "stdout",
     "output_type": "stream",
     "text": [
      "The most frequent number is 3 and it was 4 times repeated\n"
     ]
    }
   ],
   "source": [
    "print(f\"The most frequent number is {a} and it was {cnt} times repeated\")"
   ]
  },
  {
   "cell_type": "code",
   "execution_count": 28,
   "id": "c4d23f43",
   "metadata": {},
   "outputs": [],
   "source": [
    "şehirler = [\"istanbul\", \"agrı\", \"ankara\", \"van\"]"
   ]
  },
  {
   "cell_type": "code",
   "execution_count": 29,
   "id": "12cc2137",
   "metadata": {},
   "outputs": [
    {
     "data": {
      "text/plain": [
       "['agrı', 'ankara', 'istanbul', 'van']"
      ]
     },
     "execution_count": 29,
     "metadata": {},
     "output_type": "execute_result"
    }
   ],
   "source": [
    "sorted(şehirler)                      # büyükten küçüğe doğru yada askicode a göre sıralar."
   ]
  },
  {
   "cell_type": "code",
   "execution_count": 30,
   "id": "f46fcba8",
   "metadata": {},
   "outputs": [
    {
     "data": {
      "text/plain": [
       "['van', 'agrı', 'ankara', 'istanbul']"
      ]
     },
     "execution_count": 30,
     "metadata": {},
     "output_type": "execute_result"
    }
   ],
   "source": [
    "sorted(şehirler, key = len)         #fonksiyonların çalışma parametrelerini değiştirebiliriz."
   ]
  },
  {
   "cell_type": "markdown",
   "id": "8ff8567c",
   "metadata": {},
   "source": [
    "Assigment-7"
   ]
  },
  {
   "cell_type": "code",
   "execution_count": 31,
   "id": "fcd1e3f5",
   "metadata": {},
   "outputs": [],
   "source": [
    "sales = {\"cost_value\": 25.85,\n",
    "        \"sell_value\": 38,\n",
    "        \"invertory\": 5000\n",
    "        }\n"
   ]
  },
  {
   "cell_type": "code",
   "execution_count": 32,
   "id": "f8e98659",
   "metadata": {},
   "outputs": [
    {
     "data": {
      "text/plain": [
       "38"
      ]
     },
     "execution_count": 32,
     "metadata": {},
     "output_type": "execute_result"
    }
   ],
   "source": [
    "sales[\"sell_value\"]"
   ]
  },
  {
   "cell_type": "code",
   "execution_count": 33,
   "id": "e47cf0f8",
   "metadata": {},
   "outputs": [
    {
     "data": {
      "text/plain": [
       "25.85"
      ]
     },
     "execution_count": 33,
     "metadata": {},
     "output_type": "execute_result"
    }
   ],
   "source": [
    "sales[\"cost_value\"]"
   ]
  },
  {
   "cell_type": "code",
   "execution_count": 34,
   "id": "fffb34bd",
   "metadata": {},
   "outputs": [
    {
     "data": {
      "text/plain": [
       "5000"
      ]
     },
     "execution_count": 34,
     "metadata": {},
     "output_type": "execute_result"
    }
   ],
   "source": [
    "sales[\"invertory\"]"
   ]
  },
  {
   "cell_type": "code",
   "execution_count": 37,
   "id": "6b0d298e",
   "metadata": {},
   "outputs": [
    {
     "name": "stdout",
     "output_type": "stream",
     "text": [
      "60749.99999999999\n",
      "60750\n",
      "60750.0\n"
     ]
    }
   ],
   "source": [
    "total_profit = (sales[\"sell_value\"] - sales[\"cost_value\"]) *  sales[\"invertory\"]\n",
    "print(total_profit)\n",
    "print(round(total_profit))\n",
    "print(round(total_profit, 2))"
   ]
  },
  {
   "cell_type": "code",
   "execution_count": 41,
   "id": "95b15132",
   "metadata": {},
   "outputs": [],
   "source": [
    "payrolls = {\"first\": 3,\n",
    "        \"second\": 29.99,\n",
    "        \"third\": 4.1}\n"
   ]
  },
  {
   "cell_type": "code",
   "execution_count": 43,
   "id": "947c7ea4",
   "metadata": {},
   "outputs": [
    {
     "name": "stdout",
     "output_type": "stream",
     "text": [
      " $3.00\n",
      " $29.99\n",
      " $4.10\n"
     ]
    }
   ],
   "source": [
    "print(\" ${:.2f}\".format(payrolls[\"first\"]))\n",
    "print(\" ${:.2f}\".format(payrolls[\"second\"]))\n",
    "print(\" ${:.2f}\".format(payrolls[\"third\"]))"
   ]
  },
  {
   "cell_type": "markdown",
   "id": "9caa5239",
   "metadata": {},
   "source": [
    "## mutable(değişebilen) & immutable(değişmeyen)"
   ]
  },
  {
   "cell_type": "markdown",
   "id": "0695152e",
   "metadata": {},
   "source": [
    "mutable:\n",
    "\n",
    "list\n",
    "dictionary\n",
    "set\n",
    "user-defined classes"
   ]
  },
  {
   "cell_type": "code",
   "execution_count": null,
   "id": "375a9803",
   "metadata": {},
   "outputs": [],
   "source": [
    "immutable:\n",
    "    \n",
    "int                  #hashable\n",
    "float\n",
    "decimal\n",
    "bool\n",
    "string\n",
    "tuple\n",
    "range"
   ]
  },
  {
   "cell_type": "code",
   "execution_count": 45,
   "id": "fe8aba52",
   "metadata": {},
   "outputs": [
    {
     "data": {
      "text/plain": [
       "10"
      ]
     },
     "execution_count": 45,
     "metadata": {},
     "output_type": "execute_result"
    }
   ],
   "source": [
    "sayı = 10\n",
    "hash(sayı)"
   ]
  },
  {
   "cell_type": "code",
   "execution_count": 46,
   "id": "6d99b576",
   "metadata": {},
   "outputs": [
    {
     "data": {
      "text/plain": [
       "3936543024611031217"
      ]
     },
     "execution_count": 46,
     "metadata": {},
     "output_type": "execute_result"
    }
   ],
   "source": [
    "hash(\"10\")"
   ]
  },
  {
   "cell_type": "code",
   "execution_count": 47,
   "id": "0be9a65f",
   "metadata": {},
   "outputs": [],
   "source": [
    "a = \"10\""
   ]
  },
  {
   "cell_type": "code",
   "execution_count": 48,
   "id": "57d05fcf",
   "metadata": {},
   "outputs": [
    {
     "data": {
      "text/plain": [
       "3936543024611031217"
      ]
     },
     "execution_count": 48,
     "metadata": {},
     "output_type": "execute_result"
    }
   ],
   "source": [
    "hash(a)"
   ]
  },
  {
   "cell_type": "code",
   "execution_count": 49,
   "id": "8ae38483",
   "metadata": {},
   "outputs": [],
   "source": [
    "listem = [10, 20, 30]"
   ]
  },
  {
   "cell_type": "code",
   "execution_count": 50,
   "id": "57b44c80",
   "metadata": {},
   "outputs": [
    {
     "ename": "TypeError",
     "evalue": "unhashable type: 'list'",
     "output_type": "error",
     "traceback": [
      "\u001b[1;31m---------------------------------------------------------------------------\u001b[0m",
      "\u001b[1;31mTypeError\u001b[0m                                 Traceback (most recent call last)",
      "Input \u001b[1;32mIn [50]\u001b[0m, in \u001b[0;36m<cell line: 1>\u001b[1;34m()\u001b[0m\n\u001b[1;32m----> 1\u001b[0m \u001b[38;5;28;43mhash\u001b[39;49m\u001b[43m(\u001b[49m\u001b[43mlistem\u001b[49m\u001b[43m)\u001b[49m\n",
      "\u001b[1;31mTypeError\u001b[0m: unhashable type: 'list'"
     ]
    }
   ],
   "source": [
    "hash(listem)"
   ]
  },
  {
   "cell_type": "code",
   "execution_count": 51,
   "id": "75379dd3",
   "metadata": {},
   "outputs": [
    {
     "name": "stdout",
     "output_type": "stream",
     "text": [
      "the tuple hash value is:590899387183067792\n"
     ]
    },
    {
     "ename": "TypeError",
     "evalue": "unhashable type: 'list'",
     "output_type": "error",
     "traceback": [
      "\u001b[1;31m---------------------------------------------------------------------------\u001b[0m",
      "\u001b[1;31mTypeError\u001b[0m                                 Traceback (most recent call last)",
      "Input \u001b[1;32mIn [51]\u001b[0m, in \u001b[0;36m<cell line: 6>\u001b[1;34m()\u001b[0m\n\u001b[0;32m      3\u001b[0m listem \u001b[38;5;241m=\u001b[39m [\u001b[38;5;241m1\u001b[39m,\u001b[38;5;241m2\u001b[39m,\u001b[38;5;241m3\u001b[39m,\u001b[38;5;241m4\u001b[39m]\n\u001b[0;32m      5\u001b[0m \u001b[38;5;28mprint\u001b[39m(\u001b[38;5;124m\"\u001b[39m\u001b[38;5;124mthe tuple hash value is:\u001b[39m\u001b[38;5;124m\"\u001b[39m\u001b[38;5;241m+\u001b[39m \u001b[38;5;28mstr\u001b[39m(\u001b[38;5;28mhash\u001b[39m(\u001b[38;5;28mtuple\u001b[39m)))\n\u001b[1;32m----> 6\u001b[0m \u001b[38;5;28mprint\u001b[39m(\u001b[38;5;124m\"\u001b[39m\u001b[38;5;124mthe tuple hash value is:\u001b[39m\u001b[38;5;124m\"\u001b[39m\u001b[38;5;241m+\u001b[39m \u001b[38;5;28mstr\u001b[39m(\u001b[38;5;28;43mhash\u001b[39;49m\u001b[43m(\u001b[49m\u001b[43mlistem\u001b[49m\u001b[43m)\u001b[49m))\n",
      "\u001b[1;31mTypeError\u001b[0m: unhashable type: 'list'"
     ]
    }
   ],
   "source": [
    "tuple = (1,2,3,4)\n",
    "\n",
    "listem = [1,2,3,4]\n",
    "\n",
    "print(\"the tuple hash value is:\"+ str(hash(tuple)))\n",
    "print(\"the tuple hash value is:\"+ str(hash(listem)))"
   ]
  },
  {
   "cell_type": "code",
   "execution_count": 54,
   "id": "46b25cb5",
   "metadata": {},
   "outputs": [
    {
     "data": {
      "text/plain": [
       "{(1, 2, 3): 'value'}"
      ]
     },
     "execution_count": 54,
     "metadata": {},
     "output_type": "execute_result"
    }
   ],
   "source": [
    "sözlük = {}\n",
    "\n",
    "key1 = (1,2,3)\n",
    "\n",
    "sözlük[key1] = \"value\"\n",
    "sözlük"
   ]
  },
  {
   "cell_type": "code",
   "execution_count": 55,
   "id": "549c9690",
   "metadata": {},
   "outputs": [
    {
     "data": {
      "text/plain": [
       "{(1, 2, 3): 'value', 45: 'value2'}"
      ]
     },
     "execution_count": 55,
     "metadata": {},
     "output_type": "execute_result"
    }
   ],
   "source": [
    "key2 = 45 \n",
    "sözlük[key2] =\"value2\"\n",
    "sözlük"
   ]
  },
  {
   "cell_type": "code",
   "execution_count": 56,
   "id": "76bb9ebb",
   "metadata": {},
   "outputs": [
    {
     "data": {
      "text/plain": [
       "{(1, 2, 3): 'value', 45: 'value2', 'fuad': 'value3'}"
      ]
     },
     "execution_count": 56,
     "metadata": {},
     "output_type": "execute_result"
    }
   ],
   "source": [
    "key3 = \"fuad\"\n",
    "sözlük[key3] = \"value3\"\n",
    "sözlük"
   ]
  },
  {
   "cell_type": "code",
   "execution_count": 57,
   "id": "795336e2",
   "metadata": {},
   "outputs": [
    {
     "ename": "TypeError",
     "evalue": "unhashable type: 'dict'",
     "output_type": "error",
     "traceback": [
      "\u001b[1;31m---------------------------------------------------------------------------\u001b[0m",
      "\u001b[1;31mTypeError\u001b[0m                                 Traceback (most recent call last)",
      "Input \u001b[1;32mIn [57]\u001b[0m, in \u001b[0;36m<cell line: 2>\u001b[1;34m()\u001b[0m\n\u001b[0;32m      1\u001b[0m key4 \u001b[38;5;241m=\u001b[39m {\u001b[38;5;124m\"\u001b[39m\u001b[38;5;124ma\u001b[39m\u001b[38;5;124m\"\u001b[39m: \u001b[38;5;241m1\u001b[39m, \u001b[38;5;124m\"\u001b[39m\u001b[38;5;124mb\u001b[39m\u001b[38;5;124m\"\u001b[39m:\u001b[38;5;241m2\u001b[39m}\n\u001b[1;32m----> 2\u001b[0m sözlük[key4] \u001b[38;5;241m=\u001b[39m \u001b[38;5;124m\"\u001b[39m\u001b[38;5;124mvalue4\u001b[39m\u001b[38;5;124m\"\u001b[39m\n\u001b[0;32m      3\u001b[0m sözlük\n",
      "\u001b[1;31mTypeError\u001b[0m: unhashable type: 'dict'"
     ]
    }
   ],
   "source": [
    "key4 = {\"a\": 1, \"b\":2}\n",
    "sözlük[key4] = \"value4\"\n",
    "sözlük"
   ]
  },
  {
   "cell_type": "code",
   "execution_count": 58,
   "id": "663ddb05",
   "metadata": {},
   "outputs": [],
   "source": [
    "düzlistem = [1,2,3,4]"
   ]
  },
  {
   "cell_type": "code",
   "execution_count": 59,
   "id": "2d2b7eb1",
   "metadata": {},
   "outputs": [
    {
     "data": {
      "text/plain": [
       "<zip at 0x26a2104ecc0>"
      ]
     },
     "execution_count": 59,
     "metadata": {},
     "output_type": "execute_result"
    }
   ],
   "source": [
    "zip(düzlistem, düzlistem)"
   ]
  },
  {
   "cell_type": "code",
   "execution_count": 60,
   "id": "60bd0135",
   "metadata": {},
   "outputs": [
    {
     "data": {
      "text/plain": [
       "[(1, 1), (2, 2), (3, 3), (4, 4)]"
      ]
     },
     "execution_count": 60,
     "metadata": {},
     "output_type": "execute_result"
    }
   ],
   "source": [
    "zip_list = list(zip(düzlistem, düzlistem))\n",
    "zip_list"
   ]
  },
  {
   "cell_type": "code",
   "execution_count": 62,
   "id": "71c90e0c",
   "metadata": {},
   "outputs": [
    {
     "name": "stdout",
     "output_type": "stream",
     "text": [
      "(1, 1) (2, 2) (3, 3) (4, 4)\n"
     ]
    }
   ],
   "source": [
    "print(*zip_list)"
   ]
  },
  {
   "cell_type": "code",
   "execution_count": 63,
   "id": "43e6c2d3",
   "metadata": {},
   "outputs": [
    {
     "name": "stdout",
     "output_type": "stream",
     "text": [
      "(1, 1) (2, 2) (3, 3) (4, 4)\n"
     ]
    }
   ],
   "source": [
    "print(*zip_list)"
   ]
  },
  {
   "cell_type": "code",
   "execution_count": 64,
   "id": "e1d531eb",
   "metadata": {},
   "outputs": [
    {
     "data": {
      "text/plain": [
       "{1: 1, 2: 2, 3: 3, 4: 4}"
      ]
     },
     "execution_count": 64,
     "metadata": {},
     "output_type": "execute_result"
    }
   ],
   "source": [
    "zip_list = list(zip(düzlistem, düzlistem))\n",
    "\n",
    "dict(list(zip_list))"
   ]
  },
  {
   "cell_type": "code",
   "execution_count": null,
   "id": "229196df",
   "metadata": {},
   "outputs": [],
   "source": []
  }
 ],
 "metadata": {
  "kernelspec": {
   "display_name": "Python 3 (ipykernel)",
   "language": "python",
   "name": "python3"
  },
  "language_info": {
   "codemirror_mode": {
    "name": "ipython",
    "version": 3
   },
   "file_extension": ".py",
   "mimetype": "text/x-python",
   "name": "python",
   "nbconvert_exporter": "python",
   "pygments_lexer": "ipython3",
   "version": "3.9.12"
  }
 },
 "nbformat": 4,
 "nbformat_minor": 5
}
