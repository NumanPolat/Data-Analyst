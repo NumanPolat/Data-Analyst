{
 "cells": [
  {
   "cell_type": "code",
   "execution_count": 1,
   "id": "a9c863c8",
   "metadata": {},
   "outputs": [
    {
     "ename": "SyntaxError",
     "evalue": "invalid syntax (1643984724.py, line 3)",
     "output_type": "error",
     "traceback": [
      "\u001b[1;36m  Input \u001b[1;32mIn [1]\u001b[1;36m\u001b[0m\n\u001b[1;33m    print(fahrenheit)\u001b[0m\n\u001b[1;37m    ^\u001b[0m\n\u001b[1;31mSyntaxError\u001b[0m\u001b[1;31m:\u001b[0m invalid syntax\n"
     ]
    }
   ],
   "source": [
    "celsius_temperature = float(input(\"celsius_temperature: \"))\n",
    "fahrenheit = (1.8000 * (celsius_temperature) + (32)\n",
    "print(fahrenheit)"
   ]
  },
  {
   "cell_type": "code",
   "execution_count": null,
   "id": "45cc8176",
   "metadata": {},
   "outputs": [],
   "source": [
    "celsius = float(input(\"celsius:\"))\n",
    "fahrenheit = (1.8000* celsius) + 32\n",
    "print(fahrenheit,\"F\")"
   ]
  },
  {
   "cell_type": "code",
   "execution_count": null,
   "id": "9b159c9c",
   "metadata": {},
   "outputs": [],
   "source": [
    "kilometre = float(input(\"mesafe girin:\"))\n",
    "mile_çevirme = kilometre * 0.62137\n",
    "print(mile_çevirme, \"mil\")"
   ]
  },
  {
   "cell_type": "code",
   "execution_count": null,
   "id": "3c4da236",
   "metadata": {},
   "outputs": [],
   "source": [
    "print(not 0 and \"write me\")"
   ]
  },
  {
   "cell_type": "markdown",
   "id": "6c5cd433",
   "metadata": {},
   "source": [
    "## Assigment-5"
   ]
  },
  {
   "cell_type": "code",
   "execution_count": 20,
   "id": "fdff38a2",
   "metadata": {},
   "outputs": [
    {
     "name": "stdout",
     "output_type": "stream",
     "text": [
      "enter a year 4 digit:400\n",
      "True\n"
     ]
    }
   ],
   "source": [
    "year = int(input(\"enter a year 4 digit:\"))\n",
    "leap_year = year % 4 == 0 and year % 400 == 0 and year % 100 == 0\n",
    "print(leap_year)\n",
    "\n"
   ]
  },
  {
   "cell_type": "code",
   "execution_count": 12,
   "id": "72eb76fd",
   "metadata": {},
   "outputs": [
    {
     "data": {
      "text/plain": [
       "False"
      ]
     },
     "execution_count": 12,
     "metadata": {},
     "output_type": "execute_result"
    }
   ],
   "source": [
    "2100% 400 ==0"
   ]
  },
  {
   "cell_type": "code",
   "execution_count": null,
   "id": "ae146bb6",
   "metadata": {},
   "outputs": [],
   "source": []
  }
 ],
 "metadata": {
  "kernelspec": {
   "display_name": "Python 3 (ipykernel)",
   "language": "python",
   "name": "python3"
  },
  "language_info": {
   "codemirror_mode": {
    "name": "ipython",
    "version": 3
   },
   "file_extension": ".py",
   "mimetype": "text/x-python",
   "name": "python",
   "nbconvert_exporter": "python",
   "pygments_lexer": "ipython3",
   "version": "3.9.12"
  }
 },
 "nbformat": 4,
 "nbformat_minor": 5
}
