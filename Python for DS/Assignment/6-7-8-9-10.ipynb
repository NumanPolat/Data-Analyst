{
 "cells": [
  {
   "cell_type": "markdown",
   "id": "aa1dbef4",
   "metadata": {},
   "source": [
    "## Assigment-6"
   ]
  },
  {
   "cell_type": "code",
   "execution_count": 5,
   "id": "adcab7f7",
   "metadata": {},
   "outputs": [
    {
     "name": "stdout",
     "output_type": "stream",
     "text": [
      "The must frequent number is 4 and it was 3 times repeated\n"
     ]
    }
   ],
   "source": [
    "numbers = [1,3,4,6,4,9,9,4,8,7,8,5,2]\n",
    "frequent_number = max(numbers,key = numbers.count)\n",
    "print(\"The must frequent number is\", frequent_number, \"and it was\", numbers.count(frequent_number), \"times repeated\")\n"
   ]
  },
  {
   "cell_type": "code",
   "execution_count": null,
   "id": "56ac19c7",
   "metadata": {},
   "outputs": [],
   "source": [
    "x =(numbers,key = numbers.count)"
   ]
  },
  {
   "cell_type": "markdown",
   "id": "ed3e6f18",
   "metadata": {},
   "source": [
    "## Assigment-7"
   ]
  },
  {
   "cell_type": "code",
   "execution_count": 8,
   "id": "11569302",
   "metadata": {},
   "outputs": [
    {
     "name": "stdout",
     "output_type": "stream",
     "text": [
      "60750\n"
     ]
    }
   ],
   "source": [
    "sales = {\"cost_value\": 25.85,\n",
    "        \"sell_value\": 38,\n",
    "        \"invertory\": 5000\n",
    "        }\n",
    "kar = float(sales[\"sell_value\"] - sales[\"cost_value\"]) * float(sales[\"invertory\"])\n",
    "print(round(kar))\n"
   ]
  },
  {
   "cell_type": "markdown",
   "id": "74d538a7",
   "metadata": {},
   "source": [
    "## Assigment-7 task2"
   ]
  },
  {
   "cell_type": "code",
   "execution_count": 43,
   "id": "e69c6e61",
   "metadata": {},
   "outputs": [
    {
     "name": "stdout",
     "output_type": "stream",
     "text": [
      "Joe:3200.00 $\n",
      "Jordon:5112.85 $\n",
      "Hagi: 8295.45 \n"
     ]
    }
   ],
   "source": [
    "price = {\"Joe\": 3200,\n",
    "        \"Jordon\": 5112.85,\n",
    "        \"Hagi\": 8295.455}\n",
    "print(\"Joe:%.2f $\\nJordon:%.2f $\\nHagi: %.2f\"%(price[\"Joe\"],price[\"Jordon\"],price[\"Hagi\"]))"
   ]
  },
  {
   "cell_type": "code",
   "execution_count": 49,
   "id": "f2f3d871",
   "metadata": {},
   "outputs": [
    {
     "name": "stdout",
     "output_type": "stream",
     "text": [
      "Joe:3200.00 $\n",
      "Jordon:5112.85 $\n",
      "Hagi: 8295.45\n"
     ]
    }
   ],
   "source": [
    "price = {\"Joe\": 3200,\n",
    "        \"Jordon\": 5112.85,\n",
    "        \"Hagi\": 8295.455}\n",
    "print(\"Joe:{:.2f} $\\nJordon:{:.2f} $\\nHagi: {:.2f}\".format(price[\"Joe\"],price[\"Jordon\"],price[\"Hagi\"]))"
   ]
  },
  {
   "cell_type": "code",
   "execution_count": 52,
   "id": "3f264e18",
   "metadata": {},
   "outputs": [
    {
     "ename": "SyntaxError",
     "evalue": "invalid syntax (3245576586.py, line 4)",
     "output_type": "error",
     "traceback": [
      "\u001b[1;36m  Input \u001b[1;32mIn [52]\u001b[1;36m\u001b[0m\n\u001b[1;33m    print(\"Joe:{:.2f} $\\nJordon:{:.2f} $\\nHagi: {:.2f}\".format(price[0][0],price[1][0][,price[2][0]))\u001b[0m\n\u001b[1;37m                                                                                       ^\u001b[0m\n\u001b[1;31mSyntaxError\u001b[0m\u001b[1;31m:\u001b[0m invalid syntax\n"
     ]
    }
   ],
   "source": [
    "price = {\"Joe\": 3200,\n",
    "        \"Jordon\": 5112.85,\n",
    "        \"Hagi\": 8295.455}\n",
    "print(\"Joe:{:.2f} $\\nJordon:{:.2f} $\\nHagi: {:.2f}\".format(price[0][0],price[1][0][,price[2][0]))"
   ]
  },
  {
   "cell_type": "markdown",
   "id": "dd9f7684",
   "metadata": {},
   "source": [
    "## Assigment-8"
   ]
  },
  {
   "cell_type": "code",
   "execution_count": 2,
   "id": "3fb45c72",
   "metadata": {},
   "outputs": [],
   "source": [
    "left_finger = set(\"q, w, e, r, t, a, s, d, f, g, z, x, c, v, b\")\n",
    "right_finger = set(\"y, u, i, o, p, h, j, k, l, n, m\")"
   ]
  },
  {
   "cell_type": "code",
   "execution_count": 24,
   "id": "6658fb27",
   "metadata": {},
   "outputs": [
    {
     "name": "stdout",
     "output_type": "stream",
     "text": [
      "False\n",
      "False\n",
      "True\n"
     ]
    }
   ],
   "source": [
    "a = set(\"tester\")\n",
    "b = set(\"polly\")\n",
    "c = set(\"clarusway\")\n",
    "comfortable_worda = bool(a.intersection(left_finger) and a.intersection(rigt_finger))\n",
    "comfortable_wordb = bool(b.intersection(left_finger) and b.intersection(rigt_finger))\n",
    "comfortable_wordc = bool(c.intersection(left_finger) and c.intersection(rigt_finger))\n",
    "print(comfortable_worda)\n",
    "print(comfortable_wordb)\n",
    "print(comfortable_wordc)\n",
    "\n",
    "\n",
    "\n"
   ]
  },
  {
   "cell_type": "code",
   "execution_count": 20,
   "id": "2da9104e",
   "metadata": {},
   "outputs": [
    {
     "name": "stdout",
     "output_type": "stream",
     "text": [
      "True\n"
     ]
    }
   ],
   "source": [
    "left = set('gwertasdfgzxcvb')\n",
    "right = set('yuiophjklmn')\n",
    "word = set('world')\n",
    "leftcheck = bool(word.intersection(left))\n",
    "rightcheck = bool(word. intersection(right))\n",
    "print(leftcheck and rightcheck)"
   ]
  },
  {
   "cell_type": "code",
   "execution_count": null,
   "id": "130da510",
   "metadata": {},
   "outputs": [],
   "source": []
  },
  {
   "cell_type": "code",
   "execution_count": 3,
   "id": "a5593a0c",
   "metadata": {},
   "outputs": [
    {
     "name": "stdout",
     "output_type": "stream",
     "text": [
      "Are you a cigarette addict older than 75 years old?(answer just yes or no): no\n",
      "Do you have a severe chronic disease?: no\n",
      "Is your immune system too weak?: no\n",
      "You are not in risky group\n"
     ]
    }
   ],
   "source": [
    "age = str(input(\"Are you a cigarette addict older than 75 years old?(answer just yes or no): \"))\n",
    "chronic = str(input(\"Do you have a severe chronic disease?: \"))\n",
    "immune = str(input(\"Is your immune system too weak?: \"))\n",
    "if age == \"no\" and chronic == \"no\"  and immune == \"no\" :\n",
    "    print(\"You are not in risky group\")\n",
    "else :\n",
    "    print(\"You are in risky group\")"
   ]
  },
  {
   "cell_type": "code",
   "execution_count": null,
   "id": "a2d24186",
   "metadata": {},
   "outputs": [],
   "source": []
  },
  {
   "cell_type": "markdown",
   "id": "b9076ac8",
   "metadata": {},
   "source": [
    "## Assigment-13"
   ]
  },
  {
   "cell_type": "code",
   "execution_count": 4,
   "id": "9eb6eae2",
   "metadata": {},
   "outputs": [
    {
     "name": "stdout",
     "output_type": "stream",
     "text": [
      "Enter a number to check if it is a prime number :10\n",
      "10 is not a prime number.\n"
     ]
    }
   ],
   "source": [
    "n = int(input(\"Enter a number to check if it is a prime number :\"))\n",
    "count = 0\n",
    "for i in range(1, n+1) :\n",
    "    if n % i == 0 :\n",
    "        count += 1\n",
    "if (n == 0) or (n == 1) or (count >=3) :\n",
    "    print(n, \"is not a prime number.\")\n",
    "else:\n",
    "    print(n, \"is a prime number\")"
   ]
  },
  {
   "cell_type": "markdown",
   "id": "b69521da",
   "metadata": {},
   "source": [
    "## Assigment-14"
   ]
  },
  {
   "cell_type": "code",
   "execution_count": 12,
   "id": "e63220a8",
   "metadata": {
    "scrolled": true
   },
   "outputs": [
    {
     "name": "stdout",
     "output_type": "stream",
     "text": [
      "enter a number: 10\n",
      "[1, 1, 2, 3, 5, 8, 13, 21, 34, 55]\n"
     ]
    }
   ],
   "source": [
    "n = int(input(\"enter a number: \"))\n",
    "fibonacci_numbers = [1, 1]\n",
    "for i in list(range(2,n)):\n",
    "    fibonacci_numbers.append(fibonacci_numbers[i-1]+fibonacci_numbers[i-2])\n",
    "print(fibonacci_numbers)"
   ]
  },
  {
   "cell_type": "code",
   "execution_count": null,
   "id": "cb87b3d9",
   "metadata": {},
   "outputs": [],
   "source": []
  }
 ],
 "metadata": {
  "kernelspec": {
   "display_name": "Python 3 (ipykernel)",
   "language": "python",
   "name": "python3"
  },
  "language_info": {
   "codemirror_mode": {
    "name": "ipython",
    "version": 3
   },
   "file_extension": ".py",
   "mimetype": "text/x-python",
   "name": "python",
   "nbconvert_exporter": "python",
   "pygments_lexer": "ipython3",
   "version": "3.9.12"
  }
 },
 "nbformat": 4,
 "nbformat_minor": 5
}
