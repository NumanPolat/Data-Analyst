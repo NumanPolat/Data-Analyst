{
 "cells": [
  {
   "cell_type": "code",
   "execution_count": 4,
   "id": "a9c863c8",
   "metadata": {},
   "outputs": [
    {
     "ename": "SyntaxError",
     "evalue": "invalid syntax (1300699128.py, line 3)",
     "output_type": "error",
     "traceback": [
      "\u001b[1;36m  Input \u001b[1;32mIn [4]\u001b[1;36m\u001b[0m\n\u001b[1;33m    print(fahrenheit)\u001b[0m\n\u001b[1;37m    ^\u001b[0m\n\u001b[1;31mSyntaxError\u001b[0m\u001b[1;31m:\u001b[0m invalid syntax\n"
     ]
    }
   ],
   "source": [
    "celsius_temperature = float(input(\"celsius_temperature: \"))\n",
    "fahrenheit = (1.8000 * (celsius_temperature) + (32)\n",
    "print(fahrenheit)"
   ]
  },
  {
   "cell_type": "code",
   "execution_count": 7,
   "id": "45cc8176",
   "metadata": {},
   "outputs": [
    {
     "name": "stdout",
     "output_type": "stream",
     "text": [
      "celsius:10\n",
      "50.0 F\n"
     ]
    }
   ],
   "source": [
    "celsius = float(input(\"celsius:\"))\n",
    "fahrenheit = (1.8000* celsius) + 32\n",
    "print(fahrenheit,\"F\")"
   ]
  },
  {
   "cell_type": "code",
   "execution_count": 11,
   "id": "9b159c9c",
   "metadata": {},
   "outputs": [
    {
     "name": "stdout",
     "output_type": "stream",
     "text": [
      "mesafe girin:15.12\n",
      "9.395114399999999 mil\n"
     ]
    }
   ],
   "source": [
    "kilometre = float(input(\"mesafe girin:\"))\n",
    "mile_çevirme = kilometre * 0.62137\n",
    "print(mile_çevirme, \"mil\")"
   ]
  },
  {
   "cell_type": "code",
   "execution_count": 19,
   "id": "3c4da236",
   "metadata": {},
   "outputs": [
    {
     "name": "stdout",
     "output_type": "stream",
     "text": [
      "write me\n"
     ]
    }
   ],
   "source": [
    "print(not 0 and \"write me\")"
   ]
  },
  {
   "cell_type": "markdown",
   "id": "2271a8ea",
   "metadata": {},
   "source": [
    "## Assigment-5"
   ]
  },
  {
   "cell_type": "code",
   "execution_count": null,
   "id": "fdff38a2",
   "metadata": {},
   "outputs": [],
   "source": [
    "year1 = input(\"enter a year:\")\n",
    "year2 = input(\"enter a year:\")\n",
    "year3 = input(\"enter a year:\")\n",
    "year4 = input(\"enter a year:\")\n",
    "\n",
    "year = bool(year / 4 and year / 400)\n",
    "bool(year % 100 == 0)"
   ]
  },
  {
   "cell_type": "code",
   "execution_count": 10,
   "id": "030b1bfa",
   "metadata": {},
   "outputs": [
    {
     "ename": "SyntaxError",
     "evalue": "invalid syntax (3412950104.py, line 3)",
     "output_type": "error",
     "traceback": [
      "\u001b[1;36m  Input \u001b[1;32mIn [10]\u001b[1;36m\u001b[0m\n\u001b[1;33m    print(leap_year)\u001b[0m\n\u001b[1;37m    ^\u001b[0m\n\u001b[1;31mSyntaxError\u001b[0m\u001b[1;31m:\u001b[0m invalid syntax\n"
     ]
    }
   ],
   "source": []
  },
  {
   "cell_type": "code",
   "execution_count": null,
   "id": "885250d4",
   "metadata": {},
   "outputs": [],
   "source": []
  }
 ],
 "metadata": {
  "kernelspec": {
   "display_name": "Python 3 (ipykernel)",
   "language": "python",
   "name": "python3"
  },
  "language_info": {
   "codemirror_mode": {
    "name": "ipython",
    "version": 3
   },
   "file_extension": ".py",
   "mimetype": "text/x-python",
   "name": "python",
   "nbconvert_exporter": "python",
   "pygments_lexer": "ipython3",
   "version": "3.9.12"
  }
 },
 "nbformat": 4,
 "nbformat_minor": 5
}
