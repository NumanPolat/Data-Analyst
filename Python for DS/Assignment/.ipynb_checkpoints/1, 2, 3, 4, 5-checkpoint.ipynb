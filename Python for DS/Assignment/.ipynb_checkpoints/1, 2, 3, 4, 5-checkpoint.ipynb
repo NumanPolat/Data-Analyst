{
 "cells": [
  {
   "cell_type": "markdown",
   "id": "8d26b0c5",
   "metadata": {},
   "source": [
    "### Assigment-1"
   ]
  },
  {
   "cell_type": "code",
   "execution_count": 1,
   "id": "f2054ab4",
   "metadata": {},
   "outputs": [
    {
     "name": "stdout",
     "output_type": "stream",
     "text": [
      "1.gün toplam para: 1070.0\n",
      "2.gün toplam para: 1144.9\n",
      "3.gün toplam para: 1225.0430000000001\n",
      "4.gün toplam para: 1310.79601\n",
      "5.gün toplam para: 1402.5517307\n",
      "6.gün toplam para: 1500.730351849\n",
      "7.gün toplam para: 1605.78147647843\n"
     ]
    }
   ],
   "source": [
    "para = 1000\n",
    "kar = 0.07\n",
    "\n",
    "gun_1 = para + para * kar\n",
    "gun_2 = gun_1 + gun_1 * kar\n",
    "gun_3 = gun_2 + gun_2 * kar\n",
    "gun_4 = gun_3 + gun_3 * kar\n",
    "gun_5 = gun_4 + gun_4 * kar\n",
    "gun_6 = gun_5 + gun_5 * kar\n",
    "gun_7 = gun_6 + gun_6 * kar\n",
    "\n",
    "\n",
    "print('1.gün toplam para:', gun_1)\n",
    "print('2.gün toplam para:', gun_2)\n",
    "print('3.gün toplam para:', gun_3)\n",
    "print('4.gün toplam para:', gun_4)\n",
    "print('5.gün toplam para:', gun_5)\n",
    "print('6.gün toplam para:', gun_6)\n",
    "print('7.gün toplam para:', gun_7)\n"
   ]
  },
  {
   "cell_type": "code",
   "execution_count": 3,
   "id": "15ab7cf2",
   "metadata": {},
   "outputs": [
    {
     "name": "stdout",
     "output_type": "stream",
     "text": [
      "1605.7814764784307\n"
     ]
    }
   ],
   "source": [
    "# çıktı = > para + para * kar\n",
    "sonuc = para*(1+kar)**7\n",
    "print(sonuc)"
   ]
  },
  {
   "cell_type": "markdown",
   "id": "0ba0e478",
   "metadata": {},
   "source": [
    "*******************************************************************************"
   ]
  },
  {
   "cell_type": "markdown",
   "id": "5cdd5e25",
   "metadata": {},
   "source": [
    "### Assigment-2"
   ]
  },
  {
   "cell_type": "code",
   "execution_count": 5,
   "id": "beb4c4ac",
   "metadata": {},
   "outputs": [
    {
     "name": "stdout",
     "output_type": "stream",
     "text": [
      "True\n"
     ]
    }
   ],
   "source": [
    "age = False\n",
    "chronic= False\n",
    "immune = True\n",
    "\n",
    "risk = age or chronic or immune\n",
    "print(risk)"
   ]
  },
  {
   "cell_type": "code",
   "execution_count": 13,
   "id": "f862920d",
   "metadata": {},
   "outputs": [
    {
     "name": "stdout",
     "output_type": "stream",
     "text": [
      "75 yaşından büyük bir sigara bağımlısı mısınız?:evet\n",
      "Ağır bir kronik hastalığınız var mı?:hayır\n",
      "Bağışıklık sisteminiz çok mu zayıf ?evet\n",
      "True\n"
     ]
    }
   ],
   "source": [
    "age = input('75 yaşından büyük bir sigara bağımlısı mısınız?:' )\n",
    "age = True\n",
    "chronic = input('Ağır bir kronik hastalığınız var mı?:' )\n",
    "chronic= False\n",
    "immune = input('Bağışıklık sisteminiz çok mu zayıf ?')\n",
    "immune = True\n",
    "risk = (age and chronic or immune_zayıf)\n",
    "print(risk)\n"
   ]
  },
  {
   "cell_type": "code",
   "execution_count": 17,
   "id": "cc2c4544",
   "metadata": {},
   "outputs": [
    {
     "name": "stdout",
     "output_type": "stream",
     "text": [
      "True\n"
     ]
    }
   ],
   "source": [
    "age = True\n",
    "chronic= False\n",
    "immune = True\n",
    "\n",
    "risk = age or chronic and immune_zayıf\n",
    "print(risk)"
   ]
  },
  {
   "cell_type": "code",
   "execution_count": 4,
   "id": "e0f0c709",
   "metadata": {},
   "outputs": [
    {
     "name": "stdout",
     "output_type": "stream",
     "text": [
      "Are you a cigarette addict older than 75 years old?: yes\n",
      "Do you have a severe chronic disease? : no\n",
      "Is your immune system too weak? : no\n",
      "False\n"
     ]
    }
   ],
   "source": [
    "age = input(\"Are you a cigarette addict older than 75 years old?: \" ).lower() \n",
    "chronic = input(\"Do you have a severe chronic disease? : \" ).lower()\n",
    "immune = input(\"Is your immune system too weak? : \" ).lower()\n",
    "risk = (age == \"Yes\" and chronic == \"Yes\" or immune == \"Yes\")\n",
    "print(risk)"
   ]
  },
  {
   "cell_type": "markdown",
   "id": "34f979d4",
   "metadata": {},
   "source": [
    "*******************************************************************************"
   ]
  },
  {
   "cell_type": "markdown",
   "id": "54c7ee94",
   "metadata": {},
   "source": [
    "### Assigment-3"
   ]
  },
  {
   "cell_type": "code",
   "execution_count": 18,
   "id": "36e1ebca",
   "metadata": {},
   "outputs": [
    {
     "name": "stdout",
     "output_type": "stream",
     "text": [
      "Celcius sıcalığı gir:58.8\n",
      "14.888888888888888\n"
     ]
    }
   ],
   "source": [
    "celcius = float(input('Celcius sıcalığı gir:'))\n",
    "fahrenheit = (celcius - 32) / 1.8\n",
    "print(fahrenheit)\n"
   ]
  },
  {
   "cell_type": "code",
   "execution_count": 21,
   "id": "1ebf017a",
   "metadata": {},
   "outputs": [
    {
     "name": "stdout",
     "output_type": "stream",
     "text": [
      "sayı gir:10\n",
      "50.0\n"
     ]
    }
   ],
   "source": [
    "celcius = float(input('sayı gir:'))\n",
    "fahreanheit = 1.800 * celcius + 32\n",
    "print(fahreanheit)"
   ]
  },
  {
   "cell_type": "code",
   "execution_count": 25,
   "id": "43aacf7f",
   "metadata": {},
   "outputs": [
    {
     "name": "stdout",
     "output_type": "stream",
     "text": [
      "km yi gir:15\n",
      "9.32056788356001\n"
     ]
    }
   ],
   "source": [
    "km = int(input('km yi gir:'))\n",
    "mil = km / 1.609344\n",
    "print(mil)"
   ]
  },
  {
   "cell_type": "code",
   "execution_count": 7,
   "id": "77f1110a",
   "metadata": {},
   "outputs": [
    {
     "name": "stdout",
     "output_type": "stream",
     "text": [
      "avatar\n",
      "avatar/avatar/avatar/\n"
     ]
    }
   ],
   "source": [
    "giriş = input()\n",
    "print((giriş + '/')*3)"
   ]
  },
  {
   "cell_type": "markdown",
   "id": "7b16a4ca",
   "metadata": {},
   "source": [
    "*******************************************************************************"
   ]
  },
  {
   "cell_type": "markdown",
   "id": "32a2f957",
   "metadata": {},
   "source": [
    "### Assigment-4"
   ]
  },
  {
   "cell_type": "code",
   "execution_count": 32,
   "id": "729c376a",
   "metadata": {},
   "outputs": [
    {
     "name": "stdout",
     "output_type": "stream",
     "text": [
      "write me\n"
     ]
    }
   ],
   "source": [
    "print(not 0 and 'write me')"
   ]
  },
  {
   "cell_type": "markdown",
   "id": "dfbad1ee",
   "metadata": {},
   "source": [
    "*******************************************************************************"
   ]
  },
  {
   "cell_type": "markdown",
   "id": "678cdc85",
   "metadata": {},
   "source": [
    "### Assigment-5"
   ]
  },
  {
   "cell_type": "code",
   "execution_count": 3,
   "id": "ce36d9fd",
   "metadata": {},
   "outputs": [
    {
     "name": "stdout",
     "output_type": "stream",
     "text": [
      "4 haneli yıl giriniz:2000\n",
      "True\n"
     ]
    }
   ],
   "source": [
    "yıl = int(input('4 haneli yıl giriniz:'))\n",
    "leap_year = yıl % 400 == 0 or yıl % 100 == 0 and yıl % 4 == 0\n",
    "\n",
    "\n",
    "\n",
    "print(leap_year)"
   ]
  },
  {
   "cell_type": "code",
   "execution_count": 8,
   "id": "c8cd5ac5",
   "metadata": {},
   "outputs": [
    {
     "name": "stdout",
     "output_type": "stream",
     "text": [
      "4 haneli yıl giriniz:2100\n",
      "False\n"
     ]
    }
   ],
   "source": [
    "yıl = int(input('4 haneli yıl giriniz:'))\n",
    "leap_year = yıl % 400 == 0 and yıl % 100 == 0 and yıl % 4 == 0\n",
    "\n",
    "\n",
    "\n",
    "print(leap_year)\n"
   ]
  },
  {
   "cell_type": "code",
   "execution_count": null,
   "id": "23ce6fc1",
   "metadata": {},
   "outputs": [],
   "source": []
  }
 ],
 "metadata": {
  "kernelspec": {
   "display_name": "Python 3 (ipykernel)",
   "language": "python",
   "name": "python3"
  },
  "language_info": {
   "codemirror_mode": {
    "name": "ipython",
    "version": 3
   },
   "file_extension": ".py",
   "mimetype": "text/x-python",
   "name": "python",
   "nbconvert_exporter": "python",
   "pygments_lexer": "ipython3",
   "version": "3.9.7"
  }
 },
 "nbformat": 4,
 "nbformat_minor": 5
}
