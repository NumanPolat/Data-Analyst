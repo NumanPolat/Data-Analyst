{
 "cells": [
  {
   "cell_type": "code",
   "execution_count": 2,
   "id": "699e947a",
   "metadata": {},
   "outputs": [
    {
     "data": {
      "text/plain": [
       "22"
      ]
     },
     "execution_count": 2,
     "metadata": {},
     "output_type": "execute_result"
    }
   ],
   "source": [
    "def integer():\n",
    "    return 22\n",
    "\n",
    "integer()"
   ]
  },
  {
   "cell_type": "code",
   "execution_count": 3,
   "id": "1b32157d",
   "metadata": {},
   "outputs": [
    {
     "name": "stdout",
     "output_type": "stream",
     "text": [
      "0 1 2 3 4 5 6 7 8 9 10 11 12 13 14 15 16 17 18 19 20 21 "
     ]
    }
   ],
   "source": [
    "for  i in range(integer()):\n",
    "    print(i, end=\" \")"
   ]
  },
  {
   "cell_type": "code",
   "execution_count": 5,
   "id": "5fb570e1",
   "metadata": {},
   "outputs": [],
   "source": [
    "del integer"
   ]
  },
  {
   "cell_type": "code",
   "execution_count": 6,
   "id": "00d357d5",
   "metadata": {},
   "outputs": [
    {
     "ename": "NameError",
     "evalue": "name 'integer' is not defined",
     "output_type": "error",
     "traceback": [
      "\u001b[1;31m---------------------------------------------------------------------------\u001b[0m",
      "\u001b[1;31mNameError\u001b[0m                                 Traceback (most recent call last)",
      "Input \u001b[1;32mIn [6]\u001b[0m, in \u001b[0;36m<cell line: 1>\u001b[1;34m()\u001b[0m\n\u001b[1;32m----> 1\u001b[0m \u001b[43minteger\u001b[49m()\n",
      "\u001b[1;31mNameError\u001b[0m: name 'integer' is not defined"
     ]
    }
   ],
   "source": [
    "integer()"
   ]
  },
  {
   "cell_type": "code",
   "execution_count": 7,
   "id": "fc2493d8",
   "metadata": {},
   "outputs": [
    {
     "name": "stdout",
     "output_type": "stream",
     "text": [
      "yaşasın\n"
     ]
    }
   ],
   "source": [
    "def boolean():\n",
    "    return True\n",
    "\n",
    "if boolean():\n",
    "    print(\"yaşasın\")"
   ]
  },
  {
   "cell_type": "code",
   "execution_count": 8,
   "id": "c5df0190",
   "metadata": {},
   "outputs": [
    {
     "data": {
      "text/plain": [
       "<function __main__.list()>"
      ]
     },
     "execution_count": 8,
     "metadata": {},
     "output_type": "execute_result"
    }
   ],
   "source": [
    "def list():\n",
    "    return [1,2,3,4]\n",
    "\n",
    "list"
   ]
  },
  {
   "cell_type": "code",
   "execution_count": 9,
   "id": "5cf70580",
   "metadata": {},
   "outputs": [
    {
     "data": {
      "text/plain": [
       "[1, 2, 3, 4]"
      ]
     },
     "execution_count": 9,
     "metadata": {},
     "output_type": "execute_result"
    }
   ],
   "source": [
    "list()"
   ]
  },
  {
   "cell_type": "code",
   "execution_count": 11,
   "id": "4e54cc1c",
   "metadata": {},
   "outputs": [
    {
     "data": {
      "text/plain": [
       "(1, 2, 3, 4)"
      ]
     },
     "execution_count": 11,
     "metadata": {},
     "output_type": "execute_result"
    }
   ],
   "source": [
    "tuple(list())"
   ]
  },
  {
   "cell_type": "code",
   "execution_count": 13,
   "id": "92537c39",
   "metadata": {},
   "outputs": [
    {
     "data": {
      "text/plain": [
       "3"
      ]
     },
     "execution_count": 13,
     "metadata": {},
     "output_type": "execute_result"
    }
   ],
   "source": [
    "list()[2]"
   ]
  },
  {
   "cell_type": "code",
   "execution_count": 14,
   "id": "79d32b3a",
   "metadata": {},
   "outputs": [
    {
     "data": {
      "text/plain": [
       "[1, 2, 3, 4]"
      ]
     },
     "execution_count": 14,
     "metadata": {},
     "output_type": "execute_result"
    }
   ],
   "source": [
    "x = list()\n",
    "x"
   ]
  },
  {
   "cell_type": "code",
   "execution_count": 16,
   "id": "06383599",
   "metadata": {},
   "outputs": [
    {
     "name": "stdout",
     "output_type": "stream",
     "text": [
      "24\n"
     ]
    }
   ],
   "source": [
    "def calculator(a, b, opr):\n",
    "    if opr == \"+\":\n",
    "        return(a+b)\n",
    "    elif opr == \"-\":\n",
    "        return(a-b)\n",
    "    elif opr == \"*\":\n",
    "        return(a*b)\n",
    "    elif opr == \"/\":\n",
    "        return(a/b)\n",
    "    else:\n",
    "        return(\"enter a valid operator\")\n",
    "sonuç = calculator(3, 8, \"*\")\n",
    "\n",
    "print(sonuç)"
   ]
  },
  {
   "cell_type": "code",
   "execution_count": 17,
   "id": "a650c218",
   "metadata": {},
   "outputs": [
    {
     "data": {
      "text/plain": [
       "24"
      ]
     },
     "execution_count": 17,
     "metadata": {},
     "output_type": "execute_result"
    }
   ],
   "source": [
    "calculator(3, 8, \"*\")"
   ]
  },
  {
   "cell_type": "code",
   "execution_count": 18,
   "id": "08b135a6",
   "metadata": {},
   "outputs": [],
   "source": [
    "# absolute_value mutlak değer"
   ]
  },
  {
   "cell_type": "code",
   "execution_count": 19,
   "id": "edccca1f",
   "metadata": {},
   "outputs": [
    {
     "name": "stdout",
     "output_type": "stream",
     "text": [
      "7\n"
     ]
    }
   ],
   "source": [
    "def absolute_value(num):\n",
    "    if num >= 0:\n",
    "        print(num)\n",
    "    else:\n",
    "        print(-num)\n",
    "\n",
    "absolute_value(7)"
   ]
  },
  {
   "cell_type": "code",
   "execution_count": 21,
   "id": "21b96d8c",
   "metadata": {},
   "outputs": [
    {
     "name": "stdout",
     "output_type": "stream",
     "text": [
      "6\n"
     ]
    }
   ],
   "source": [
    "absolute_value(-6)"
   ]
  },
  {
   "cell_type": "code",
   "execution_count": 25,
   "id": "10310cf0",
   "metadata": {},
   "outputs": [
    {
     "name": "stdout",
     "output_type": "stream",
     "text": [
      "None\n"
     ]
    }
   ],
   "source": [
    "print(absolute_value.__doc__)"
   ]
  },
  {
   "cell_type": "code",
   "execution_count": 24,
   "id": "dfef0df1",
   "metadata": {},
   "outputs": [
    {
     "name": "stdout",
     "output_type": "stream",
     "text": [
      "Return the absolute value of the argument.\n"
     ]
    }
   ],
   "source": [
    "print(abs.__doc__)"
   ]
  },
  {
   "cell_type": "markdown",
   "id": "51a08ecc",
   "metadata": {},
   "source": [
    "### arguments and parameters"
   ]
  },
  {
   "cell_type": "code",
   "execution_count": 26,
   "id": "abf29ce4",
   "metadata": {},
   "outputs": [
    {
     "name": "stdout",
     "output_type": "stream",
     "text": [
      "i love you\n"
     ]
    }
   ],
   "source": [
    "a = \"i\"\n",
    "b = \"love\"\n",
    "c = \"you\"\n",
    "\n",
    "def texter(c,a,b):\n",
    "    return print(a,b,c)\n",
    "\n",
    "texter(c,a,b)"
   ]
  },
  {
   "cell_type": "code",
   "execution_count": 27,
   "id": "98e35812",
   "metadata": {},
   "outputs": [],
   "source": [
    "## kwargs  = values"
   ]
  },
  {
   "cell_type": "markdown",
   "id": "fa8810df",
   "metadata": {},
   "source": [
    "###keyword Arguments"
   ]
  },
  {
   "cell_type": "code",
   "execution_count": null,
   "id": "0052f43b",
   "metadata": {},
   "outputs": [],
   "source": [
    "a = \"i\"\n",
    "b = \"love\"\n",
    "c = \"you\"\n",
    "\n",
    "def texter(c,a,b):\n",
    "    return print(a,b,c)\n",
    "\n",
    "texter(c,a,b)"
   ]
  },
  {
   "cell_type": "raw",
   "id": "10dc0ae9",
   "metadata": {},
   "source": [
    "texter(c = \"you\", b = \"love\", a= \"i\")"
   ]
  },
  {
   "cell_type": "code",
   "execution_count": 31,
   "id": "7352555e",
   "metadata": {},
   "outputs": [
    {
     "name": "stdout",
     "output_type": "stream",
     "text": [
      "i love you\n"
     ]
    }
   ],
   "source": [
    "texter(c,a,b)"
   ]
  },
  {
   "cell_type": "code",
   "execution_count": 33,
   "id": "cf3a42cd",
   "metadata": {},
   "outputs": [
    {
     "name": "stdout",
     "output_type": "stream",
     "text": [
      "George Hagi gs efsanesidir.\n"
     ]
    }
   ],
   "source": [
    "def fonction(x=\"George\", y=\"Hagi\"):\n",
    "    print(x, y, \"gs efsanesidir.\")\n",
    "\n",
    "fonction()"
   ]
  },
  {
   "cell_type": "code",
   "execution_count": 36,
   "id": "dba5aa26",
   "metadata": {},
   "outputs": [
    {
     "name": "stdout",
     "output_type": "stream",
     "text": [
      "19 5 gs efsanesidir.\n"
     ]
    }
   ],
   "source": [
    "fonction(x=19, y = 5)   ## argumanları position olarakda yollanabilir."
   ]
  },
  {
   "cell_type": "code",
   "execution_count": 37,
   "id": "1ae15624",
   "metadata": {},
   "outputs": [
    {
     "name": "stdout",
     "output_type": "stream",
     "text": [
      "suat Hagi gs efsanesidir.\n"
     ]
    }
   ],
   "source": [
    "fonction(\"suat\")"
   ]
  },
  {
   "cell_type": "code",
   "execution_count": null,
   "id": "838cc4a9",
   "metadata": {},
   "outputs": [],
   "source": []
  }
 ],
 "metadata": {
  "kernelspec": {
   "display_name": "Python 3 (ipykernel)",
   "language": "python",
   "name": "python3"
  },
  "language_info": {
   "codemirror_mode": {
    "name": "ipython",
    "version": 3
   },
   "file_extension": ".py",
   "mimetype": "text/x-python",
   "name": "python",
   "nbconvert_exporter": "python",
   "pygments_lexer": "ipython3",
   "version": "3.9.12"
  }
 },
 "nbformat": 4,
 "nbformat_minor": 5
}
