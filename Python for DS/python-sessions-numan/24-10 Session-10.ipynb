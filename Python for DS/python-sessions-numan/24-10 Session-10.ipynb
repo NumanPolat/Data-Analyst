{
 "cells": [
  {
   "cell_type": "code",
   "execution_count": 1,
   "id": "5d1ae60f",
   "metadata": {},
   "outputs": [],
   "source": [
    "## Creating a dict"
   ]
  },
  {
   "cell_type": "code",
   "execution_count": 2,
   "id": "c54e2467",
   "metadata": {},
   "outputs": [
    {
     "name": "stdout",
     "output_type": "stream",
     "text": [
      "{'name1': 'Numan', 'name2': 'jone', 'name3': 'jane', 'name4': 'jackson'}\n"
     ]
    }
   ],
   "source": [
    "family = {\"name1\": \"Numan\",\n",
    "         \"name2\": \"jone\",\n",
    "         \"name3\": \"jane\"\n",
    "         }\n",
    "family[\"name4\"] = \"jackson\"\n",
    "print(family)"
   ]
  },
  {
   "cell_type": "code",
   "execution_count": 3,
   "id": "3d445106",
   "metadata": {},
   "outputs": [],
   "source": [
    "# => now, its time to create a dict using dict() function:"
   ]
  },
  {
   "cell_type": "code",
   "execution_count": 4,
   "id": "b752f990",
   "metadata": {},
   "outputs": [
    {
     "name": "stdout",
     "output_type": "stream",
     "text": [
      "{'animal': 'dog', 'planet': 'neptun', 'number': '10', 'pi': 3.14, 'is_good': True}\n"
     ]
    }
   ],
   "source": [
    "dict_by_dict = dict(animal=\"dog\", planet=\"neptun\", number=\"10\", pi=3.14, is_good=True)\n",
    "print(dict_by_dict)"
   ]
  },
  {
   "cell_type": "code",
   "execution_count": 5,
   "id": "5b4f5f5d",
   "metadata": {},
   "outputs": [],
   "source": [
    "## Do not quotes for keys when using dict() fuction to create a "
   ]
  },
  {
   "cell_type": "markdown",
   "id": "c5d7cf21",
   "metadata": {},
   "source": [
    "## Main operations with sets \n",
    "## Condition statements- IF statements \n"
   ]
  },
  {
   "cell_type": "markdown",
   "id": "312a33eb",
   "metadata": {},
   "source": [
    "## Main operatinos with dicts."
   ]
  },
  {
   "cell_type": "code",
   "execution_count": 6,
   "id": "b882ebf4",
   "metadata": {},
   "outputs": [],
   "source": [
    "ayakkabı_sayısı = {\"ali=\": 1,\n",
    "                  \"deli\": 1,\n",
    "                  \"veli\": 1}"
   ]
  },
  {
   "cell_type": "code",
   "execution_count": 7,
   "id": "2e1071f4",
   "metadata": {},
   "outputs": [
    {
     "data": {
      "text/plain": [
       "{'ali=': 1, 'deli': 1, 'veli': 1}"
      ]
     },
     "execution_count": 7,
     "metadata": {},
     "output_type": "execute_result"
    }
   ],
   "source": [
    "ayakkabı_sayısı"
   ]
  },
  {
   "cell_type": "code",
   "execution_count": 8,
   "id": "b04a08ef",
   "metadata": {},
   "outputs": [
    {
     "ename": "KeyError",
     "evalue": "'ali'",
     "output_type": "error",
     "traceback": [
      "\u001b[1;31m---------------------------------------------------------------------------\u001b[0m",
      "\u001b[1;31mKeyError\u001b[0m                                  Traceback (most recent call last)",
      "Input \u001b[1;32mIn [8]\u001b[0m, in \u001b[0;36m<cell line: 1>\u001b[1;34m()\u001b[0m\n\u001b[1;32m----> 1\u001b[0m ayakkabı_sayısı[\u001b[38;5;124m\"\u001b[39m\u001b[38;5;124mali\u001b[39m\u001b[38;5;124m\"\u001b[39m] \u001b[38;5;241m+\u001b[39m\u001b[38;5;241m=\u001b[39m\u001b[38;5;241m1\u001b[39m\n\u001b[0;32m      2\u001b[0m ayakkabı_sayısı\n",
      "\u001b[1;31mKeyError\u001b[0m: 'ali'"
     ]
    }
   ],
   "source": [
    "\n",
    "ayakkabı_sayısı[\"ali\"] +=1\n",
    "ayakkabı_sayısı"
   ]
  },
  {
   "cell_type": "code",
   "execution_count": null,
   "id": "54dfa8f5",
   "metadata": {},
   "outputs": [],
   "source": [
    "dict_by_dict = dict(animal=\"dog\", planet=\"neptun\", number=\"10\", pi=3.14, is_good=True)\n",
    "print(dict_by_dict)"
   ]
  },
  {
   "cell_type": "code",
   "execution_count": null,
   "id": "ef8c863b",
   "metadata": {},
   "outputs": [],
   "source": [
    "dict_by_dict[\"animal\"]"
   ]
  },
  {
   "cell_type": "code",
   "execution_count": null,
   "id": "c3910897",
   "metadata": {},
   "outputs": [],
   "source": [
    "type(dict_by_dict[\"is_good\"])"
   ]
  },
  {
   "cell_type": "code",
   "execution_count": null,
   "id": "6748fc70",
   "metadata": {},
   "outputs": [],
   "source": [
    "dict_by_dict.update({\"memo\":\"bay\", 11: \"intteger\"})\n",
    "dict_by_dict"
   ]
  },
  {
   "cell_type": "code",
   "execution_count": null,
   "id": "aad1f81a",
   "metadata": {},
   "outputs": [],
   "source": [
    "dict_by_dict = {'animal': 'dog',\n",
    "                'planet': 'neptun',\n",
    "                'number': '10',\n",
    "                'pi': 3.14,\n",
    "                'is_good': True}\n",
    "print(dict_by_dict.items(), \"\\n\")\n",
    "print(dict_by_dict.keys(), \"\\n\")\n",
    "print(dict_by_dict.values())"
   ]
  },
  {
   "cell_type": "code",
   "execution_count": null,
   "id": "10f582ca",
   "metadata": {},
   "outputs": [],
   "source": [
    "print(dict_by_dict.items())\n",
    "type(dict_by_dict.items())"
   ]
  },
  {
   "cell_type": "code",
   "execution_count": null,
   "id": "540a6782",
   "metadata": {},
   "outputs": [],
   "source": [
    "list(dict_by_dict.items())          ## listeye çevirme"
   ]
  },
  {
   "cell_type": "code",
   "execution_count": null,
   "id": "8c11c64e",
   "metadata": {},
   "outputs": [],
   "source": [
    "len(list(dict_by_dict.items()))"
   ]
  },
  {
   "cell_type": "code",
   "execution_count": null,
   "id": "1e3353da",
   "metadata": {},
   "outputs": [],
   "source": [
    "dict_by_dict.keys()"
   ]
  },
  {
   "cell_type": "code",
   "execution_count": null,
   "id": "7c01dc52",
   "metadata": {},
   "outputs": [],
   "source": [
    "tuple(dict_by_dict.keys())"
   ]
  },
  {
   "cell_type": "code",
   "execution_count": null,
   "id": "59cc357a",
   "metadata": {},
   "outputs": [],
   "source": [
    "dict_by_dict.items()"
   ]
  },
  {
   "cell_type": "code",
   "execution_count": null,
   "id": "4ca0d9d4",
   "metadata": {},
   "outputs": [],
   "source": [
    "x, y = dict_by_dict.items()"
   ]
  },
  {
   "cell_type": "code",
   "execution_count": null,
   "id": "e58341d1",
   "metadata": {},
   "outputs": [],
   "source": [
    "list(dict_by_dict.items())"
   ]
  },
  {
   "cell_type": "code",
   "execution_count": null,
   "id": "5b09c87b",
   "metadata": {},
   "outputs": [],
   "source": [
    "items = list(dict_by_dict.items())\n",
    "items[0]"
   ]
  },
  {
   "cell_type": "code",
   "execution_count": null,
   "id": "b25a6803",
   "metadata": {},
   "outputs": [],
   "source": [
    "len(items[0])"
   ]
  },
  {
   "cell_type": "code",
   "execution_count": null,
   "id": "80af644d",
   "metadata": {},
   "outputs": [],
   "source": [
    "x, y= items[0]\n",
    "x"
   ]
  },
  {
   "cell_type": "code",
   "execution_count": null,
   "id": "32b092fc",
   "metadata": {},
   "outputs": [],
   "source": [
    "y"
   ]
  },
  {
   "cell_type": "code",
   "execution_count": null,
   "id": "3ac8f856",
   "metadata": {},
   "outputs": [],
   "source": [
    "x,y "
   ]
  },
  {
   "cell_type": "code",
   "execution_count": null,
   "id": "92ffd6f6",
   "metadata": {},
   "outputs": [],
   "source": [
    "dict_by_dict.keys()"
   ]
  },
  {
   "cell_type": "code",
   "execution_count": null,
   "id": "c830d06b",
   "metadata": {},
   "outputs": [],
   "source": [
    "tuple(dict_by_dict)"
   ]
  },
  {
   "cell_type": "code",
   "execution_count": null,
   "id": "ad0ec638",
   "metadata": {},
   "outputs": [],
   "source": [
    "set(dict_by_dict.values())"
   ]
  },
  {
   "cell_type": "code",
   "execution_count": 9,
   "id": "069169e7",
   "metadata": {},
   "outputs": [
    {
     "name": "stdout",
     "output_type": "stream",
     "text": [
      "{'name1': 'Numan', 'name2': 'jone', 'name3': 'jane', 'name4': 'jackson'}\n"
     ]
    }
   ],
   "source": [
    "family = {\"name1\": \"Numan\",\n",
    "         \"name2\": \"jone\",\n",
    "         \"name3\": \"jane\"\n",
    "         }\n",
    "family[\"name4\"] = \"jackson\"\n",
    "print(family)"
   ]
  },
  {
   "cell_type": "code",
   "execution_count": 11,
   "id": "9980a654",
   "metadata": {},
   "outputs": [
    {
     "ename": "SyntaxError",
     "evalue": "invalid syntax (2643414849.py, line 1)",
     "output_type": "error",
     "traceback": [
      "\u001b[1;36m  Input \u001b[1;32mIn [11]\u001b[1;36m\u001b[0m\n\u001b[1;33m    family.update([\"name5\": \"ali\"])\u001b[0m\n\u001b[1;37m                          ^\u001b[0m\n\u001b[1;31mSyntaxError\u001b[0m\u001b[1;31m:\u001b[0m invalid syntax\n"
     ]
    }
   ],
   "source": [
    "family.update([\"name5\": \"ali\"])"
   ]
  },
  {
   "cell_type": "code",
   "execution_count": 12,
   "id": "1fdfcb65",
   "metadata": {},
   "outputs": [],
   "source": [
    "del family[\"name4\"]"
   ]
  },
  {
   "cell_type": "code",
   "execution_count": 13,
   "id": "fe23e959",
   "metadata": {},
   "outputs": [
    {
     "data": {
      "text/plain": [
       "{'name1': 'Numan', 'name2': 'jone', 'name3': 'jane'}"
      ]
     },
     "execution_count": 13,
     "metadata": {},
     "output_type": "execute_result"
    }
   ],
   "source": [
    "family"
   ]
  },
  {
   "cell_type": "code",
   "execution_count": 15,
   "id": "5841423d",
   "metadata": {},
   "outputs": [
    {
     "data": {
      "text/plain": [
       "False"
      ]
     },
     "execution_count": 15,
     "metadata": {},
     "output_type": "execute_result"
    }
   ],
   "source": [
    "\"i\" in \"clarusway\""
   ]
  },
  {
   "cell_type": "code",
   "execution_count": 16,
   "id": "c854437c",
   "metadata": {},
   "outputs": [
    {
     "data": {
      "text/plain": [
       "True"
      ]
     },
     "execution_count": 16,
     "metadata": {},
     "output_type": "execute_result"
    }
   ],
   "source": [
    "\"a\" in \"numan\""
   ]
  },
  {
   "cell_type": "code",
   "execution_count": 17,
   "id": "404cc113",
   "metadata": {},
   "outputs": [
    {
     "data": {
      "text/plain": [
       "['m', 'a', 'k', 'a', 'l', 'e']"
      ]
     },
     "execution_count": 17,
     "metadata": {},
     "output_type": "execute_result"
    }
   ],
   "source": [
    "bootcamp = \"m a k a l e\"\n",
    "bootcamp.split()"
   ]
  },
  {
   "cell_type": "code",
   "execution_count": 19,
   "id": "0944e26f",
   "metadata": {},
   "outputs": [
    {
     "data": {
      "text/plain": [
       "['m', 'a', 'k', 'a', 'l', 'e']"
      ]
     },
     "execution_count": 19,
     "metadata": {},
     "output_type": "execute_result"
    }
   ],
   "source": [
    "bootcamp = \"m a k a l e\".split()\n",
    "bootcamp"
   ]
  },
  {
   "cell_type": "code",
   "execution_count": 20,
   "id": "b154d0da",
   "metadata": {},
   "outputs": [
    {
     "data": {
      "text/plain": [
       "['hasan', 'hakan', 'hagi']"
      ]
     },
     "execution_count": 20,
     "metadata": {},
     "output_type": "execute_result"
    }
   ],
   "source": [
    "cimbom = \"hasan-hakan-hagi\".split(\"-\")\n",
    "cimbom"
   ]
  },
  {
   "cell_type": "code",
   "execution_count": 21,
   "id": "d711de37",
   "metadata": {},
   "outputs": [
    {
     "data": {
      "text/plain": [
       "{'animal': 'dog',\n",
       " 'planet': 'neptun',\n",
       " 'number': '10',\n",
       " 'pi': 3.14,\n",
       " 'is_good': True}"
      ]
     },
     "execution_count": 21,
     "metadata": {},
     "output_type": "execute_result"
    }
   ],
   "source": [
    "dict_by_dict"
   ]
  },
  {
   "cell_type": "code",
   "execution_count": 22,
   "id": "09c37f6a",
   "metadata": {},
   "outputs": [
    {
     "data": {
      "text/plain": [
       "False"
      ]
     },
     "execution_count": 22,
     "metadata": {},
     "output_type": "execute_result"
    }
   ],
   "source": [
    "\"dog\" in dict_by_dict"
   ]
  },
  {
   "cell_type": "code",
   "execution_count": 24,
   "id": "b3ce5f3e",
   "metadata": {},
   "outputs": [
    {
     "data": {
      "text/plain": [
       "True"
      ]
     },
     "execution_count": 24,
     "metadata": {},
     "output_type": "execute_result"
    }
   ],
   "source": [
    "\"animal\" in dict_by_dict"
   ]
  },
  {
   "cell_type": "code",
   "execution_count": null,
   "id": "60c93f09",
   "metadata": {},
   "outputs": [],
   "source": [
    "## Nested Dictionaries"
   ]
  },
  {
   "cell_type": "code",
   "execution_count": 27,
   "id": "e92ce50f",
   "metadata": {},
   "outputs": [
    {
     "name": "stdout",
     "output_type": "stream",
     "text": [
      "16\n"
     ]
    }
   ],
   "source": [
    "school_records={\n",
    "    \"personal_info\":{\n",
    "        \"kid\":{\"tom\":{\"class\": \"intermediate\", \"age\": 10},\n",
    "               \"sue\":{\"class\": \"elemantary\", \"age\" : 8}\n",
    "              },\n",
    "        \"teen\":{\"joseph\":{\"class\": \"college\", \"age\": 19},\n",
    "               \"marry\": {\"class\": \"high school\", \"age\": 16}\n",
    "               },\n",
    "    },\n",
    "\"grades_info\":{\n",
    "    \"kid\":{\"tom\": {\"math\": 88, \"speech\": 69},\n",
    "          \"sue\": {\"math\": 76, \"speech\": 89}\n",
    "          },\n",
    "    \"teen\":{\"joseph\": {\"coding\": 80, \"math\": 74},\n",
    "            \"marry\": {\"coding\": 45, \"math\": 90}},\n",
    "    },\n",
    "}\n",
    "print(school_records[\"personal_info\"][\"teen\"][\"marry\"][\"age\"])"
   ]
  },
  {
   "cell_type": "code",
   "execution_count": 28,
   "id": "0103983d",
   "metadata": {},
   "outputs": [
    {
     "data": {
      "text/plain": [
       "{'kid': {'tom': {'class': 'intermediate', 'age': 10},\n",
       "  'sue': {'class': 'elemantary', 'age': 8}},\n",
       " 'teen': {'joseph': {'class': 'college', 'age': 19},\n",
       "  'marry': {'class': 'high school', 'age': 16}}}"
      ]
     },
     "execution_count": 28,
     "metadata": {},
     "output_type": "execute_result"
    }
   ],
   "source": [
    "school_records[\"personal_info\"]"
   ]
  },
  {
   "cell_type": "code",
   "execution_count": 34,
   "id": "38634d0e",
   "metadata": {},
   "outputs": [
    {
     "data": {
      "text/plain": [
       "dict"
      ]
     },
     "execution_count": 34,
     "metadata": {},
     "output_type": "execute_result"
    }
   ],
   "source": [
    "type(school_records['personal_info'])"
   ]
  },
  {
   "cell_type": "code",
   "execution_count": 36,
   "id": "2a668da4",
   "metadata": {},
   "outputs": [
    {
     "data": {
      "text/plain": [
       "2"
      ]
     },
     "execution_count": 36,
     "metadata": {},
     "output_type": "execute_result"
    }
   ],
   "source": [
    "len(school_records[\"grades_info\"])"
   ]
  },
  {
   "cell_type": "code",
   "execution_count": 37,
   "id": "6f97bf13",
   "metadata": {},
   "outputs": [
    {
     "data": {
      "text/plain": [
       "{'tom': {'class': 'intermediate', 'age': 10},\n",
       " 'sue': {'class': 'elemantary', 'age': 8}}"
      ]
     },
     "execution_count": 37,
     "metadata": {},
     "output_type": "execute_result"
    }
   ],
   "source": [
    "school_records[\"personal_info\"][\"kid\"]         ## indexleyip içine ulaşabiliriz"
   ]
  },
  {
   "cell_type": "code",
   "execution_count": 38,
   "id": "8349b0d2",
   "metadata": {},
   "outputs": [
    {
     "data": {
      "text/plain": [
       "{'class': 'intermediate', 'age': 10}"
      ]
     },
     "execution_count": 38,
     "metadata": {},
     "output_type": "execute_result"
    }
   ],
   "source": [
    "school_records[\"personal_info\"][\"kid\"][\"tom\"]"
   ]
  },
  {
   "cell_type": "code",
   "execution_count": 39,
   "id": "e89a43d9",
   "metadata": {},
   "outputs": [
    {
     "data": {
      "text/plain": [
       "10"
      ]
     },
     "execution_count": 39,
     "metadata": {},
     "output_type": "execute_result"
    }
   ],
   "source": [
    "school_records[\"personal_info\"][\"kid\"][\"tom\"][\"age\"]"
   ]
  },
  {
   "cell_type": "code",
   "execution_count": 41,
   "id": "33262ad0",
   "metadata": {},
   "outputs": [
    {
     "data": {
      "text/plain": [
       "int"
      ]
     },
     "execution_count": 41,
     "metadata": {},
     "output_type": "execute_result"
    }
   ],
   "source": [
    "type(school_records[\"personal_info\"][\"kid\"][\"tom\"][\"age\"])"
   ]
  },
  {
   "cell_type": "code",
   "execution_count": null,
   "id": "4cff629a",
   "metadata": {},
   "outputs": [],
   "source": []
  },
  {
   "cell_type": "code",
   "execution_count": null,
   "id": "ddea2fed",
   "metadata": {},
   "outputs": [],
   "source": []
  }
 ],
 "metadata": {
  "kernelspec": {
   "display_name": "Python 3 (ipykernel)",
   "language": "python",
   "name": "python3"
  },
  "language_info": {
   "codemirror_mode": {
    "name": "ipython",
    "version": 3
   },
   "file_extension": ".py",
   "mimetype": "text/x-python",
   "name": "python",
   "nbconvert_exporter": "python",
   "pygments_lexer": "ipython3",
   "version": "3.9.12"
  }
 },
 "nbformat": 4,
 "nbformat_minor": 5
}
