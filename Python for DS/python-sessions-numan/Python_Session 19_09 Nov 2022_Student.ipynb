{
 "cells": [
  {
   "cell_type": "code",
   "execution_count": 2,
   "id": "ac528e0e",
   "metadata": {},
   "outputs": [],
   "source": [
    "kelimeler = [\"asmak\", \"kesmek\", \"kelleucurmak\"]"
   ]
  },
  {
   "cell_type": "code",
   "execution_count": 3,
   "id": "361fc27b",
   "metadata": {},
   "outputs": [
    {
     "data": {
      "text/plain": [
       "<map at 0x127cb306460>"
      ]
     },
     "execution_count": 3,
     "metadata": {},
     "output_type": "execute_result"
    }
   ],
   "source": [
    "map(len, kelimeler)"
   ]
  },
  {
   "cell_type": "code",
   "execution_count": 4,
   "id": "07159c8c",
   "metadata": {},
   "outputs": [
    {
     "data": {
      "text/plain": [
       "[5, 6, 12]"
      ]
     },
     "execution_count": 4,
     "metadata": {},
     "output_type": "execute_result"
    }
   ],
   "source": [
    "list(map(len, kelimeler))"
   ]
  },
  {
   "cell_type": "code",
   "execution_count": 9,
   "id": "2d0c425f",
   "metadata": {},
   "outputs": [
    {
     "data": {
      "text/plain": [
       "<map at 0x127cb650460>"
      ]
     },
     "execution_count": 9,
     "metadata": {},
     "output_type": "execute_result"
    }
   ],
   "source": [
    "uzunluk = map(len, kelimeler)\n",
    "uzunluk"
   ]
  },
  {
   "cell_type": "code",
   "execution_count": 10,
   "id": "9b3a6e47",
   "metadata": {},
   "outputs": [
    {
     "name": "stdout",
     "output_type": "stream",
     "text": [
      "5 6 12\n"
     ]
    }
   ],
   "source": [
    "print(* uzunluk)"
   ]
  },
  {
   "cell_type": "code",
   "execution_count": 11,
   "id": "cc086dd5",
   "metadata": {},
   "outputs": [
    {
     "name": "stdout",
     "output_type": "stream",
     "text": [
      "[5, 6, 12]\n"
     ]
    }
   ],
   "source": [
    "length = []\n",
    "\n",
    "for  i in kelimeler:\n",
    "    length.append(len(i))\n",
    "print(length)"
   ]
  },
  {
   "cell_type": "code",
   "execution_count": 14,
   "id": "b11a7c41",
   "metadata": {},
   "outputs": [
    {
     "name": "stdout",
     "output_type": "stream",
     "text": [
      "<class 'map'>\n",
      "[1, 4, 9, 16, 25]\n",
      "[1, 4, 9, 16, 25]\n"
     ]
    }
   ],
   "source": [
    "iterable = [1,2,3,4,5]\n",
    "map(lambda x: x**2, iterable)\n",
    "result= map(lambda x: x**2, iterable)\n",
    "print(type(result))\n",
    "\n",
    "print(list(result))\n",
    "\n",
    "print(list(map(lambda x: x**2, iterable)))"
   ]
  },
  {
   "cell_type": "code",
   "execution_count": 19,
   "id": "479a94d8",
   "metadata": {},
   "outputs": [],
   "source": [
    "def kare(x):\n",
    "    return x**2"
   ]
  },
  {
   "cell_type": "code",
   "execution_count": 20,
   "id": "8821530f",
   "metadata": {},
   "outputs": [],
   "source": [
    "iterable = [1,2,3,4]"
   ]
  },
  {
   "cell_type": "code",
   "execution_count": 21,
   "id": "244487c0",
   "metadata": {},
   "outputs": [
    {
     "data": {
      "text/plain": [
       "[1, 4, 9, 16, 25]"
      ]
     },
     "execution_count": 21,
     "metadata": {},
     "output_type": "execute_result"
    }
   ],
   "source": [
    "list(map(kare, iterabe))"
   ]
  },
  {
   "cell_type": "code",
   "execution_count": null,
   "id": "d1ee07c0",
   "metadata": {},
   "outputs": [],
   "source": []
  },
  {
   "cell_type": "code",
   "execution_count": 23,
   "id": "d0ba6d64",
   "metadata": {},
   "outputs": [
    {
     "data": {
      "text/plain": [
       "'ali'"
      ]
     },
     "execution_count": 23,
     "metadata": {},
     "output_type": "execute_result"
    }
   ],
   "source": [
    "topla = lambda x,y,z : x+ y + z\n",
    "\n",
    "topla(\"a\",\"l\",\"i\")"
   ]
  },
  {
   "cell_type": "code",
   "execution_count": 28,
   "id": "46795b89",
   "metadata": {},
   "outputs": [
    {
     "name": "stdout",
     "output_type": "stream",
     "text": [
      "['one', 'six', 'ten', 'two']\n"
     ]
    }
   ],
   "source": [
    "letter1 = [\"o\", \"s\", \"t\", \"t\"]\n",
    "letter2 = [\"n\", \"i\", \"e\", \"w\"]\n",
    "letter3 = [\"e\", \"x\", \"n\", \"o\"]\n",
    "numbers = map(lambda x,y,z: x+y+z, letter1, letter2,letter3)\n",
    "print(list(numbers))\n"
   ]
  },
  {
   "cell_type": "code",
   "execution_count": 29,
   "id": "6bc3287b",
   "metadata": {},
   "outputs": [
    {
     "name": "stdout",
     "output_type": "stream",
     "text": [
      "[6.0, 6.0, 6.0, 6.0]\n"
     ]
    }
   ],
   "source": [
    "nums1  = [9,6,7,4]\n",
    "nums2 = [3,6,5,8]\n",
    "\n",
    "ortalama = lambda x,y : (x+y)/2\n",
    "sonuc = map(ortalama, nums1,nums2)\n",
    "print(list(sonuc))"
   ]
  },
  {
   "cell_type": "code",
   "execution_count": 42,
   "id": "70fc5201",
   "metadata": {},
   "outputs": [
    {
     "name": "stdout",
     "output_type": "stream",
     "text": [
      "['i love you ', 'you ate much ', 'he works hard ']\n"
     ]
    }
   ],
   "source": [
    "words1 = [\"you\", \"much\", \"hard\"]\n",
    "words2 = [\"i\", \"you\", \"he\"]\n",
    "words3 = [\"love\", \"ate\", \"works\"]\n",
    "\n",
    "add = lambda x, y, z : y+\" \" + z+\" \" + x +\" \"\n",
    "result = map(add , words1, words2, words3)\n",
    "print(list(result))"
   ]
  },
  {
   "cell_type": "code",
   "execution_count": 44,
   "id": "85434ab7",
   "metadata": {},
   "outputs": [
    {
     "name": "stdout",
     "output_type": "stream",
     "text": [
      "<class 'filter'>\n",
      "('Even numbers are:', [0, 2, 4, 6, 8])\n"
     ]
    }
   ],
   "source": [
    "first_ten = [0,1,2,3,4,5,6,7,8,9]\n",
    "\n",
    "even = filter(lambda x: x%2 == 0, first_ten)\n",
    "print(type(even))\n",
    "\n",
    "print((\"Even numbers are:\",list(even)))"
   ]
  },
  {
   "cell_type": "code",
   "execution_count": 45,
   "id": "c006e09f",
   "metadata": {},
   "outputs": [
    {
     "name": "stdout",
     "output_type": "stream",
     "text": [
      "1 3 5 7 9\n"
     ]
    }
   ],
   "source": [
    "first_ten = [0,1,2,3,4,5,6,7,8,9]\n",
    "\n",
    "odd1 = filter(lambda x: x%2 != 0, first_ten)\n",
    "\n",
    "odd2 = filter(lambda x: x%2 == 1, first_ten)\n",
    "\n",
    "odd3 = filter(lambda x: not x%2 == 0, first_ten)\n",
    "\n",
    "odd4 = filter(lambda x: x%2, first_ten)\n",
    "\n",
    "\n",
    "print(*odd3)"
   ]
  },
  {
   "cell_type": "code",
   "execution_count": 48,
   "id": "2b6d2b18",
   "metadata": {},
   "outputs": [
    {
     "name": "stdout",
     "output_type": "stream",
     "text": [
      "['swim', 'me', 'kiwi']\n"
     ]
    }
   ],
   "source": [
    "words = [\"apple\", \"swim\", \"clock\", \"me\", \"kiwi\", \"banana\"]\n",
    "\n",
    "uzunluk = filter(lambda x: len(x) < 5 , words)\n",
    "print(list(uzunluk))"
   ]
  },
  {
   "cell_type": "code",
   "execution_count": 49,
   "id": "baa37375",
   "metadata": {},
   "outputs": [
    {
     "name": "stdout",
     "output_type": "stream",
     "text": [
      "swim\n",
      "me\n",
      "kiwi\n"
     ]
    }
   ],
   "source": [
    "words = [\"apple\", \"swim\", \"clock\", \"me\", \"kiwi\", \"banana\"]\n",
    "\n",
    "for  i in filter(lambda x: len(x) < 5 , words):\n",
    "    print(i)"
   ]
  },
  {
   "cell_type": "code",
   "execution_count": 69,
   "id": "8ee7261c",
   "metadata": {},
   "outputs": [
    {
     "data": {
      "text/plain": [
       "['a', 'b', 'c']"
      ]
     },
     "execution_count": 69,
     "metadata": {},
     "output_type": "execute_result"
    }
   ],
   "source": [
    "letter1 = \"a b c\".split()\n",
    "letter2 = \"x y z\".split()\n",
    "\n",
    "letter1"
   ]
  },
  {
   "cell_type": "code",
   "execution_count": 70,
   "id": "85d5415e",
   "metadata": {},
   "outputs": [
    {
     "data": {
      "text/plain": [
       "[('a', 'x'), ('b', 'y'), ('c', 'z')]"
      ]
     },
     "execution_count": 70,
     "metadata": {},
     "output_type": "execute_result"
    }
   ],
   "source": [
    "list(map(lambda x,y : (x,y), letter1, letter2))"
   ]
  },
  {
   "cell_type": "code",
   "execution_count": 86,
   "id": "8406d39e",
   "metadata": {},
   "outputs": [
    {
     "data": {
      "text/plain": [
       "[('a', 'x'), ('b', 'y'), ('c', 'z')]"
      ]
     },
     "execution_count": 86,
     "metadata": {},
     "output_type": "execute_result"
    }
   ],
   "source": [
    "letter1 = \"a b c\".split()\n",
    "letter2 = \"x y z\".split()\n",
    "\n",
    "list(zip(letter1, letter2))"
   ]
  },
  {
   "cell_type": "code",
   "execution_count": 87,
   "id": "8bf797f5",
   "metadata": {},
   "outputs": [
    {
     "data": {
      "text/plain": [
       "<map at 0x127cc81f730>"
      ]
     },
     "execution_count": 87,
     "metadata": {},
     "output_type": "execute_result"
    }
   ],
   "source": [
    "map(zip,letter1, letter2)"
   ]
  },
  {
   "cell_type": "code",
   "execution_count": 88,
   "id": "9fb64bb5",
   "metadata": {},
   "outputs": [],
   "source": []
  },
  {
   "cell_type": "code",
   "execution_count": 91,
   "id": "bb46a4b0",
   "metadata": {},
   "outputs": [
    {
     "data": {
      "text/plain": [
       "[<zip at 0x127cd273600>, <zip at 0x127cd273ac0>, <zip at 0x127cd8e9980>]"
      ]
     },
     "execution_count": 91,
     "metadata": {},
     "output_type": "execute_result"
    }
   ],
   "source": [
    "list(map(zip,letter1, letter2))"
   ]
  },
  {
   "cell_type": "code",
   "execution_count": 92,
   "id": "7209b2f4",
   "metadata": {},
   "outputs": [
    {
     "name": "stdout",
     "output_type": "stream",
     "text": [
      "('a', 'x')\n",
      "('b', 'y')\n",
      "('c', 'z')\n"
     ]
    }
   ],
   "source": [
    "for  i in map(zip,letter1, letter2):\n",
    "    for j in i:\n",
    "        print(j)"
   ]
  },
  {
   "cell_type": "code",
   "execution_count": 95,
   "id": "edfd3c15",
   "metadata": {},
   "outputs": [
    {
     "data": {
      "text/plain": [
       "[('b', 'y')]"
      ]
     },
     "execution_count": 95,
     "metadata": {},
     "output_type": "execute_result"
    }
   ],
   "source": [
    "list(zip(letter1[1], letter2[1]))"
   ]
  },
  {
   "cell_type": "code",
   "execution_count": 101,
   "id": "af4a6de3",
   "metadata": {},
   "outputs": [
    {
     "data": {
      "text/plain": [
       "['a', 'e', 'i']"
      ]
     },
     "execution_count": 101,
     "metadata": {},
     "output_type": "execute_result"
    }
   ],
   "source": [
    "first_ten = ['a', 'b', 'c', 'd', 'e', 'f', 'g', 'h', 'i', 'j']\n",
    "\n",
    "vowel_list = [\"a\", \"e\", \"i\", \"o\", \"u\" ]\n",
    "\n",
    "fonc = lambda x: True if x in vowel_list else False\n",
    "\n",
    "vowels = filter(fonc, first_ten)\n",
    "list(vowels)"
   ]
  },
  {
   "cell_type": "code",
   "execution_count": 103,
   "id": "3e4ea2b4",
   "metadata": {},
   "outputs": [
    {
     "data": {
      "text/plain": [
       "['a', 'e', 'i']"
      ]
     },
     "execution_count": 103,
     "metadata": {},
     "output_type": "execute_result"
    }
   ],
   "source": [
    "vowels2 = filter(lambda x : x in vowel_list, first_ten)\n",
    "\n",
    "list(vowels2)"
   ]
  },
  {
   "cell_type": "code",
   "execution_count": 110,
   "id": "df48e4e3",
   "metadata": {},
   "outputs": [
    {
     "name": "stdout",
     "output_type": "stream",
     "text": [
      "abcabc\n"
     ]
    }
   ],
   "source": [
    "def repeater(n):\n",
    "    return lambda x: x*n\n",
    "string = repeater(2)\n",
    "\n",
    "print(string(\"abc\"))\n",
    "\n"
   ]
  },
  {
   "cell_type": "code",
   "execution_count": 112,
   "id": "bf6b61fa",
   "metadata": {},
   "outputs": [
    {
     "name": "stdout",
     "output_type": "stream",
     "text": [
      "hello:)\n"
     ]
    }
   ],
   "source": [
    "def smile(n):\n",
    "    return lambda x: x + n\n",
    "\n",
    "emoji = smile(\":)\" )\n",
    "print(emoji(\"hello\"))"
   ]
  },
  {
   "cell_type": "code",
   "execution_count": 114,
   "id": "9bf8db64",
   "metadata": {},
   "outputs": [
    {
     "name": "stdout",
     "output_type": "stream",
     "text": [
      "hello:)\n",
      "hello:(\n",
      "hello:-\n"
     ]
    }
   ],
   "source": [
    "def smile(n):\n",
    "    return lambda x: x + n\n",
    "\n",
    "emoji = smile(\":)\" )\n",
    "print(emoji(\"hello\"))\n",
    "\n",
    "def sad(n):\n",
    "    return lambda x: x + n\n",
    "\n",
    "emoji = smile(\":(\" )\n",
    "print(emoji(\"hello\"))\n",
    "\n",
    "def neutral(n):\n",
    "    return lambda x: x + n\n",
    "\n",
    "emoji = smile(\":-\" )\n",
    "print(emoji(\"hello\"))"
   ]
  },
  {
   "cell_type": "code",
   "execution_count": 116,
   "id": "01f11ce7",
   "metadata": {},
   "outputs": [
    {
     "name": "stdout",
     "output_type": "stream",
     "text": [
      "hi :)\n",
      "None\n",
      "noldu :-\n",
      "None\n"
     ]
    }
   ],
   "source": [
    "def functioner(emoji = \"\"):\n",
    "    return lambda message: print(message, emoji)\n",
    "\n",
    "gülenyüz= functioner(\":)\")\n",
    "üzgünyüz= functioner(\":(\")\n",
    "donukyüz = functioner(\":-\")\n",
    "\n",
    "print(gülenyüz(\"hi\"))\n",
    "print(donukyüz(\"noldu\"))"
   ]
  },
  {
   "cell_type": "code",
   "execution_count": 122,
   "id": "21db938d",
   "metadata": {},
   "outputs": [
    {
     "data": {
      "text/plain": [
       "6"
      ]
     },
     "execution_count": 122,
     "metadata": {},
     "output_type": "execute_result"
    }
   ],
   "source": [
    "def function_generator(func_name):\n",
    "    return lambda x: func_name(x)\n",
    "\n",
    "numan_max = function_generator(max)\n",
    "numan_max([1,2,6])\n"
   ]
  },
  {
   "cell_type": "code",
   "execution_count": 121,
   "id": "a72baddd",
   "metadata": {},
   "outputs": [
    {
     "name": "stdout",
     "output_type": "stream",
     "text": [
      "cimbom\n"
     ]
    }
   ],
   "source": [
    "numan_print= function_generator(print)\n",
    "numan_print(\"cimbom\")"
   ]
  },
  {
   "cell_type": "code",
   "execution_count": 124,
   "id": "e75326ce",
   "metadata": {},
   "outputs": [
    {
     "data": {
      "text/plain": [
       "False"
      ]
     },
     "execution_count": 124,
     "metadata": {},
     "output_type": "execute_result"
    }
   ],
   "source": [
    "numan_bool = function_generator(bool)\n",
    "numan_bool(0)"
   ]
  },
  {
   "cell_type": "code",
   "execution_count": 126,
   "id": "f6a3991f",
   "metadata": {},
   "outputs": [
    {
     "data": {
      "text/plain": [
       "1"
      ]
     },
     "execution_count": 126,
     "metadata": {},
     "output_type": "execute_result"
    }
   ],
   "source": [
    "num = [1,2,11,1,1]\n",
    "max(num, key=num.count)"
   ]
  },
  {
   "cell_type": "code",
   "execution_count": 129,
   "id": "83570d51",
   "metadata": {},
   "outputs": [
    {
     "data": {
      "text/plain": [
       "3"
      ]
     },
     "execution_count": 129,
     "metadata": {},
     "output_type": "execute_result"
    }
   ],
   "source": [
    "tekrar_sayısı = num.count(max(num, key=num.count))\n",
    "tekrar_sayısı"
   ]
  },
  {
   "cell_type": "code",
   "execution_count": 135,
   "id": "d202610d",
   "metadata": {},
   "outputs": [
    {
     "data": {
      "text/plain": [
       "0"
      ]
     },
     "execution_count": 135,
     "metadata": {},
     "output_type": "execute_result"
    }
   ],
   "source": [
    "def equal(a,b,c):\n",
    "    num = (a,b,c)\n",
    "    sonuc = num.count(max(num, key=num.count))\n",
    "    if sonuc > 1:\n",
    "        return snuc\n",
    "    else:\n",
    "        return 0\n",
    "equal(1,2,3)"
   ]
  },
  {
   "cell_type": "code",
   "execution_count": 134,
   "id": "1196f6f6",
   "metadata": {},
   "outputs": [
    {
     "data": {
      "text/plain": [
       "2"
      ]
     },
     "execution_count": 134,
     "metadata": {},
     "output_type": "execute_result"
    }
   ],
   "source": [
    "def equal_(*args):\n",
    "    num = list(args)\n",
    "    sonuc = num.count(max(num, key=num.count))\n",
    "    if sonuc > 1:\n",
    "        return sonuc\n",
    "    else:\n",
    "        return 0\n",
    "equal_(1,2,22,2,36,6)"
   ]
  },
  {
   "cell_type": "code",
   "execution_count": null,
   "id": "b4329f7f",
   "metadata": {},
   "outputs": [],
   "source": []
  }
 ],
 "metadata": {
  "kernelspec": {
   "display_name": "Python 3 (ipykernel)",
   "language": "python",
   "name": "python3"
  },
  "language_info": {
   "codemirror_mode": {
    "name": "ipython",
    "version": 3
   },
   "file_extension": ".py",
   "mimetype": "text/x-python",
   "name": "python",
   "nbconvert_exporter": "python",
   "pygments_lexer": "ipython3",
   "version": "3.9.12"
  }
 },
 "nbformat": 4,
 "nbformat_minor": 5
}
