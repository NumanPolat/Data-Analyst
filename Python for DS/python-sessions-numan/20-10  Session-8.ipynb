{
 "cells": [
  {
   "cell_type": "markdown",
   "id": "11c0e16a",
   "metadata": {},
   "source": [
    "## list-indexing -slicing a list"
   ]
  },
  {
   "cell_type": "code",
   "execution_count": 1,
   "id": "3fb10eb8",
   "metadata": {},
   "outputs": [],
   "source": [
    "## list_name[index no]"
   ]
  },
  {
   "cell_type": "code",
   "execution_count": 2,
   "id": "83a6177b",
   "metadata": {},
   "outputs": [],
   "source": [
    "## 28121[2]    birşey indexlenebilir olması için sayılabilir olması lazım\n",
    "## len(125)        integer veriler iterable değildir.Ama str ifadeler iterable dır."
   ]
  },
  {
   "cell_type": "code",
   "execution_count": 3,
   "id": "06f7109d",
   "metadata": {},
   "outputs": [
    {
     "name": "stdout",
     "output_type": "stream",
     "text": [
      "a\n"
     ]
    }
   ],
   "source": [
    "word = [\"h\", \"a\",\"f\"]           ## list_name[index no]\n",
    "print(word[1])"
   ]
  },
  {
   "cell_type": "code",
   "execution_count": 4,
   "id": "23b4f258",
   "metadata": {},
   "outputs": [
    {
     "name": "stdout",
     "output_type": "stream",
     "text": [
      "purple\n",
      "<class 'str'>\n",
      "p\n",
      "<class 'str'>\n"
     ]
    }
   ],
   "source": [
    "colors = [\"red\", \"blue\", \"purple\"]\n",
    "print(colors[2])\n",
    "print(type(colors[2]))\n",
    "print((colors[2][3]))\n",
    "print(type(colors[2][3]))\n"
   ]
  },
  {
   "cell_type": "code",
   "execution_count": 5,
   "id": "7d66cfe3",
   "metadata": {},
   "outputs": [
    {
     "name": "stdout",
     "output_type": "stream",
     "text": [
      "brown\n"
     ]
    }
   ],
   "source": [
    "colors = [\"red\", \"blue\", \"purple\",\"brown\"]\n",
    "print(colors[3])\n",
    "                               \n"
   ]
  },
  {
   "cell_type": "code",
   "execution_count": 6,
   "id": "e67defd9",
   "metadata": {},
   "outputs": [
    {
     "data": {
      "text/plain": [
       "'brown'"
      ]
     },
     "execution_count": 6,
     "metadata": {},
     "output_type": "execute_result"
    }
   ],
   "source": [
    "colors = [\"red\", \"blue\", \"purple\",\"brown\"][3]\n",
    "colors\n"
   ]
  },
  {
   "cell_type": "code",
   "execution_count": 7,
   "id": "23592dd5",
   "metadata": {},
   "outputs": [
    {
     "name": "stdout",
     "output_type": "stream",
     "text": [
      "[['Newyork', 'Canada', 'losangeles', 'istanbul', 'İzmir']]\n",
      "['Newyork', 'Canada', 'losangeles', 'istanbul', 'İzmir']\n",
      "losangeles\n",
      "a\n"
     ]
    }
   ],
   "source": [
    "city = [\"Newyork\", \"Canada\", \"losangeles\",\"istanbul\", \"İzmir\"]\n",
    "city_list = []\n",
    "city_list.append(city)     # we have created a nested list\n",
    "print(city_list)\n",
    "print(city_list[0])       #access to first and only element  \n",
    "print(city_list[0][2])\n",
    "print(city_list[0][2][3])    #iç içe index bakılır.\n"
   ]
  },
  {
   "cell_type": "code",
   "execution_count": 8,
   "id": "ac45e227",
   "metadata": {},
   "outputs": [],
   "source": [
    "## slicing a list"
   ]
  },
  {
   "cell_type": "code",
   "execution_count": 11,
   "id": "82665793",
   "metadata": {},
   "outputs": [],
   "source": [
    "## list_name = [start:stop:step]      from start to stop"
   ]
  },
  {
   "cell_type": "code",
   "execution_count": null,
   "id": "2f10e44d",
   "metadata": {},
   "outputs": [],
   "source": [
    "even_numbers = {2, 4 ,6 ,8 10}\n",
    "even_numbers"
   ]
  },
  {
   "cell_type": "code",
   "execution_count": 14,
   "id": "996f1dec",
   "metadata": {},
   "outputs": [
    {
     "data": {
      "text/plain": [
       "range(0, 11)"
      ]
     },
     "execution_count": 14,
     "metadata": {},
     "output_type": "execute_result"
    }
   ],
   "source": [
    "range(0, 11)          # create a object"
   ]
  },
  {
   "cell_type": "code",
   "execution_count": 15,
   "id": "ea7be9f1",
   "metadata": {},
   "outputs": [
    {
     "data": {
      "text/plain": [
       "range"
      ]
     },
     "execution_count": 15,
     "metadata": {},
     "output_type": "execute_result"
    }
   ],
   "source": [
    "type(range(0, 11))"
   ]
  },
  {
   "cell_type": "code",
   "execution_count": 20,
   "id": "719731a0",
   "metadata": {},
   "outputs": [
    {
     "name": "stdout",
     "output_type": "stream",
     "text": [
      "[0, 1, 2, 3, 4, 5, 6, 7, 8, 9, 10]\n"
     ]
    }
   ],
   "source": [
    "sayılar = list(range(0, 11))\n",
    "print(sayılar)"
   ]
  },
  {
   "cell_type": "code",
   "execution_count": 10,
   "id": "b617d1ff",
   "metadata": {},
   "outputs": [
    {
     "name": "stdout",
     "output_type": "stream",
     "text": [
      "[1, 3, 5, 7, 9]\n"
     ]
    }
   ],
   "source": [
    "sayı = list(range(11))\n",
    "print(sayı[1:11:2])"
   ]
  },
  {
   "cell_type": "code",
   "execution_count": 21,
   "id": "78b470fd",
   "metadata": {},
   "outputs": [
    {
     "data": {
      "text/plain": [
       "range(11, -1)"
      ]
     },
     "execution_count": 21,
     "metadata": {},
     "output_type": "execute_result"
    }
   ],
   "source": [
    "range(11, -1)"
   ]
  },
  {
   "cell_type": "code",
   "execution_count": 22,
   "id": "08a255d7",
   "metadata": {},
   "outputs": [
    {
     "data": {
      "text/plain": [
       "[]"
      ]
     },
     "execution_count": 22,
     "metadata": {},
     "output_type": "execute_result"
    }
   ],
   "source": [
    "list(range(11 ,-1))"
   ]
  },
  {
   "cell_type": "code",
   "execution_count": 23,
   "id": "262b6ba5",
   "metadata": {},
   "outputs": [
    {
     "data": {
      "text/plain": [
       "[11, 10, 9, 8, 7, 6, 5, 4, 3, 2, 1]"
      ]
     },
     "execution_count": 23,
     "metadata": {},
     "output_type": "execute_result"
    }
   ],
   "source": [
    "list(range(11, 0, -1))"
   ]
  },
  {
   "cell_type": "code",
   "execution_count": 26,
   "id": "3f461747",
   "metadata": {},
   "outputs": [
    {
     "name": "stdout",
     "output_type": "stream",
     "text": [
      "['elephant', 'lion', 'cat', 'wolf', 'fox', 'deer']\n",
      "['elephant', 'lion', 'cat', 'wolf', 'fox']\n",
      "['elephant', 'cat', 'fox']\n"
     ]
    }
   ],
   "source": [
    "animals = [\"elephant\", \"lion\", \"cat\", \"wolf\", \"fox\", \"deer\"]\n",
    "print(animals[:])     ## all writes elemnts\n",
    "print(animals[:5]) \n",
    "print(animals[::2])   "
   ]
  },
  {
   "cell_type": "code",
   "execution_count": 29,
   "id": "21fa5f84",
   "metadata": {},
   "outputs": [
    {
     "name": "stdout",
     "output_type": "stream",
     "text": [
      "['one', ' two', 'three']\n"
     ]
    }
   ],
   "source": [
    "mix_list = [1, [1, \"one\", 2, \" two\", 3, \"three\"], 4]   # sadece stringleri yazdırdık.\n",
    "print(mix_list[1][1::2])"
   ]
  },
  {
   "cell_type": "code",
   "execution_count": null,
   "id": "f681dea5",
   "metadata": {},
   "outputs": [],
   "source": []
  },
  {
   "cell_type": "code",
   "execution_count": null,
   "id": "f3321844",
   "metadata": {},
   "outputs": [],
   "source": []
  },
  {
   "cell_type": "code",
   "execution_count": null,
   "id": "d11813b5",
   "metadata": {},
   "outputs": [],
   "source": []
  }
 ],
 "metadata": {
  "kernelspec": {
   "display_name": "Python 3 (ipykernel)",
   "language": "python",
   "name": "python3"
  },
  "language_info": {
   "codemirror_mode": {
    "name": "ipython",
    "version": 3
   },
   "file_extension": ".py",
   "mimetype": "text/x-python",
   "name": "python",
   "nbconvert_exporter": "python",
   "pygments_lexer": "ipython3",
   "version": "3.9.12"
  }
 },
 "nbformat": 4,
 "nbformat_minor": 5
}
