{
 "cells": [
  {
   "cell_type": "code",
   "execution_count": null,
   "id": "8ce3f65d",
   "metadata": {},
   "outputs": [],
   "source": []
  },
  {
   "cell_type": "code",
   "execution_count": null,
   "id": "5242ed65",
   "metadata": {},
   "outputs": [],
   "source": []
  },
  {
   "cell_type": "code",
   "execution_count": 1,
   "id": "13f343cc",
   "metadata": {},
   "outputs": [
    {
     "ename": "ValueError",
     "evalue": "too many values to unpack (expected 3)",
     "output_type": "error",
     "traceback": [
      "\u001b[1;31m---------------------------------------------------------------------------\u001b[0m",
      "\u001b[1;31mValueError\u001b[0m                                Traceback (most recent call last)",
      "Input \u001b[1;32mIn [1]\u001b[0m, in \u001b[0;36m<cell line: 1>\u001b[1;34m()\u001b[0m\n\u001b[1;32m----> 1\u001b[0m x, y, z \u001b[38;5;241m=\u001b[39m (\u001b[38;5;241m11\u001b[39m,\u001b[38;5;241m22\u001b[39m,\u001b[38;5;241m33\u001b[39m,\u001b[38;5;241m66\u001b[39m)\n",
      "\u001b[1;31mValueError\u001b[0m: too many values to unpack (expected 3)"
     ]
    }
   ],
   "source": [
    "x, y, z = (11,22,33,66)"
   ]
  },
  {
   "cell_type": "code",
   "execution_count": 3,
   "id": "1f40f7c1",
   "metadata": {},
   "outputs": [],
   "source": [
    "x, y, *z = (11,22,33,66)    # * ifadesi cümeleye gelirse yer tutat fazladan"
   ]
  },
  {
   "cell_type": "code",
   "execution_count": 4,
   "id": "1df563c1",
   "metadata": {},
   "outputs": [
    {
     "data": {
      "text/plain": [
       "11"
      ]
     },
     "execution_count": 4,
     "metadata": {},
     "output_type": "execute_result"
    }
   ],
   "source": [
    "x"
   ]
  },
  {
   "cell_type": "code",
   "execution_count": 5,
   "id": "d3f8f396",
   "metadata": {},
   "outputs": [
    {
     "data": {
      "text/plain": [
       "22"
      ]
     },
     "execution_count": 5,
     "metadata": {},
     "output_type": "execute_result"
    }
   ],
   "source": [
    "y"
   ]
  },
  {
   "cell_type": "code",
   "execution_count": 6,
   "id": "cd6ca84d",
   "metadata": {},
   "outputs": [
    {
     "data": {
      "text/plain": [
       "[33, 66]"
      ]
     },
     "execution_count": 6,
     "metadata": {},
     "output_type": "execute_result"
    }
   ],
   "source": [
    "z\n"
   ]
  },
  {
   "cell_type": "code",
   "execution_count": 7,
   "id": "76e9e1ec",
   "metadata": {},
   "outputs": [],
   "source": [
    "x, y, *_ = (11,22,33,66) "
   ]
  },
  {
   "cell_type": "code",
   "execution_count": 9,
   "id": "86a40437",
   "metadata": {},
   "outputs": [
    {
     "data": {
      "text/plain": [
       "[33, 66]"
      ]
     },
     "execution_count": 9,
     "metadata": {},
     "output_type": "execute_result"
    }
   ],
   "source": [
    "_"
   ]
  },
  {
   "cell_type": "code",
   "execution_count": 10,
   "id": "2308d32c",
   "metadata": {},
   "outputs": [],
   "source": [
    "x,_, y, _ = (11,22,33,66) "
   ]
  },
  {
   "cell_type": "code",
   "execution_count": 11,
   "id": "4b51bbb0",
   "metadata": {},
   "outputs": [
    {
     "data": {
      "text/plain": [
       "66"
      ]
     },
     "execution_count": 11,
     "metadata": {},
     "output_type": "execute_result"
    }
   ],
   "source": [
    "_    # sondaki ifadeyi anladı çalıstırdı en son."
   ]
  },
  {
   "cell_type": "code",
   "execution_count": 12,
   "id": "83ec59ae",
   "metadata": {},
   "outputs": [],
   "source": [
    "x, y, *z, t = (11,22,33,66,77,88) "
   ]
  },
  {
   "cell_type": "code",
   "execution_count": 13,
   "id": "1f40eb88",
   "metadata": {},
   "outputs": [
    {
     "data": {
      "text/plain": [
       "88"
      ]
     },
     "execution_count": 13,
     "metadata": {},
     "output_type": "execute_result"
    }
   ],
   "source": [
    "t"
   ]
  },
  {
   "cell_type": "code",
   "execution_count": 14,
   "id": "d0fe6533",
   "metadata": {},
   "outputs": [
    {
     "data": {
      "text/plain": [
       "[33, 66, 77]"
      ]
     },
     "execution_count": 14,
     "metadata": {},
     "output_type": "execute_result"
    }
   ],
   "source": [
    "z"
   ]
  },
  {
   "cell_type": "code",
   "execution_count": 15,
   "id": "2d2b18da",
   "metadata": {},
   "outputs": [],
   "source": [
    "mytuple = (\"apple\", \"banana\", \"orange\")\n",
    "myiterator = iter(mytuple)"
   ]
  },
  {
   "cell_type": "code",
   "execution_count": 16,
   "id": "ac9a5a64",
   "metadata": {},
   "outputs": [
    {
     "name": "stdout",
     "output_type": "stream",
     "text": [
      "apple banana orange\n"
     ]
    }
   ],
   "source": [
    "print(*myiterator)"
   ]
  },
  {
   "cell_type": "code",
   "execution_count": 17,
   "id": "07dc7131",
   "metadata": {},
   "outputs": [
    {
     "ename": "StopIteration",
     "evalue": "",
     "output_type": "error",
     "traceback": [
      "\u001b[1;31m---------------------------------------------------------------------------\u001b[0m",
      "\u001b[1;31mStopIteration\u001b[0m                             Traceback (most recent call last)",
      "Input \u001b[1;32mIn [17]\u001b[0m, in \u001b[0;36m<cell line: 1>\u001b[1;34m()\u001b[0m\n\u001b[1;32m----> 1\u001b[0m \u001b[38;5;28;43mnext\u001b[39;49m\u001b[43m(\u001b[49m\u001b[43mmyiterator\u001b[49m\u001b[43m)\u001b[49m\n",
      "\u001b[1;31mStopIteration\u001b[0m: "
     ]
    }
   ],
   "source": [
    "next(myiterator)"
   ]
  },
  {
   "cell_type": "code",
   "execution_count": 18,
   "id": "248300e8",
   "metadata": {},
   "outputs": [
    {
     "data": {
      "text/plain": [
       "'apple'"
      ]
     },
     "execution_count": 18,
     "metadata": {},
     "output_type": "execute_result"
    }
   ],
   "source": [
    "myiterator = iter(mytuple)\n",
    "next(myiterator)"
   ]
  },
  {
   "cell_type": "code",
   "execution_count": 19,
   "id": "a92fe5ba",
   "metadata": {},
   "outputs": [
    {
     "data": {
      "text/plain": [
       "'banana'"
      ]
     },
     "execution_count": 19,
     "metadata": {},
     "output_type": "execute_result"
    }
   ],
   "source": [
    "next(myiterator)"
   ]
  },
  {
   "cell_type": "code",
   "execution_count": 20,
   "id": "18a15dac",
   "metadata": {},
   "outputs": [
    {
     "data": {
      "text/plain": [
       "'orange'"
      ]
     },
     "execution_count": 20,
     "metadata": {},
     "output_type": "execute_result"
    }
   ],
   "source": [
    "next(myiterator)"
   ]
  },
  {
   "cell_type": "code",
   "execution_count": 21,
   "id": "1cf60abb",
   "metadata": {},
   "outputs": [
    {
     "ename": "StopIteration",
     "evalue": "",
     "output_type": "error",
     "traceback": [
      "\u001b[1;31m---------------------------------------------------------------------------\u001b[0m",
      "\u001b[1;31mStopIteration\u001b[0m                             Traceback (most recent call last)",
      "Input \u001b[1;32mIn [21]\u001b[0m, in \u001b[0;36m<cell line: 1>\u001b[1;34m()\u001b[0m\n\u001b[1;32m----> 1\u001b[0m \u001b[38;5;28;43mnext\u001b[39;49m\u001b[43m(\u001b[49m\u001b[43mmyiterator\u001b[49m\u001b[43m)\u001b[49m\n",
      "\u001b[1;31mStopIteration\u001b[0m: "
     ]
    }
   ],
   "source": [
    "next(myiterator)              # for döngüsü gibi tamamlanınca hata verir."
   ]
  },
  {
   "cell_type": "code",
   "execution_count": 22,
   "id": "b2696a35",
   "metadata": {},
   "outputs": [],
   "source": [
    "myiter = iter(\"hagi\")"
   ]
  },
  {
   "cell_type": "code",
   "execution_count": 23,
   "id": "de01fc5b",
   "metadata": {},
   "outputs": [
    {
     "data": {
      "text/plain": [
       "'h'"
      ]
     },
     "execution_count": 23,
     "metadata": {},
     "output_type": "execute_result"
    }
   ],
   "source": [
    "next(myiter)"
   ]
  },
  {
   "cell_type": "code",
   "execution_count": 24,
   "id": "301c6745",
   "metadata": {},
   "outputs": [
    {
     "data": {
      "text/plain": [
       "'a'"
      ]
     },
     "execution_count": 24,
     "metadata": {},
     "output_type": "execute_result"
    }
   ],
   "source": [
    "next(myiter)"
   ]
  },
  {
   "cell_type": "code",
   "execution_count": 25,
   "id": "31353325",
   "metadata": {},
   "outputs": [
    {
     "data": {
      "text/plain": [
       "'g'"
      ]
     },
     "execution_count": 25,
     "metadata": {},
     "output_type": "execute_result"
    }
   ],
   "source": [
    "next(myiter)"
   ]
  },
  {
   "cell_type": "code",
   "execution_count": 26,
   "id": "63da3cbe",
   "metadata": {},
   "outputs": [
    {
     "data": {
      "text/plain": [
       "'i'"
      ]
     },
     "execution_count": 26,
     "metadata": {},
     "output_type": "execute_result"
    }
   ],
   "source": [
    "next(myiter)"
   ]
  },
  {
   "cell_type": "code",
   "execution_count": 27,
   "id": "6f99f1bd",
   "metadata": {},
   "outputs": [
    {
     "ename": "StopIteration",
     "evalue": "",
     "output_type": "error",
     "traceback": [
      "\u001b[1;31m---------------------------------------------------------------------------\u001b[0m",
      "\u001b[1;31mStopIteration\u001b[0m                             Traceback (most recent call last)",
      "Input \u001b[1;32mIn [27]\u001b[0m, in \u001b[0;36m<cell line: 1>\u001b[1;34m()\u001b[0m\n\u001b[1;32m----> 1\u001b[0m \u001b[38;5;28;43mnext\u001b[39;49m\u001b[43m(\u001b[49m\u001b[43mmyiter\u001b[49m\u001b[43m)\u001b[49m\n",
      "\u001b[1;31mStopIteration\u001b[0m: "
     ]
    }
   ],
   "source": [
    "next(myiter)"
   ]
  },
  {
   "cell_type": "markdown",
   "id": "d19ac15f",
   "metadata": {},
   "source": [
    "## List Comprehension"
   ]
  },
  {
   "cell_type": "markdown",
   "id": "98f6084c",
   "metadata": {},
   "source": [
    "```\n",
    "for variable in iterable:\n",
    "    expression\n",
    "```"
   ]
  },
  {
   "cell_type": "code",
   "execution_count": null,
   "id": "74b5af51",
   "metadata": {},
   "outputs": [],
   "source": [
    "```python\n",
    "[expression for item in iterable]\n"
   ]
  },
  {
   "cell_type": "code",
   "execution_count": 31,
   "id": "f5344dce",
   "metadata": {},
   "outputs": [
    {
     "data": {
      "text/plain": [
       "[0, 1, 2, 3, 4]"
      ]
     },
     "execution_count": 31,
     "metadata": {},
     "output_type": "execute_result"
    }
   ],
   "source": [
    "sayılar = []\n",
    "\n",
    "for n in range(5):\n",
    "    sayılar.append(n)\n",
    "sayılar"
   ]
  },
  {
   "cell_type": "code",
   "execution_count": 33,
   "id": "6bc6979a",
   "metadata": {},
   "outputs": [
    {
     "name": "stdout",
     "output_type": "stream",
     "text": [
      "[0]\n",
      "[0, 1]\n",
      "[0, 1, 2]\n",
      "[0, 1, 2, 3]\n",
      "[0, 1, 2, 3, 4]\n",
      "--------\n"
     ]
    },
    {
     "data": {
      "text/plain": [
       "[0, 1, 2, 3, 4]"
      ]
     },
     "execution_count": 33,
     "metadata": {},
     "output_type": "execute_result"
    }
   ],
   "source": [
    "sayılar = []\n",
    "\n",
    "for n in range(5):\n",
    "    sayılar.append(n)\n",
    "    print(sayılar)\n",
    "print(\"--------\")\n",
    "sayılar"
   ]
  },
  {
   "cell_type": "code",
   "execution_count": 35,
   "id": "348835d2",
   "metadata": {},
   "outputs": [
    {
     "data": {
      "text/plain": [
       "[0, 1, 2, 3, 4]"
      ]
     },
     "execution_count": 35,
     "metadata": {},
     "output_type": "execute_result"
    }
   ],
   "source": [
    "[i for i in range(5)]         ## append yapmamızı ortadan kaldıran yöntem\n"
   ]
  },
  {
   "cell_type": "code",
   "execution_count": 40,
   "id": "54a0974f",
   "metadata": {},
   "outputs": [
    {
     "data": {
      "text/plain": [
       "[0, 1, 4, 9, 16]"
      ]
     },
     "execution_count": 40,
     "metadata": {},
     "output_type": "execute_result"
    }
   ],
   "source": [
    "[i **2 for i in range(5)]\n",
    " \n",
    "## or\n",
    "\n",
    "## [i * i  for i in range(5)]"
   ]
  },
  {
   "cell_type": "code",
   "execution_count": 41,
   "id": "6edee4ba",
   "metadata": {},
   "outputs": [
    {
     "data": {
      "text/plain": [
       "'Jane Auston'"
      ]
     },
     "execution_count": 41,
     "metadata": {},
     "output_type": "execute_result"
    }
   ],
   "source": [
    "\"jane auston\".title()"
   ]
  },
  {
   "cell_type": "code",
   "execution_count": 43,
   "id": "ef7c2856",
   "metadata": {},
   "outputs": [
    {
     "data": {
      "text/plain": [
       "['Jane Auston', 'George Orwwel', 'Mehmet Akif', 'James Clear']"
      ]
     },
     "execution_count": 43,
     "metadata": {},
     "output_type": "execute_result"
    }
   ],
   "source": [
    "yazarlar = [\"jane auston\", \"george orwwel\", \"mehmet akif\", \"james clear\"]\n",
    "\n",
    "yazar_listesi = [i.title() for i in yazarlar]\n",
    "yazar_listesi"
   ]
  },
  {
   "cell_type": "code",
   "execution_count": 47,
   "id": "14e44ed7",
   "metadata": {},
   "outputs": [
    {
     "data": {
      "text/plain": [
       "<zip at 0x2779d3084c0>"
      ]
     },
     "execution_count": 47,
     "metadata": {},
     "output_type": "execute_result"
    }
   ],
   "source": [
    "a = [4,5,6,7]\n",
    "b = [8,9,10,11]\n",
    "zip(a, b)"
   ]
  },
  {
   "cell_type": "code",
   "execution_count": 48,
   "id": "4a3edc90",
   "metadata": {},
   "outputs": [
    {
     "data": {
      "text/plain": [
       "[(4, 8), (5, 9), (6, 10), (7, 11)]"
      ]
     },
     "execution_count": 48,
     "metadata": {},
     "output_type": "execute_result"
    }
   ],
   "source": [
    "list(zip(a, b))"
   ]
  },
  {
   "cell_type": "code",
   "execution_count": 49,
   "id": "ba6246a3",
   "metadata": {},
   "outputs": [
    {
     "data": {
      "text/plain": [
       "[(4, 8), (5, 9), (6, 10), (7, 11)]"
      ]
     },
     "execution_count": 49,
     "metadata": {},
     "output_type": "execute_result"
    }
   ],
   "source": [
    "alan_liste = []\n",
    "\n",
    "for i in zip(a, b):\n",
    "    alan_liste.append(i)\n",
    "alan_liste"
   ]
  },
  {
   "cell_type": "code",
   "execution_count": 50,
   "id": "35c1a4af",
   "metadata": {},
   "outputs": [
    {
     "data": {
      "text/plain": [
       "(4, 8)"
      ]
     },
     "execution_count": 50,
     "metadata": {},
     "output_type": "execute_result"
    }
   ],
   "source": [
    "alan_liste[0]"
   ]
  },
  {
   "cell_type": "code",
   "execution_count": 51,
   "id": "59cea61c",
   "metadata": {},
   "outputs": [
    {
     "name": "stdout",
     "output_type": "stream",
     "text": [
      "4\n",
      "8\n"
     ]
    }
   ],
   "source": [
    "j, k = 4, 8\n",
    "print(j)\n",
    "print(k)"
   ]
  },
  {
   "cell_type": "code",
   "execution_count": 55,
   "id": "a064a2c2",
   "metadata": {},
   "outputs": [
    {
     "name": "stdout",
     "output_type": "stream",
     "text": [
      "4 8\n",
      "32\n"
     ]
    }
   ],
   "source": [
    "j, k  = alan_liste[0]\n",
    "print(j,k) \n",
    "print(j*k)"
   ]
  },
  {
   "cell_type": "code",
   "execution_count": 56,
   "id": "5046c693",
   "metadata": {},
   "outputs": [
    {
     "data": {
      "text/plain": [
       "[(4, 8), (5, 9), (6, 10), (7, 11)]"
      ]
     },
     "execution_count": 56,
     "metadata": {},
     "output_type": "execute_result"
    }
   ],
   "source": [
    "liste = list(zip(a, b))\n",
    "liste"
   ]
  },
  {
   "cell_type": "code",
   "execution_count": 58,
   "id": "54fd7c24",
   "metadata": {},
   "outputs": [
    {
     "data": {
      "text/plain": [
       "[32, 45, 60, 77]"
      ]
     },
     "execution_count": 58,
     "metadata": {},
     "output_type": "execute_result"
    }
   ],
   "source": [
    "alan = []\n",
    "for i in range(len(liste)):\n",
    "    j, k = liste[i]\n",
    "    alan.append(j*k)\n",
    "alan"
   ]
  },
  {
   "cell_type": "code",
   "execution_count": 60,
   "id": "f47d3472",
   "metadata": {},
   "outputs": [
    {
     "data": {
      "text/plain": [
       "[(4, 8), (5, 9), (6, 10), (7, 11)]"
      ]
     },
     "execution_count": 60,
     "metadata": {},
     "output_type": "execute_result"
    }
   ],
   "source": [
    "liste"
   ]
  },
  {
   "cell_type": "code",
   "execution_count": 63,
   "id": "36af4672",
   "metadata": {},
   "outputs": [
    {
     "data": {
      "text/plain": [
       "[32, 45, 60, 77]"
      ]
     },
     "execution_count": 63,
     "metadata": {},
     "output_type": "execute_result"
    }
   ],
   "source": [
    "alan = []\n",
    "for i, j in liste :\n",
    "    alan.append(i*j)\n",
    "alan"
   ]
  },
  {
   "cell_type": "code",
   "execution_count": 64,
   "id": "3d2b38b8",
   "metadata": {},
   "outputs": [
    {
     "data": {
      "text/plain": [
       "[32, 45, 60, 77]"
      ]
     },
     "execution_count": 64,
     "metadata": {},
     "output_type": "execute_result"
    }
   ],
   "source": [
    "area = [i*j for i, j in liste]\n",
    "area"
   ]
  },
  {
   "cell_type": "code",
   "execution_count": 65,
   "id": "05547aa2",
   "metadata": {},
   "outputs": [
    {
     "data": {
      "text/plain": [
       "[32, 45, 60, 77]"
      ]
     },
     "execution_count": 65,
     "metadata": {},
     "output_type": "execute_result"
    }
   ],
   "source": [
    "area = [i*j for i, j in zip(a,b)]\n",
    "area"
   ]
  },
  {
   "cell_type": "code",
   "execution_count": 70,
   "id": "985cc3a5",
   "metadata": {},
   "outputs": [
    {
     "data": {
      "text/plain": [
       "[32, 45, 60, 77]"
      ]
     },
     "execution_count": 70,
     "metadata": {},
     "output_type": "execute_result"
    }
   ],
   "source": [
    "a = [4,5,6,7]\n",
    "b = [8,9,10,11]\n",
    "\n",
    "area = [a[i]* b[i] for i in range(len(a))]\n",
    "area"
   ]
  },
  {
   "cell_type": "code",
   "execution_count": null,
   "id": "9faa0c9d",
   "metadata": {},
   "outputs": [],
   "source": []
  },
  {
   "cell_type": "markdown",
   "id": "f55da1b8",
   "metadata": {},
   "source": [
    "## Ternary Boolean Operators"
   ]
  },
  {
   "cell_type": "markdown",
   "id": "6edcca3c",
   "metadata": {},
   "source": [
    "```python\n",
    "if condition:\n",
    "    execute_body1\n",
    "else:\n",
    "    execute_body2\n",
    "# bunun yerine:\n",
    "execute_body1 if condition else execute_body2\n",
    "```"
   ]
  },
  {
   "cell_type": "code",
   "execution_count": 76,
   "id": "3634b764",
   "metadata": {},
   "outputs": [
    {
     "name": "stdout",
     "output_type": "stream",
     "text": [
      "b, a dan büyüktür\n"
     ]
    }
   ],
   "source": [
    "a = 4\n",
    "b = 3\n",
    "if a < b:\n",
    "    print(\"a, b den büyüktür\")\n",
    "else:\n",
    "    print(\"b, a dan büyüktür\")"
   ]
  },
  {
   "cell_type": "code",
   "execution_count": 75,
   "id": "b966954c",
   "metadata": {},
   "outputs": [
    {
     "data": {
      "text/plain": [
       "'b, a dan büyüktür'"
      ]
     },
     "execution_count": 75,
     "metadata": {},
     "output_type": "execute_result"
    }
   ],
   "source": [
    "\"b, a dan büyüktür\" if a < b else \"a, b den büyüktür\""
   ]
  },
  {
   "cell_type": "code",
   "execution_count": 78,
   "id": "0489a943",
   "metadata": {},
   "outputs": [
    {
     "data": {
      "text/plain": [
       "4"
      ]
     },
     "execution_count": 78,
     "metadata": {},
     "output_type": "execute_result"
    }
   ],
   "source": [
    "z = a if a > b else b\n",
    "z"
   ]
  },
  {
   "cell_type": "code",
   "execution_count": 80,
   "id": "119a55d9",
   "metadata": {},
   "outputs": [
    {
     "data": {
      "text/plain": [
       "16"
      ]
     },
     "execution_count": 80,
     "metadata": {},
     "output_type": "execute_result"
    }
   ],
   "source": [
    "z = a**2 if a > b else b**3\n",
    "z"
   ]
  },
  {
   "cell_type": "code",
   "execution_count": 82,
   "id": "5c7d2f77",
   "metadata": {},
   "outputs": [],
   "source": [
    "c=10"
   ]
  },
  {
   "cell_type": "code",
   "execution_count": 84,
   "id": "ed5fdf10",
   "metadata": {},
   "outputs": [
    {
     "data": {
      "text/plain": [
       "43.30127018922193"
      ]
     },
     "execution_count": 84,
     "metadata": {},
     "output_type": "execute_result"
    }
   ],
   "source": [
    "açı = 60 \n",
    "\n",
    "alan = ((3**(1/2)/4)*c**2)  if açı == 60 else \"bu bir eşkenar üçgen değildir\"\n",
    "alan"
   ]
  },
  {
   "cell_type": "code",
   "execution_count": 88,
   "id": "b6121d1d",
   "metadata": {},
   "outputs": [
    {
     "data": {
      "text/plain": [
       "4"
      ]
     },
     "execution_count": 88,
     "metadata": {},
     "output_type": "execute_result"
    }
   ],
   "source": [
    "a = 2\n",
    "b= 1\n",
    "\n",
    "z= 3 + (a if a < b else b)\n",
    "z"
   ]
  },
  {
   "cell_type": "code",
   "execution_count": 89,
   "id": "2898e97a",
   "metadata": {},
   "outputs": [
    {
     "data": {
      "text/plain": [
       "4"
      ]
     },
     "execution_count": 89,
     "metadata": {},
     "output_type": "execute_result"
    }
   ],
   "source": [
    "a = 2\n",
    "b= 1\n",
    "\n",
    "z= 3 + a if a < b else b + 3\n",
    "z"
   ]
  },
  {
   "cell_type": "code",
   "execution_count": 90,
   "id": "f5d10421",
   "metadata": {},
   "outputs": [],
   "source": [
    "mylisst = [1,2,3,4,5,6]"
   ]
  },
  {
   "cell_type": "code",
   "execution_count": 94,
   "id": "42023c94",
   "metadata": {},
   "outputs": [
    {
     "data": {
      "text/plain": [
       "[1, 9, 25]"
      ]
     },
     "execution_count": 94,
     "metadata": {},
     "output_type": "execute_result"
    }
   ],
   "source": [
    "new_list = []\n",
    "\n",
    "for i in mylisst:\n",
    "    if i % 2 == 1:\n",
    "        new_list.append(i**2)\n",
    "new_list"
   ]
  },
  {
   "cell_type": "code",
   "execution_count": 95,
   "id": "a20d9ca5",
   "metadata": {},
   "outputs": [
    {
     "data": {
      "text/plain": [
       "[1, 9, 25]"
      ]
     },
     "execution_count": 95,
     "metadata": {},
     "output_type": "execute_result"
    }
   ],
   "source": [
    "new_list = []\n",
    "\n",
    "for i in mylisst:\n",
    "    if i % 2:\n",
    "        new_list.append(i**2)\n",
    "new_list"
   ]
  },
  {
   "cell_type": "code",
   "execution_count": 99,
   "id": "03e72fbd",
   "metadata": {},
   "outputs": [
    {
     "data": {
      "text/plain": [
       "[1, 9, 25]"
      ]
     },
     "execution_count": 99,
     "metadata": {},
     "output_type": "execute_result"
    }
   ],
   "source": [
    "[i **2  for i in mylisst if i %2]"
   ]
  },
  {
   "cell_type": "markdown",
   "id": "a3f01f03",
   "metadata": {},
   "source": [
    "## Functions-Calling a "
   ]
  },
  {
   "cell_type": "code",
   "execution_count": 104,
   "id": "0a1227ef",
   "metadata": {},
   "outputs": [
    {
     "ename": "NameError",
     "evalue": "name 'multiply' is not defined",
     "output_type": "error",
     "traceback": [
      "\u001b[1;31m---------------------------------------------------------------------------\u001b[0m",
      "\u001b[1;31mNameError\u001b[0m                                 Traceback (most recent call last)",
      "Input \u001b[1;32mIn [104]\u001b[0m, in \u001b[0;36m<cell line: 3>\u001b[1;34m()\u001b[0m\n\u001b[0;32m      1\u001b[0m a \u001b[38;5;241m=\u001b[39m \u001b[38;5;241m3\u001b[39m \n\u001b[0;32m      2\u001b[0m b \u001b[38;5;241m=\u001b[39m \u001b[38;5;241m8\u001b[39m\n\u001b[1;32m----> 3\u001b[0m \u001b[43mmultiply\u001b[49m(a,b)\n",
      "\u001b[1;31mNameError\u001b[0m: name 'multiply' is not defined"
     ]
    }
   ],
   "source": [
    "a = 3 \n",
    "b = 8\n",
    "multiply(a,b)"
   ]
  },
  {
   "cell_type": "code",
   "execution_count": null,
   "id": "dda3c5ab",
   "metadata": {},
   "outputs": [],
   "source": []
  },
  {
   "cell_type": "code",
   "execution_count": null,
   "id": "d87c0d1b",
   "metadata": {},
   "outputs": [],
   "source": []
  },
  {
   "cell_type": "code",
   "execution_count": null,
   "id": "f1c1c13b",
   "metadata": {},
   "outputs": [],
   "source": []
  },
  {
   "cell_type": "code",
   "execution_count": null,
   "id": "c71b585f",
   "metadata": {},
   "outputs": [],
   "source": []
  }
 ],
 "metadata": {
  "kernelspec": {
   "display_name": "Python 3 (ipykernel)",
   "language": "python",
   "name": "python3"
  },
  "language_info": {
   "codemirror_mode": {
    "name": "ipython",
    "version": 3
   },
   "file_extension": ".py",
   "mimetype": "text/x-python",
   "name": "python",
   "nbconvert_exporter": "python",
   "pygments_lexer": "ipython3",
   "version": "3.9.12"
  }
 },
 "nbformat": 4,
 "nbformat_minor": 5
}
