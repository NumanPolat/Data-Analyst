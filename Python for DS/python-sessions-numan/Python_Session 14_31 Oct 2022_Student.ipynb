{
 "cells": [
  {
   "cell_type": "markdown",
   "id": "0aa07b7a",
   "metadata": {},
   "source": [
    "## working with the iterators"
   ]
  },
  {
   "cell_type": "code",
   "execution_count": 2,
   "id": "2720729f",
   "metadata": {},
   "outputs": [
    {
     "name": "stdout",
     "output_type": "stream",
     "text": [
      "m\n",
      "e\n",
      "r\n",
      "t\n",
      "e\n",
      "n\n",
      "s\n",
      " \n"
     ]
    }
   ],
   "source": [
    "course = \"mertens \"            ## str ifadeler iterator oldugu için dolasabiliriz\n",
    "for i in course:\n",
    "    print(i)"
   ]
  },
  {
   "cell_type": "code",
   "execution_count": 14,
   "id": "ac1ad14e",
   "metadata": {},
   "outputs": [
    {
     "name": "stdout",
     "output_type": "stream",
     "text": [
      "c-l-a-r-u-s-w-a-y"
     ]
    }
   ],
   "source": [
    "word = \"clarusway\"\n",
    "counter =0\n",
    "for i in word:\n",
    "    counter += 1\n",
    "    if counter < len(word):\n",
    "        i += \"-\"\n",
    "    print(i, end=\"\")"
   ]
  },
  {
   "cell_type": "code",
   "execution_count": 15,
   "id": "690fe597",
   "metadata": {},
   "outputs": [
    {
     "name": "stdout",
     "output_type": "stream",
     "text": [
      "name\n",
      "surname\n",
      "age\n"
     ]
    }
   ],
   "source": [
    "user = {\n",
    "    \"name\": \"Daniel\",\n",
    "    \"surname\": \"smith\",\n",
    "    \"age\":  35\n",
    "}\n",
    "for atribute in user:\n",
    "    print(atribute)"
   ]
  },
  {
   "cell_type": "code",
   "execution_count": 16,
   "id": "23d07786",
   "metadata": {},
   "outputs": [
    {
     "name": "stdout",
     "output_type": "stream",
     "text": [
      "Daniel smith 35 "
     ]
    }
   ],
   "source": [
    "user = {\n",
    "    \"name\": \"Daniel\",\n",
    "    \"surname\": \"smith\",\n",
    "    \"age\":  35\n",
    "}\n",
    "for i in user.values():\n",
    "    print(i, end=\" \")"
   ]
  },
  {
   "cell_type": "code",
   "execution_count": 17,
   "id": "0a07fc71",
   "metadata": {},
   "outputs": [
    {
     "name": "stdout",
     "output_type": "stream",
     "text": [
      "name : Daniel\n",
      "surname : smith\n",
      "age : 35\n"
     ]
    }
   ],
   "source": [
    "user = {\n",
    "    \"name\": \"Daniel\",\n",
    "    \"surname\": \"smith\",\n",
    "    \"age\":  35\n",
    "}\n",
    "for key, value in user.items():\n",
    "    print(key,\":\", value)"
   ]
  },
  {
   "cell_type": "code",
   "execution_count": 21,
   "id": "2ec71f0f",
   "metadata": {},
   "outputs": [
    {
     "name": "stdout",
     "output_type": "stream",
     "text": [
      "1\n",
      "3\n",
      "5\n"
     ]
    }
   ],
   "source": [
    "test = [(1,2), (3,4), (5,6)]\n",
    "for i, j  in test:\n",
    "    print(i)"
   ]
  },
  {
   "cell_type": "code",
   "execution_count": 22,
   "id": "84ac1595",
   "metadata": {},
   "outputs": [
    {
     "name": "stdout",
     "output_type": "stream",
     "text": [
      "1 2\n",
      "3 4\n",
      "5 6\n"
     ]
    }
   ],
   "source": [
    "test = [(1,2), (3,4), (5,6)]\n",
    "for i, j  in test:\n",
    "    print(i, j)"
   ]
  },
  {
   "cell_type": "code",
   "execution_count": 23,
   "id": "51ae535c",
   "metadata": {},
   "outputs": [
    {
     "name": "stdout",
     "output_type": "stream",
     "text": [
      "1 ile  10 arasında bir sayı giriniz:2\n",
      "2\n",
      "4\n",
      "6\n",
      "8\n",
      "10\n",
      "12\n",
      "14\n",
      "16\n",
      "18\n"
     ]
    }
   ],
   "source": [
    "num = int(input(\"1 ile  10 arasında bir sayı giriniz:\"))\n",
    "for i in  range(1, 10):\n",
    "    print(num * i)"
   ]
  },
  {
   "cell_type": "code",
   "execution_count": 25,
   "id": "cae80f88",
   "metadata": {},
   "outputs": [
    {
     "name": "stdout",
     "output_type": "stream",
     "text": [
      "1 ile  10 arasında bir sayı giriniz:5\n",
      "5 * 1 = 5\n",
      "5 * 2 = 10\n",
      "5 * 3 = 15\n",
      "5 * 4 = 20\n",
      "5 * 5 = 25\n",
      "5 * 6 = 30\n",
      "5 * 7 = 35\n",
      "5 * 8 = 40\n",
      "5 * 9 = 45\n"
     ]
    }
   ],
   "source": [
    "num = int(input(\"1 ile  10 arasında bir sayı giriniz:\"))\n",
    "for i in  range(1, 10):\n",
    "    print(f\"{num} * {i} = {num*i}\")"
   ]
  },
  {
   "cell_type": "code",
   "execution_count": 33,
   "id": "3e998d62",
   "metadata": {},
   "outputs": [
    {
     "name": "stdout",
     "output_type": "stream",
     "text": [
      "1\n",
      "22\n",
      "333\n",
      "4444\n",
      "55555\n",
      "666666\n",
      "7777777\n",
      "88888888\n",
      "999999999\n"
     ]
    }
   ],
   "source": [
    "for i in  range(1,10):\n",
    "    print(str(i) * i)"
   ]
  },
  {
   "cell_type": "code",
   "execution_count": 35,
   "id": "99251b1a",
   "metadata": {},
   "outputs": [],
   "source": [
    "text = [\"one\", \"two\",\"three\",\"four\",\"five\"]\n",
    "\n",
    "numbers = [1, 2, 3, 4, 5]\n"
   ]
  },
  {
   "cell_type": "code",
   "execution_count": 39,
   "id": "054d1d91",
   "metadata": {},
   "outputs": [
    {
     "data": {
      "text/plain": [
       "<zip at 0x1faa5178dc0>"
      ]
     },
     "execution_count": 39,
     "metadata": {},
     "output_type": "execute_result"
    }
   ],
   "source": [
    "zip(text, numbers)\n"
   ]
  },
  {
   "cell_type": "code",
   "execution_count": 40,
   "id": "70d9714b",
   "metadata": {},
   "outputs": [
    {
     "name": "stdout",
     "output_type": "stream",
     "text": [
      "('one', 1) ('two', 2) ('three', 3) ('four', 4) ('five', 5)\n"
     ]
    }
   ],
   "source": [
    "print(* zip(text, numbers))"
   ]
  },
  {
   "cell_type": "code",
   "execution_count": 42,
   "id": "8d2b0d2a",
   "metadata": {},
   "outputs": [
    {
     "data": {
      "text/plain": [
       "[('one', 1), ('two', 2), ('three', 3), ('four', 4), ('five', 5)]"
      ]
     },
     "execution_count": 42,
     "metadata": {},
     "output_type": "execute_result"
    }
   ],
   "source": [
    "list(zip(text, numbers))"
   ]
  },
  {
   "cell_type": "code",
   "execution_count": 43,
   "id": "1133bd6e",
   "metadata": {},
   "outputs": [
    {
     "data": {
      "text/plain": [
       "[('one', 1), ('two', 2), ('three', 3)]"
      ]
     },
     "execution_count": 43,
     "metadata": {},
     "output_type": "execute_result"
    }
   ],
   "source": [
    "text = [\"one\", \"two\",\"three\",\"four\",\"five\"]     # iterator bitene kadar devam eder.\n",
    " \n",
    "numbers = [1, 2, 3, ]\n",
    "\n",
    "list(zip(text, numbers))"
   ]
  },
  {
   "cell_type": "code",
   "execution_count": 49,
   "id": "c4b6151e",
   "metadata": {},
   "outputs": [
    {
     "name": "stdout",
     "output_type": "stream",
     "text": [
      "one : 1\n",
      "two : 2\n",
      "three : 3\n",
      "four : 4\n",
      "five : 5\n"
     ]
    }
   ],
   "source": [
    "text = [\"one\", \"two\",\"three\",\"four\",\"five\"]\n",
    "\n",
    "numbers = [1, 2, 3, 4, 5]\n",
    "zipped = zip(text,numbers)\n",
    "\n",
    "for x, y in zipped:\n",
    "    print(x,\":\",y)"
   ]
  },
  {
   "cell_type": "code",
   "execution_count": 50,
   "id": "96d53095",
   "metadata": {},
   "outputs": [
    {
     "data": {
      "text/plain": [
       "[]"
      ]
     },
     "execution_count": 50,
     "metadata": {},
     "output_type": "execute_result"
    }
   ],
   "source": [
    "list(zipped)       # generate edilen elemanlar boşalıyor.çalısması için tekrar doldurmak gerekir."
   ]
  },
  {
   "cell_type": "code",
   "execution_count": 51,
   "id": "f5b33ad0",
   "metadata": {},
   "outputs": [
    {
     "name": "stdout",
     "output_type": "stream",
     "text": [
      "\n"
     ]
    }
   ],
   "source": [
    "print(*zipped)"
   ]
  },
  {
   "cell_type": "code",
   "execution_count": 53,
   "id": "f919bb89",
   "metadata": {},
   "outputs": [
    {
     "data": {
      "text/plain": [
       "{'one': 1, 'two': 2, 'three': 3, 'four': 4, 'five': 5}"
      ]
     },
     "execution_count": 53,
     "metadata": {},
     "output_type": "execute_result"
    }
   ],
   "source": [
    "zipped = zip(text,numbers)\n",
    "dict(zipped)"
   ]
  },
  {
   "cell_type": "code",
   "execution_count": 54,
   "id": "e4d9c5e8",
   "metadata": {},
   "outputs": [
    {
     "data": {
      "text/plain": [
       "set()"
      ]
     },
     "execution_count": 54,
     "metadata": {},
     "output_type": "execute_result"
    }
   ],
   "source": [
    "set(zipped)"
   ]
  },
  {
   "cell_type": "code",
   "execution_count": 59,
   "id": "f762ae8f",
   "metadata": {},
   "outputs": [
    {
     "name": "stdout",
     "output_type": "stream",
     "text": [
      "('one', 1, True) ('two', 2, False)\n"
     ]
    }
   ],
   "source": [
    "a = [\"one\", \"two\",\"three\",\"four\",\"five\"]\n",
    "b = [1, 2, 3, 4, 5]\n",
    "c = (True, False)\n",
    "print(*zip(a, b, c))"
   ]
  },
  {
   "cell_type": "code",
   "execution_count": 66,
   "id": "86746ad5",
   "metadata": {},
   "outputs": [
    {
     "name": "stdout",
     "output_type": "stream",
     "text": [
      "odd number : [1, 3, 5, 7, 9]\n",
      "even number: [2, 4, 6, 8]\n"
     ]
    }
   ],
   "source": [
    "odd_number = []\n",
    "even_number = []\n",
    "for i in range(1,10):\n",
    "    if i % 2 == 0:\n",
    "        even_number.append(i)\n",
    "    else:\n",
    "        odd_number.append(i)\n",
    "print(\"odd number :\",odd_number)\n",
    "print(\"even number:\",even_number)"
   ]
  },
  {
   "cell_type": "code",
   "execution_count": 68,
   "id": "d1a02cea",
   "metadata": {},
   "outputs": [
    {
     "name": "stdout",
     "output_type": "stream",
     "text": [
      "evens count: 3\n",
      "odds count: 4\n"
     ]
    }
   ],
   "source": [
    "example = [11,2,24,61,48,33,3]\n",
    "evens = 0\n",
    "odds = 0\n",
    "\n",
    "for i in example:\n",
    "    if i %2 == 0:\n",
    "        evens += 1\n",
    "    else:\n",
    "        odds +=1\n",
    "print(\"evens count:\",evens)\n",
    "print(\"odds count:\",odds)"
   ]
  },
  {
   "cell_type": "code",
   "execution_count": null,
   "id": "79bac992",
   "metadata": {},
   "outputs": [],
   "source": []
  },
  {
   "cell_type": "code",
   "execution_count": null,
   "id": "8d62f3b3",
   "metadata": {},
   "outputs": [],
   "source": []
  },
  {
   "cell_type": "code",
   "execution_count": null,
   "id": "843b2b63",
   "metadata": {},
   "outputs": [],
   "source": []
  },
  {
   "cell_type": "code",
   "execution_count": null,
   "id": "d7f2d345",
   "metadata": {},
   "outputs": [],
   "source": []
  }
 ],
 "metadata": {
  "kernelspec": {
   "display_name": "Python 3 (ipykernel)",
   "language": "python",
   "name": "python3"
  },
  "language_info": {
   "codemirror_mode": {
    "name": "ipython",
    "version": 3
   },
   "file_extension": ".py",
   "mimetype": "text/x-python",
   "name": "python",
   "nbconvert_exporter": "python",
   "pygments_lexer": "ipython3",
   "version": "3.9.12"
  }
 },
 "nbformat": 4,
 "nbformat_minor": 5
}
