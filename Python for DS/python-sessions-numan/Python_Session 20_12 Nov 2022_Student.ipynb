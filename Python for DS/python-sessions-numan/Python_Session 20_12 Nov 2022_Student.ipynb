{
 "cells": [
  {
   "cell_type": "markdown",
   "id": "e0e5d8f1",
   "metadata": {},
   "source": [
    "## Exception Hierarchy"
   ]
  },
  {
   "cell_type": "code",
   "execution_count": 1,
   "id": "f8ec1b8d",
   "metadata": {},
   "outputs": [
    {
     "name": "stdout",
     "output_type": "stream",
     "text": [
      "you dont want meet me\n",
      "you dont want meet me\n",
      "you dont want meet me\n",
      "you dont want meet me\n"
     ]
    },
    {
     "ename": "ZeroDivisionError",
     "evalue": "division by zero",
     "output_type": "error",
     "traceback": [
      "\u001b[1;31m---------------------------------------------------------------------------\u001b[0m",
      "\u001b[1;31mZeroDivisionError\u001b[0m                         Traceback (most recent call last)",
      "Input \u001b[1;32mIn [1]\u001b[0m, in \u001b[0;36m<cell line: 5>\u001b[1;34m()\u001b[0m\n\u001b[0;32m      3\u001b[0m \u001b[38;5;28mprint\u001b[39m(\u001b[38;5;124m\"\u001b[39m\u001b[38;5;124myou dont want meet me\u001b[39m\u001b[38;5;124m\"\u001b[39m)\n\u001b[0;32m      4\u001b[0m \u001b[38;5;28mprint\u001b[39m(\u001b[38;5;124m\"\u001b[39m\u001b[38;5;124myou dont want meet me\u001b[39m\u001b[38;5;124m\"\u001b[39m)\n\u001b[1;32m----> 5\u001b[0m \u001b[38;5;241;43m2\u001b[39;49m\u001b[38;5;241;43m/\u001b[39;49m\u001b[38;5;241;43m0\u001b[39;49m\n\u001b[0;32m      6\u001b[0m \u001b[38;5;28mprint\u001b[39m(\u001b[38;5;124m\"\u001b[39m\u001b[38;5;124myou dont want meet me\u001b[39m\u001b[38;5;124m\"\u001b[39m)\n\u001b[0;32m      7\u001b[0m \u001b[38;5;28mprint\u001b[39m(\u001b[38;5;124m\"\u001b[39m\u001b[38;5;124myou dont want meet me\u001b[39m\u001b[38;5;124m\"\u001b[39m)\n",
      "\u001b[1;31mZeroDivisionError\u001b[0m: division by zero"
     ]
    }
   ],
   "source": [
    "print(\"you dont want meet me\")\n",
    "print(\"you dont want meet me\")\n",
    "print(\"you dont want meet me\")\n",
    "print(\"you dont want meet me\")\n",
    "2/0\n",
    "print(\"you dont want meet me\")\n",
    "print(\"you dont want meet me\")\n",
    "print(\"you dont want meet me\")\n"
   ]
  },
  {
   "cell_type": "code",
   "execution_count": 2,
   "id": "9ac5a480",
   "metadata": {},
   "outputs": [
    {
     "ename": "SyntaxError",
     "evalue": "unexpected EOF while parsing (1621754599.py, line 8)",
     "output_type": "error",
     "traceback": [
      "\u001b[1;36m  Input \u001b[1;32mIn [2]\u001b[1;36m\u001b[0m\n\u001b[1;33m    print(\"you dont want meet me\"\u001b[0m\n\u001b[1;37m                                 ^\u001b[0m\n\u001b[1;31mSyntaxError\u001b[0m\u001b[1;31m:\u001b[0m unexpected EOF while parsing\n"
     ]
    }
   ],
   "source": [
    "print(\"you dont want meet me\")\n",
    "print(\"you dont want meet me\")\n",
    "print(\"you dont want meet me\")\n",
    "print(\"you dont want meet me\")\n",
    "2/0\n",
    "print(\"you dont want meet me\")\n",
    "print(\"you dont want meet me\")\n",
    "print(\"you dont want meet me\"  \n",
    "      # syntax hatsalarında hiç çalısmaz\n"
   ]
  },
  {
   "cell_type": "code",
   "execution_count": 3,
   "id": "419917ef",
   "metadata": {},
   "outputs": [
    {
     "name": "stdout",
     "output_type": "stream",
     "text": [
      "hi\n"
     ]
    },
    {
     "ename": "NameError",
     "evalue": "name 'hi' is not defined",
     "output_type": "error",
     "traceback": [
      "\u001b[1;31m---------------------------------------------------------------------------\u001b[0m",
      "\u001b[1;31mNameError\u001b[0m                                 Traceback (most recent call last)",
      "Input \u001b[1;32mIn [3]\u001b[0m, in \u001b[0;36m<cell line: 2>\u001b[1;34m()\u001b[0m\n\u001b[0;32m      1\u001b[0m \u001b[38;5;28mprint\u001b[39m(\u001b[38;5;124m\"\u001b[39m\u001b[38;5;124mhi\u001b[39m\u001b[38;5;124m\"\u001b[39m)\n\u001b[1;32m----> 2\u001b[0m \u001b[38;5;28mprint\u001b[39m(\u001b[43mhi\u001b[49m)\n",
      "\u001b[1;31mNameError\u001b[0m: name 'hi' is not defined"
     ]
    }
   ],
   "source": [
    "print(\"hi\")\n",
    "print(hi)"
   ]
  },
  {
   "cell_type": "code",
   "execution_count": 4,
   "id": "96c8fc57",
   "metadata": {},
   "outputs": [
    {
     "name": "stdout",
     "output_type": "stream",
     "text": [
      "The first number please : 8\n",
      "The second number please : 4\n",
      "The result of the division is :  2.0\n"
     ]
    }
   ],
   "source": [
    "while True:\n",
    "    no_one = int(input(\"The first number please : \"))\n",
    "    no_two = int(input(\"The second number please : \"))\n",
    "    division = no_one / no_two\n",
    "    print(\"The result of the division is : \", division)\n",
    "    break"
   ]
  },
  {
   "cell_type": "code",
   "execution_count": 5,
   "id": "46cbec52",
   "metadata": {},
   "outputs": [
    {
     "name": "stdout",
     "output_type": "stream",
     "text": [
      "The first number please : 8\n",
      "The second number please : 0\n"
     ]
    },
    {
     "ename": "ZeroDivisionError",
     "evalue": "division by zero",
     "output_type": "error",
     "traceback": [
      "\u001b[1;31m---------------------------------------------------------------------------\u001b[0m",
      "\u001b[1;31mZeroDivisionError\u001b[0m                         Traceback (most recent call last)",
      "Input \u001b[1;32mIn [5]\u001b[0m, in \u001b[0;36m<cell line: 2>\u001b[1;34m()\u001b[0m\n\u001b[0;32m      2\u001b[0m no_one \u001b[38;5;241m=\u001b[39m \u001b[38;5;28mint\u001b[39m(\u001b[38;5;28minput\u001b[39m(\u001b[38;5;124m\"\u001b[39m\u001b[38;5;124mThe first number please : \u001b[39m\u001b[38;5;124m\"\u001b[39m))\n\u001b[0;32m      3\u001b[0m no_two \u001b[38;5;241m=\u001b[39m \u001b[38;5;28mint\u001b[39m(\u001b[38;5;28minput\u001b[39m(\u001b[38;5;124m\"\u001b[39m\u001b[38;5;124mThe second number please : \u001b[39m\u001b[38;5;124m\"\u001b[39m))\n\u001b[1;32m----> 4\u001b[0m division \u001b[38;5;241m=\u001b[39m \u001b[43mno_one\u001b[49m\u001b[43m \u001b[49m\u001b[38;5;241;43m/\u001b[39;49m\u001b[43m \u001b[49m\u001b[43mno_two\u001b[49m\n\u001b[0;32m      5\u001b[0m \u001b[38;5;28mprint\u001b[39m(\u001b[38;5;124m\"\u001b[39m\u001b[38;5;124mThe result of the division is : \u001b[39m\u001b[38;5;124m\"\u001b[39m, division)\n\u001b[0;32m      6\u001b[0m \u001b[38;5;28;01mbreak\u001b[39;00m\n",
      "\u001b[1;31mZeroDivisionError\u001b[0m: division by zero"
     ]
    }
   ],
   "source": [
    "while True:\n",
    "    no_one = int(input(\"The first number please : \"))\n",
    "    no_two = int(input(\"The second number please : \"))\n",
    "    division = no_one / no_two\n",
    "    print(\"The result of the division is : \", division)\n",
    "    break"
   ]
  },
  {
   "cell_type": "code",
   "execution_count": 7,
   "id": "e04e7a68",
   "metadata": {},
   "outputs": [
    {
     "name": "stdout",
     "output_type": "stream",
     "text": [
      "The first number please : 10\n",
      "The second number please : 0\n",
      "Something went wrong... Try again\n",
      "The first number please : 10\n",
      "The second number please : 4\n",
      "The result of the division is :  2.5\n"
     ]
    }
   ],
   "source": [
    "while True:\n",
    "    no_one = int(input(\"The first number please : \"))\n",
    "    no_two = int(input(\"The second number please : \"))\n",
    "    try:\n",
    "        division = no_one / no_two\n",
    "        print(\"The result of the division is : \", division)\n",
    "        break\n",
    "    except:\n",
    "        print(\"Something went wrong... Try again\")"
   ]
  },
  {
   "cell_type": "code",
   "execution_count": 8,
   "id": "f809fa0d",
   "metadata": {},
   "outputs": [
    {
     "name": "stdout",
     "output_type": "stream",
     "text": [
      "hatalısın\n"
     ]
    }
   ],
   "source": [
    "try:\n",
    "    x = 2/0\n",
    "    print(\"bende sıkıntı yok demekki. bak calıstım\")\n",
    "except:\n",
    "    print(\"hatalısın\")"
   ]
  },
  {
   "cell_type": "code",
   "execution_count": 9,
   "id": "40615e83",
   "metadata": {},
   "outputs": [
    {
     "name": "stdout",
     "output_type": "stream",
     "text": [
      "ben bir kod satırıyım\n",
      "hatalısın\n"
     ]
    }
   ],
   "source": [
    "try:\n",
    "    print(\"ben bir kod satırıyım\")\n",
    "    x = 2/0\n",
    "    print(\"bende sıkıntı yok demekki. bak calıstım\")\n",
    "except:\n",
    "    print(\"hatalısın\")"
   ]
  },
  {
   "cell_type": "code",
   "execution_count": 10,
   "id": "62dc3a34",
   "metadata": {},
   "outputs": [
    {
     "name": "stdout",
     "output_type": "stream",
     "text": [
      "The first number please : 5\n",
      "The second number please : 0\n",
      "Something went wrong... Try again\n"
     ]
    }
   ],
   "source": [
    "while True:\n",
    "    no_one = int(input(\"The first number please : \"))\n",
    "    no_two = int(input(\"The second number please : \"))\n",
    "    try:\n",
    "        division = no_one / no_two\n",
    "        print(\"The result of the division is : \", division)\n",
    "        break\n",
    "    except:\n",
    "        print(\"Something went wrong... Try again\")\n",
    "        break"
   ]
  },
  {
   "cell_type": "code",
   "execution_count": 12,
   "id": "71ab6dae",
   "metadata": {},
   "outputs": [
    {
     "name": "stdout",
     "output_type": "stream",
     "text": [
      "The first number please : 8\n",
      "The second number please : 0\n",
      "Something went wrong... Try again\n"
     ]
    }
   ],
   "source": [
    "while True:\n",
    "    no_one = int(input(\"The first number please : \"))\n",
    "    no_two = int(input(\"The second number please : \"))\n",
    "    try:\n",
    "        division = no_one / no_two\n",
    "        print(\"The result of the division is : \", division)\n",
    "        break\n",
    "    except ZeroDivisionError:\n",
    "        print(\"you are trying to divide by zero...try again\")\n",
    "        break"
   ]
  },
  {
   "cell_type": "code",
   "execution_count": 20,
   "id": "76997136",
   "metadata": {},
   "outputs": [
    {
     "name": "stdout",
     "output_type": "stream",
     "text": [
      "The first number please : 10\n",
      "The second number please : on\n"
     ]
    },
    {
     "ename": "ValueError",
     "evalue": "invalid literal for int() with base 10: 'on'",
     "output_type": "error",
     "traceback": [
      "\u001b[1;31m---------------------------------------------------------------------------\u001b[0m",
      "\u001b[1;31mValueError\u001b[0m                                Traceback (most recent call last)",
      "Input \u001b[1;32mIn [20]\u001b[0m, in \u001b[0;36m<cell line: 2>\u001b[1;34m()\u001b[0m\n\u001b[0;32m      1\u001b[0m \u001b[38;5;28;01mwhile\u001b[39;00m \u001b[38;5;28;01mTrue\u001b[39;00m:\n\u001b[0;32m      2\u001b[0m     no_one \u001b[38;5;241m=\u001b[39m \u001b[38;5;28mint\u001b[39m(\u001b[38;5;28minput\u001b[39m(\u001b[38;5;124m\"\u001b[39m\u001b[38;5;124mThe first number please : \u001b[39m\u001b[38;5;124m\"\u001b[39m))\n\u001b[1;32m----> 3\u001b[0m     no_two \u001b[38;5;241m=\u001b[39m \u001b[38;5;28;43mint\u001b[39;49m\u001b[43m(\u001b[49m\u001b[38;5;28;43minput\u001b[39;49m\u001b[43m(\u001b[49m\u001b[38;5;124;43m\"\u001b[39;49m\u001b[38;5;124;43mThe second number please : \u001b[39;49m\u001b[38;5;124;43m\"\u001b[39;49m\u001b[43m)\u001b[49m\u001b[43m)\u001b[49m\n\u001b[0;32m      6\u001b[0m     \u001b[38;5;28;01mtry\u001b[39;00m:\n\u001b[0;32m      7\u001b[0m         division \u001b[38;5;241m=\u001b[39m no_one \u001b[38;5;241m/\u001b[39m no_two       \n",
      "\u001b[1;31mValueError\u001b[0m: invalid literal for int() with base 10: 'on'"
     ]
    }
   ],
   "source": [
    "while True:\n",
    "    no_one = int(input(\"The first number please : \"))\n",
    "    no_two = int(input(\"The second number please : \"))\n",
    "      \n",
    "    \n",
    "    try:\n",
    "        division = no_one / no_two       \n",
    "        break\n",
    "    except ZeroDivisionError:\n",
    "        print(\"you are trying to divide by zero...try again\")\n",
    "        break\n",
    "    else:\n",
    "        print(\"the result of the divisionis:\", division)\n",
    "    finally:\n",
    "        print(\"thanks for using our mini division calculator!come again\")\n",
    "        break"
   ]
  },
  {
   "cell_type": "code",
   "execution_count": 21,
   "id": "a4935c6d",
   "metadata": {},
   "outputs": [
    {
     "name": "stdout",
     "output_type": "stream",
     "text": [
      "The first number please : 10\n",
      "The second number please : on\n",
      "thanks for using our mini division calculator!come again\n"
     ]
    }
   ],
   "source": [
    "while True:\n",
    "   \n",
    "    \n",
    "    try:\n",
    "        no_one = int(input(\"The first number please : \"))\n",
    "        no_two = int(input(\"The second number please : \"))\n",
    "      \n",
    "        division = no_one / no_two       \n",
    "        break\n",
    "    except ZeroDivisionError:\n",
    "        print(\"you are trying to divide by zero...try again\")\n",
    "        break\n",
    "    else:\n",
    "        print(\"the result of the divisionis:\", division)\n",
    "        break\n",
    "    finally:\n",
    "        print(\"thanks for using our mini division calculator!come again\")\n",
    "        break"
   ]
  },
  {
   "cell_type": "code",
   "execution_count": 22,
   "id": "ffaceac8",
   "metadata": {},
   "outputs": [
    {
     "name": "stdout",
     "output_type": "stream",
     "text": [
      "hatalı\n"
     ]
    }
   ],
   "source": [
    "try:\n",
    "    a = 10\n",
    "    b = 5\n",
    "    print(\"value\", c)\n",
    "except Exception as e:\n",
    "    print(\"hatalı\")"
   ]
  },
  {
   "cell_type": "code",
   "execution_count": 23,
   "id": "0e7c1026",
   "metadata": {},
   "outputs": [
    {
     "name": "stdout",
     "output_type": "stream",
     "text": [
      "you are trying to divide by zero\n"
     ]
    }
   ],
   "source": [
    "try:\n",
    "    x =2/0\n",
    "except ZeroDivisionError:\n",
    "    print(\"you are trying to divide by zero\")\n",
    "except:\n",
    "    print(\"sometinhg else went wrong \")\n",
    "    "
   ]
  },
  {
   "cell_type": "code",
   "execution_count": 24,
   "id": "4627b888",
   "metadata": {},
   "outputs": [
    {
     "name": "stdout",
     "output_type": "stream",
     "text": [
      "sometinhg else went wrong \n"
     ]
    }
   ],
   "source": [
    "try:\n",
    "    x \n",
    "except ZeroDivisionError:\n",
    "    print(\"you are trying to divide by zero\")\n",
    "except:\n",
    "    print(\"sometinhg else went wrong \")"
   ]
  },
  {
   "cell_type": "code",
   "execution_count": 28,
   "id": "a441421c",
   "metadata": {},
   "outputs": [
    {
     "name": "stdout",
     "output_type": "stream",
     "text": [
      "the wrong is related to name error\n"
     ]
    }
   ],
   "source": [
    "try:\n",
    "    x \n",
    "except ZeroDivisionError:\n",
    "    print(\"you are trying to divide by zero\")\n",
    "except NameError:\n",
    "    print(\"the wrong is related to name error\")\n",
    "except:\n",
    "    print(\"sometinhg else went wrong \")"
   ]
  },
  {
   "cell_type": "code",
   "execution_count": 29,
   "id": "c2900584",
   "metadata": {},
   "outputs": [
    {
     "name": "stdout",
     "output_type": "stream",
     "text": [
      "sometinhg else went wrong \n"
     ]
    }
   ],
   "source": [
    "try:\n",
    "    int(\"on\")\n",
    "except ZeroDivisionError:\n",
    "    print(\"you are trying to divide by zero\")\n",
    "except NameError:\n",
    "    print(\"the wrong is related to name error\")\n",
    "except:\n",
    "    print(\"sometinhg else went wrong \")"
   ]
  },
  {
   "cell_type": "code",
   "execution_count": 30,
   "id": "7df6edd5",
   "metadata": {},
   "outputs": [
    {
     "name": "stdout",
     "output_type": "stream",
     "text": [
      "The wrong is releated to value or type error\n"
     ]
    }
   ],
   "source": [
    "try:\n",
    "    int(4 + \"on\")\n",
    "except ZeroDivisionError:\n",
    "    print(\"you are trying to divide by zero\")\n",
    "except NameError:\n",
    "    print(\"the wrong is related to name error\")\n",
    "except(ValueError, TypeError):\n",
    "    print(\"The wrong is releated to value or type error\")\n",
    "except:\n",
    "    print(\"sometinhg else went wrong \")"
   ]
  },
  {
   "cell_type": "code",
   "execution_count": 34,
   "id": "93791313",
   "metadata": {},
   "outputs": [
    {
     "name": "stdout",
     "output_type": "stream",
     "text": [
      "you are trying to divide by zero\n"
     ]
    }
   ],
   "source": [
    "try:\n",
    "    x= 4/0\n",
    "except ArithmeticError:\n",
    "    print(\"you are trying to divide by zero\")\n",
    "except NameError:\n",
    "    print(\"the wrong is related to name error\")\n",
    "except(ValueError, TypeError):\n",
    "    print(\"The wrong is releated to value or type error\")\n",
    "except:\n",
    "    print(\"sometinhg else went wrong \")"
   ]
  },
  {
   "cell_type": "code",
   "execution_count": 35,
   "id": "9eca97d9",
   "metadata": {},
   "outputs": [],
   "source": [
    "fruits = [\"banana\", \"mango\", \"melon\"]"
   ]
  },
  {
   "cell_type": "code",
   "execution_count": null,
   "id": "28f624f3",
   "metadata": {},
   "outputs": [],
   "source": [
    "while True:\n",
    "    try:\n",
    "        index = int(input(\"pick an index number:\"))\n",
    "        print(\"you favorite fruit is\", fruit)\n",
    "    "
   ]
  },
  {
   "cell_type": "code",
   "execution_count": null,
   "id": "d9d14da5",
   "metadata": {},
   "outputs": [],
   "source": []
  },
  {
   "cell_type": "code",
   "execution_count": null,
   "id": "7f89097c",
   "metadata": {},
   "outputs": [],
   "source": []
  }
 ],
 "metadata": {
  "kernelspec": {
   "display_name": "Python 3 (ipykernel)",
   "language": "python",
   "name": "python3"
  },
  "language_info": {
   "codemirror_mode": {
    "name": "ipython",
    "version": 3
   },
   "file_extension": ".py",
   "mimetype": "text/x-python",
   "name": "python",
   "nbconvert_exporter": "python",
   "pygments_lexer": "ipython3",
   "version": "3.9.12"
  }
 },
 "nbformat": 4,
 "nbformat_minor": 5
}
