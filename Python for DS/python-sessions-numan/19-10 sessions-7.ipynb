{
 "cells": [
  {
   "cell_type": "markdown",
   "id": "60ee8cf7",
   "metadata": {},
   "source": [
    "## Basic Operations with List"
   ]
  },
  {
   "cell_type": "code",
   "execution_count": 1,
   "id": "96dd3476",
   "metadata": {},
   "outputs": [
    {
     "data": {
      "text/plain": [
       "[]"
      ]
     },
     "execution_count": 1,
     "metadata": {},
     "output_type": "execute_result"
    }
   ],
   "source": [
    "list()         #how to create empty list\n",
    "[]"
   ]
  },
  {
   "cell_type": "code",
   "execution_count": 2,
   "id": "0f9aeb7c",
   "metadata": {},
   "outputs": [
    {
     "name": "stdout",
     "output_type": "stream",
     "text": [
      "[1, 4, 7, 9]\n"
     ]
    }
   ],
   "source": [
    "numbers = [1, 4 ,7]\n",
    "numbers.append(9)\n",
    "\n",
    "print(numbers)"
   ]
  },
  {
   "cell_type": "code",
   "execution_count": 3,
   "id": "41283e87",
   "metadata": {},
   "outputs": [
    {
     "data": {
      "text/plain": [
       "[11, 2]"
      ]
     },
     "execution_count": 3,
     "metadata": {},
     "output_type": "execute_result"
    }
   ],
   "source": [
    "list = []                  # listeler immutiable ,yerinde değiştirilebilir.\n",
    "list.append(11)\n",
    "list.append(2)\n",
    "list"
   ]
  },
  {
   "cell_type": "code",
   "execution_count": 4,
   "id": "2cf88533",
   "metadata": {},
   "outputs": [
    {
     "data": {
      "text/plain": [
       "'s*s* cloe henry'"
      ]
     },
     "execution_count": 4,
     "metadata": {},
     "output_type": "execute_result"
    }
   ],
   "source": [
    "\"sasa cloe henry\".replace(\"a\", \"*\")"
   ]
  },
  {
   "cell_type": "code",
   "execution_count": 5,
   "id": "822fd711",
   "metadata": {},
   "outputs": [
    {
     "data": {
      "text/plain": [
       "['ragnar, lagertha', 'ıvar']"
      ]
     },
     "execution_count": 5,
     "metadata": {},
     "output_type": "execute_result"
    }
   ],
   "source": [
    "brothers = [\"ragnar, lagertha\"]\n",
    "brothers.append(\"ıvar\")\n",
    "brothers"
   ]
  },
  {
   "cell_type": "code",
   "execution_count": 6,
   "id": "210f7035",
   "metadata": {},
   "outputs": [
    {
     "data": {
      "text/plain": [
       "['ragnar, lagertha', 'ıvar', True]"
      ]
     },
     "execution_count": 6,
     "metadata": {},
     "output_type": "execute_result"
    }
   ],
   "source": [
    "brothers.append(True)\n",
    "brothers"
   ]
  },
  {
   "cell_type": "code",
   "execution_count": 7,
   "id": "53009630",
   "metadata": {},
   "outputs": [
    {
     "data": {
      "text/plain": [
       "True"
      ]
     },
     "execution_count": 7,
     "metadata": {},
     "output_type": "execute_result"
    }
   ],
   "source": [
    "brothers.pop()"
   ]
  },
  {
   "cell_type": "code",
   "execution_count": 8,
   "id": "7e76e781",
   "metadata": {},
   "outputs": [
    {
     "data": {
      "text/plain": [
       "['ragnar, lagertha', 'ıvar']"
      ]
     },
     "execution_count": 8,
     "metadata": {},
     "output_type": "execute_result"
    }
   ],
   "source": [
    "brothers"
   ]
  },
  {
   "cell_type": "code",
   "execution_count": 11,
   "id": "9fb4672c",
   "metadata": {},
   "outputs": [
    {
     "data": {
      "text/plain": [
       "[1, 2, 3, 4]"
      ]
     },
     "execution_count": 11,
     "metadata": {},
     "output_type": "execute_result"
    }
   ],
   "source": [
    "list = []\n",
    "list.append(1)\n",
    "list.append(2)\n",
    "list.append(3)\n",
    "list.append(4)\n",
    "\n",
    "list\n"
   ]
  },
  {
   "cell_type": "code",
   "execution_count": 13,
   "id": "9e0b0e0c",
   "metadata": {},
   "outputs": [
    {
     "data": {
      "text/plain": [
       "['ragnar, lagertha', 3, 'ıvar']"
      ]
     },
     "execution_count": 13,
     "metadata": {},
     "output_type": "execute_result"
    }
   ],
   "source": [
    "brothers = [\"ragnar, lagertha\"]\n",
    "brothers.append(\"ıvar\")\n",
    "brothers.insert(1,3)\n",
    "brothers"
   ]
  },
  {
   "cell_type": "code",
   "execution_count": 15,
   "id": "eb29dc2b",
   "metadata": {},
   "outputs": [
    {
     "data": {
      "text/plain": [
       "[1, 2, 3, 4, 5]"
      ]
     },
     "execution_count": 15,
     "metadata": {},
     "output_type": "execute_result"
    }
   ],
   "source": [
    "list = [1,2,3,4]\n",
    "list.insert(4,5)\n",
    "list\n"
   ]
  },
  {
   "cell_type": "code",
   "execution_count": 16,
   "id": "eda7ff20",
   "metadata": {},
   "outputs": [
    {
     "name": "stdout",
     "output_type": "stream",
     "text": [
      "cimbombom\n",
      "cimbombom\n"
     ]
    }
   ],
   "source": [
    "full = \"cimbombom\"\n",
    "head = \"cimbom\"\n",
    "bottom = \"bom\"\n",
    "print(head+bottom)\n",
    "print(full[:5]+ full[5:])"
   ]
  },
  {
   "cell_type": "code",
   "execution_count": null,
   "id": "1e358e8a",
   "metadata": {},
   "outputs": [],
   "source": [
    ".remove()                  # nesneyi atar\n",
    ".sort()                   #küçükten büyüğe sıralar"
   ]
  },
  {
   "cell_type": "code",
   "execution_count": 17,
   "id": "4f112941",
   "metadata": {},
   "outputs": [
    {
     "data": {
      "text/plain": [
       "[3, 4, 5, 6, 8]"
      ]
     },
     "execution_count": 17,
     "metadata": {},
     "output_type": "execute_result"
    }
   ],
   "source": [
    "new = [3,5,6,4,8]\n",
    "new.sort()\n",
    "new"
   ]
  },
  {
   "cell_type": "code",
   "execution_count": 21,
   "id": "54a02bed",
   "metadata": {},
   "outputs": [
    {
     "data": {
      "text/plain": [
       "70"
      ]
     },
     "execution_count": 21,
     "metadata": {},
     "output_type": "execute_result"
    }
   ],
   "source": [
    "ord(\"F\")"
   ]
  },
  {
   "cell_type": "code",
   "execution_count": 23,
   "id": "77c8348d",
   "metadata": {},
   "outputs": [
    {
     "data": {
      "text/plain": [
       "[[-44, 55, 0], [8, -12, 5], [12, 5]]"
      ]
     },
     "execution_count": 23,
     "metadata": {},
     "output_type": "execute_result"
    }
   ],
   "source": [
    "list = [[12,5], [8,-12,5],[-44,55,0]]       # ilk rakama bakar öyle sıralar.\n",
    "list.sort()\n",
    "list"
   ]
  },
  {
   "cell_type": "code",
   "execution_count": null,
   "id": "403516c5",
   "metadata": {},
   "outputs": [],
   "source": []
  }
 ],
 "metadata": {
  "kernelspec": {
   "display_name": "Python 3 (ipykernel)",
   "language": "python",
   "name": "python3"
  },
  "language_info": {
   "codemirror_mode": {
    "name": "ipython",
    "version": 3
   },
   "file_extension": ".py",
   "mimetype": "text/x-python",
   "name": "python",
   "nbconvert_exporter": "python",
   "pygments_lexer": "ipython3",
   "version": "3.9.12"
  }
 },
 "nbformat": 4,
 "nbformat_minor": 5
}
