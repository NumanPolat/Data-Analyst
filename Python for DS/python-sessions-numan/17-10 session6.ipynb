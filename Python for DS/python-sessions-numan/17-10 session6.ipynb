{
 "cells": [
  {
   "cell_type": "markdown",
   "id": "aceae886",
   "metadata": {},
   "source": [
    "## changing a String    ## searching&changing&editing a string"
   ]
  },
  {
   "cell_type": "code",
   "execution_count": null,
   "id": "0c81b153",
   "metadata": {},
   "outputs": [],
   "source": [
    "# string.method(arguments)"
   ]
  },
  {
   "cell_type": "code",
   "execution_count": 4,
   "id": "3e6cda4b",
   "metadata": {},
   "outputs": [],
   "source": [
    "sentence = \"I live in Virginia\""
   ]
  },
  {
   "cell_type": "code",
   "execution_count": 6,
   "id": "167d1e6f",
   "metadata": {},
   "outputs": [
    {
     "name": "stdout",
     "output_type": "stream",
     "text": [
      "I LIVE IN VIRGINIA\n",
      "i live in virginia\n",
      "i LIVE IN vIRGINIA\n",
      "I live in Virginia\n"
     ]
    }
   ],
   "source": [
    "print(sentence.upper())\n",
    "print(sentence.lower())\n",
    "print(sentence.swapcase())\n",
    "print(sentence)"
   ]
  },
  {
   "cell_type": "code",
   "execution_count": null,
   "id": "2c969bd0",
   "metadata": {},
   "outputs": [],
   "source": []
  },
  {
   "cell_type": "code",
   "execution_count": 17,
   "id": "52e5e4a3",
   "metadata": {},
   "outputs": [],
   "source": [
    "text = \"Clarusway\""
   ]
  },
  {
   "cell_type": "code",
   "execution_count": 15,
   "id": "41a8070c",
   "metadata": {},
   "outputs": [
    {
     "data": {
      "text/plain": [
       "'clarusway'"
      ]
     },
     "execution_count": 15,
     "metadata": {},
     "output_type": "execute_result"
    }
   ],
   "source": [
    "text.replace(\"C\", \"c\")"
   ]
  },
  {
   "cell_type": "code",
   "execution_count": 8,
   "id": "37314e13",
   "metadata": {},
   "outputs": [
    {
     "data": {
      "text/plain": [
       "'Cl*rusw*y'"
      ]
     },
     "execution_count": 8,
     "metadata": {},
     "output_type": "execute_result"
    }
   ],
   "source": [
    "text.replace(\"a\", \"*\")"
   ]
  },
  {
   "cell_type": "code",
   "execution_count": 9,
   "id": "7da03f1a",
   "metadata": {},
   "outputs": [
    {
     "data": {
      "text/plain": [
       "str"
      ]
     },
     "execution_count": 9,
     "metadata": {},
     "output_type": "execute_result"
    }
   ],
   "source": [
    "type(text.replace(\"a\", \"*\"))"
   ]
  },
  {
   "cell_type": "code",
   "execution_count": null,
   "id": "c6961d39",
   "metadata": {},
   "outputs": [],
   "source": [
    "# string.method1().method().method3()..."
   ]
  },
  {
   "cell_type": "code",
   "execution_count": 18,
   "id": "21b374df",
   "metadata": {},
   "outputs": [
    {
     "data": {
      "text/plain": [
       "<function str.upper()>"
      ]
     },
     "execution_count": 18,
     "metadata": {},
     "output_type": "execute_result"
    }
   ],
   "source": [
    "text.replace(\"a\", \"--\").replace(\"s\", \"\").upper"
   ]
  },
  {
   "cell_type": "code",
   "execution_count": 21,
   "id": "2b284cfe",
   "metadata": {},
   "outputs": [
    {
     "data": {
      "text/plain": [
       "<function str.upper()>"
      ]
     },
     "execution_count": 21,
     "metadata": {},
     "output_type": "execute_result"
    }
   ],
   "source": [
    "text = \"Clarusway\"\n",
    "text.replace(\"a\",\"--\").replace(\"s\",\"\").upper"
   ]
  },
  {
   "cell_type": "code",
   "execution_count": 22,
   "id": "e7761100",
   "metadata": {},
   "outputs": [
    {
     "name": "stdout",
     "output_type": "stream",
     "text": [
      "I Live In Virginia\n",
      "I l+ve +n V+rg+n+a\n",
      "I live in Virginia\n"
     ]
    }
   ],
   "source": [
    "sentence = \"I live in Virginia\"\n",
    "title_sentence = sentence.title()\n",
    "print(title_sentence)\n",
    "\n",
    "changed_sentence = sentence.replace(\"i\", \"+\")\n",
    "print(changed_sentence)\n",
    "\n",
    "print(sentence)"
   ]
  },
  {
   "cell_type": "code",
   "execution_count": 24,
   "id": "578e8c02",
   "metadata": {},
   "outputs": [
    {
     "data": {
      "text/plain": [
       "'Ben Bu Kursu Bitirip Iş Bulacam Hemide Alamanyada'"
      ]
     },
     "execution_count": 24,
     "metadata": {},
     "output_type": "execute_result"
    }
   ],
   "source": [
    "\"ben bu kursu bitirip iş bulacam hemide alamanyada\".title()\n"
   ]
  },
  {
   "cell_type": "code",
   "execution_count": null,
   "id": "319dc518",
   "metadata": {},
   "outputs": [],
   "source": [
    "## editing a string\n",
    "string.strip()         # removes all spaces from both sides\n",
    "string.rstrip()        # \n",
    "string.lstrip()        # "
   ]
  },
  {
   "cell_type": "code",
   "execution_count": 26,
   "id": "a6b07099",
   "metadata": {},
   "outputs": [
    {
     "name": "stdout",
     "output_type": "stream",
     "text": [
      "listen first\n"
     ]
    }
   ],
   "source": [
    "space_string = \"   listen first     \"\n",
    "print(space_string.strip())"
   ]
  },
  {
   "cell_type": "code",
   "execution_count": 27,
   "id": "685610f9",
   "metadata": {},
   "outputs": [
    {
     "name": "stdout",
     "output_type": "stream",
     "text": [
      "nteroabilit\n"
     ]
    }
   ],
   "source": [
    "source_string =\"interoability\"\n",
    "print(source_string.strip(\"yi\"))     # removes traling \"y\" or \"yi\" or \"iy from both sides\""
   ]
  },
  {
   "cell_type": "code",
   "execution_count": 28,
   "id": "3207fcb9",
   "metadata": {},
   "outputs": [
    {
     "data": {
      "text/plain": [
       "'\\n    listen first    \\t'"
      ]
     },
     "execution_count": 28,
     "metadata": {},
     "output_type": "execute_result"
    }
   ],
   "source": [
    "my_string1 = \"\\n    listen first    \\t\"\n",
    "my_string1"
   ]
  },
  {
   "cell_type": "code",
   "execution_count": 29,
   "id": "0611200c",
   "metadata": {},
   "outputs": [
    {
     "name": "stdout",
     "output_type": "stream",
     "text": [
      "\n",
      "    listen first    \t\n"
     ]
    }
   ],
   "source": [
    "print(my_string1)"
   ]
  },
  {
   "cell_type": "code",
   "execution_count": 31,
   "id": "b386196a",
   "metadata": {},
   "outputs": [
    {
     "data": {
      "text/plain": [
       "'listen first'"
      ]
     },
     "execution_count": 31,
     "metadata": {},
     "output_type": "execute_result"
    }
   ],
   "source": [
    "my_string1.strip()"
   ]
  },
  {
   "cell_type": "code",
   "execution_count": 35,
   "id": "1e09de23",
   "metadata": {},
   "outputs": [
    {
     "name": "stdout",
     "output_type": "stream",
     "text": [
      "\n",
      "\n",
      "ahmet\n",
      "mehmet   \n"
     ]
    }
   ],
   "source": [
    "var = \"\\n\\nahmet\\nmehmet   \"\n",
    "print(var)"
   ]
  },
  {
   "cell_type": "code",
   "execution_count": 36,
   "id": "546694d0",
   "metadata": {},
   "outputs": [
    {
     "data": {
      "text/plain": [
       "'ahmet\\nmehmet'"
      ]
     },
     "execution_count": 36,
     "metadata": {},
     "output_type": "execute_result"
    }
   ],
   "source": [
    "var.strip()"
   ]
  },
  {
   "cell_type": "code",
   "execution_count": 38,
   "id": "56a61c8d",
   "metadata": {},
   "outputs": [
    {
     "name": "stdout",
     "output_type": "stream",
     "text": [
      "teroability\n"
     ]
    }
   ],
   "source": [
    "source_string = \"interoability\"                # removes \"i\" or \"n\" from the left side\n",
    "print(source_string.lstrip(\"in\"))      "
   ]
  },
  {
   "cell_type": "code",
   "execution_count": 39,
   "id": "ba7b1914",
   "metadata": {},
   "outputs": [
    {
     "name": "stdout",
     "output_type": "stream",
     "text": [
      "interoabili\n"
     ]
    }
   ],
   "source": [
    "source_string = \"interoability\"              #  removes \"y\" or \"t\" from the right side\n",
    "print(source_string.rstrip(\"yt\"))      "
   ]
  },
  {
   "cell_type": "code",
   "execution_count": 41,
   "id": "cb019a57",
   "metadata": {},
   "outputs": [
    {
     "name": "stdout",
     "output_type": "stream",
     "text": [
      "YOU CAN LEARN ALMOST EVERYTHING IN PRE-CLASS\n"
     ]
    }
   ],
   "source": [
    "text =\"tyou can learn almost everything in pre-classz\"\n",
    "print(text.strip(\"tz\").upper())     # text.rstrip(\"z\").lstrip(\"t\")"
   ]
  },
  {
   "cell_type": "code",
   "execution_count": 45,
   "id": "6a60e0c7",
   "metadata": {},
   "outputs": [
    {
     "name": "stdout",
     "output_type": "stream",
     "text": [
      "In god we Trust\n"
     ]
    }
   ],
   "source": [
    "text = \"In god wee Trust\".replace(\"ee\", \"e\")\n",
    "print(text)"
   ]
  },
  {
   "cell_type": "code",
   "execution_count": null,
   "id": "669d5f4d",
   "metadata": {},
   "outputs": [],
   "source": [
    "## basic operations with list"
   ]
  },
  {
   "cell_type": "code",
   "execution_count": 46,
   "id": "d9e54bb7",
   "metadata": {},
   "outputs": [],
   "source": [
    "x = \"Clarusway\"\n",
    "y = 168\n",
    "x = [\"ali, veli\"] "
   ]
  },
  {
   "cell_type": "code",
   "execution_count": null,
   "id": "cce9dbd4",
   "metadata": {},
   "outputs": [],
   "source": [
    "## creating a list  => we have  teo basic ways to create a list  [], list()"
   ]
  },
  {
   "cell_type": "code",
   "execution_count": 48,
   "id": "c27739ab",
   "metadata": {},
   "outputs": [
    {
     "data": {
      "text/plain": [
       "['ali', 'veli', 'deli']"
      ]
     },
     "execution_count": 48,
     "metadata": {},
     "output_type": "execute_result"
    }
   ],
   "source": [
    "[\"ali\", \"veli\", \"deli\"]          #iterable elemanlarına ayrılablir ifade ile list oluştulur.ayırır, virgül koyar ve list yapar,"
   ]
  },
  {
   "cell_type": "code",
   "execution_count": 50,
   "id": "c22087cb",
   "metadata": {},
   "outputs": [
    {
     "data": {
      "text/plain": [
       "['c', 'l', 'a', 'r', 'u', 's']"
      ]
     },
     "execution_count": 50,
     "metadata": {},
     "output_type": "execute_result"
    }
   ],
   "source": [
    "list(\"clarus\")"
   ]
  },
  {
   "cell_type": "code",
   "execution_count": 51,
   "id": "4db755de",
   "metadata": {},
   "outputs": [],
   "source": [
    "a = [1, 2, 3]"
   ]
  },
  {
   "cell_type": "code",
   "execution_count": 52,
   "id": "b8737639",
   "metadata": {},
   "outputs": [
    {
     "data": {
      "text/plain": [
       "[1, 2, 3]"
      ]
     },
     "execution_count": 52,
     "metadata": {},
     "output_type": "execute_result"
    }
   ],
   "source": [
    "list(a)"
   ]
  },
  {
   "cell_type": "code",
   "execution_count": 53,
   "id": "86785137",
   "metadata": {},
   "outputs": [
    {
     "data": {
      "text/plain": [
       "['turkey', 'usa', 'germany']"
      ]
     },
     "execution_count": 53,
     "metadata": {},
     "output_type": "execute_result"
    }
   ],
   "source": [
    "country = [\"turkey\", \"usa\", \"germany\"]     # ordered \n",
    "list(country)"
   ]
  },
  {
   "cell_type": "code",
   "execution_count": null,
   "id": "c73a26ac",
   "metadata": {},
   "outputs": [],
   "source": [
    "list(1234)         #iterable veri değil"
   ]
  },
  {
   "cell_type": "code",
   "execution_count": 54,
   "id": "ee5a3031",
   "metadata": {},
   "outputs": [
    {
     "ename": "TypeError",
     "evalue": "object of type 'int' has no len()",
     "output_type": "error",
     "traceback": [
      "\u001b[1;31m---------------------------------------------------------------------------\u001b[0m",
      "\u001b[1;31mTypeError\u001b[0m                                 Traceback (most recent call last)",
      "Input \u001b[1;32mIn [54]\u001b[0m, in \u001b[0;36m<cell line: 1>\u001b[1;34m()\u001b[0m\n\u001b[1;32m----> 1\u001b[0m \u001b[38;5;28;43mlen\u001b[39;49m\u001b[43m(\u001b[49m\u001b[38;5;241;43m2321\u001b[39;49m\u001b[43m)\u001b[49m\n",
      "\u001b[1;31mTypeError\u001b[0m: object of type 'int' has no len()"
     ]
    }
   ],
   "source": []
  },
  {
   "cell_type": "code",
   "execution_count": 3,
   "id": "395105a3",
   "metadata": {},
   "outputs": [
    {
     "name": "stdout",
     "output_type": "stream",
     "text": [
      "l\n"
     ]
    }
   ],
   "source": [
    "fruits = ['apple', 'banana', 'watermelon', 'orange', 'mango', 'avocado']\n",
    "\n",
    "fruit_list = []\n",
    "fruit_list.insert(0, fruits)\n",
    "print(fruit_list[0][2][7])"
   ]
  },
  {
   "cell_type": "code",
   "execution_count": 4,
   "id": "77f4448e",
   "metadata": {},
   "outputs": [
    {
     "name": "stdout",
     "output_type": "stream",
     "text": [
      "[10, 12, 14, 16, 18]\n"
     ]
    }
   ],
   "source": [
    "even_numbers = [2, 4, 6, 8, 10, 12, 14, 16, 18, 20]\n",
    "\n",
    "print(even_numbers[4:9])"
   ]
  },
  {
   "cell_type": "code",
   "execution_count": 5,
   "id": "4740ba48",
   "metadata": {},
   "outputs": [
    {
     "name": "stdout",
     "output_type": "stream",
     "text": [
      "3\n"
     ]
    }
   ],
   "source": [
    "print(len([[12, 34, 56]][0]))"
   ]
  },
  {
   "cell_type": "code",
   "execution_count": 7,
   "id": "514dc783",
   "metadata": {},
   "outputs": [
    {
     "name": "stdout",
     "output_type": "stream",
     "text": [
      "[8, 7, 6, 5]\n",
      "[]\n"
     ]
    }
   ],
   "source": [
    "odd_no = [1, 2, 3, 4, 5, 6, 7, 8, 9, 10]\n",
    "\n",
    "print(odd_no[7:3:-1])\n",
    "print(odd_no[2:6:-1])"
   ]
  },
  {
   "cell_type": "code",
   "execution_count": null,
   "id": "7b175b67",
   "metadata": {},
   "outputs": [],
   "source": []
  }
 ],
 "metadata": {
  "kernelspec": {
   "display_name": "Python 3 (ipykernel)",
   "language": "python",
   "name": "python3"
  },
  "language_info": {
   "codemirror_mode": {
    "name": "ipython",
    "version": 3
   },
   "file_extension": ".py",
   "mimetype": "text/x-python",
   "name": "python",
   "nbconvert_exporter": "python",
   "pygments_lexer": "ipython3",
   "version": "3.9.12"
  }
 },
 "nbformat": 4,
 "nbformat_minor": 5
}
