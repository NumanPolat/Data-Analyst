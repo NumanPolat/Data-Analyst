{
 "cells": [
  {
   "cell_type": "markdown",
   "id": "b17d2fee",
   "metadata": {},
   "source": [
    "## String Formatting"
   ]
  },
  {
   "cell_type": "code",
   "execution_count": null,
   "id": "c24c97f4",
   "metadata": {},
   "outputs": [],
   "source": [
    "\"metodlar\".format()          #shift+tab+tab doc string"
   ]
  },
  {
   "cell_type": "code",
   "execution_count": 3,
   "id": "e168e15b",
   "metadata": {},
   "outputs": [],
   "source": [
    "saat = \"05:00\"\n",
    "yer = \"okul\"\n",
    "miktar = 3"
   ]
  },
  {
   "cell_type": "code",
   "execution_count": 5,
   "id": "56886e17",
   "metadata": {},
   "outputs": [
    {
     "data": {
      "text/plain": [
       "'ben sabah 05:00 uyandım. okul gittim. Gelirken de 3 kg elmna aldım'"
      ]
     },
     "execution_count": 5,
     "metadata": {},
     "output_type": "execute_result"
    }
   ],
   "source": [
    "\"ben sabah {} uyandım. {} gittim. Gelirken de {} kg elmna aldım\".format(saat, yer, miktar)"
   ]
  },
  {
   "cell_type": "code",
   "execution_count": null,
   "id": "0b772609",
   "metadata": {},
   "outputs": [],
   "source": [
    "#variable yerine direkt values da kullanılır"
   ]
  },
  {
   "cell_type": "code",
   "execution_count": 7,
   "id": "1099236d",
   "metadata": {},
   "outputs": [
    {
     "data": {
      "text/plain": [
       "'ben sabah 06.36 uyandım. kütüphane gittim. Gelirken de 2 kg elmna aldım'"
      ]
     },
     "execution_count": 7,
     "metadata": {},
     "output_type": "execute_result"
    }
   ],
   "source": [
    "\"ben sabah {saat} uyandım. {yer} gittim. Gelirken de {miktar} kg elmna aldım\".format(saat =\"06.36\", yer=\"kütüphane\", miktar=2)"
   ]
  },
  {
   "cell_type": "code",
   "execution_count": 13,
   "id": "8803c645",
   "metadata": {},
   "outputs": [
    {
     "data": {
      "text/plain": [
       "\"ben sabah 1 'de uyandım. saha' ya gittim. Gelirken de 1 kg elmna aldım\""
      ]
     },
     "execution_count": 13,
     "metadata": {},
     "output_type": "execute_result"
    }
   ],
   "source": [
    "\"ben sabah {saat} 'de uyandım. {yer}' ya gittim. Gelirken de {miktar} kg elmna aldım\".format(yer=\"saha\",saat=\"1\",miktar=1)  #format içininin sırası önemsiz"
   ]
  },
  {
   "cell_type": "code",
   "execution_count": null,
   "id": "a4d1e5c3",
   "metadata": {},
   "outputs": [],
   "source": [
    "# yukarıdaki ifadede keyword olarak atama olmustur."
   ]
  },
  {
   "cell_type": "code",
   "execution_count": 15,
   "id": "fcb20104",
   "metadata": {},
   "outputs": [
    {
     "data": {
      "text/plain": [
       "'ben sabah 5 uyandım. saha gittim. Gelirken de 2 kg elmna aldım'"
      ]
     },
     "execution_count": 15,
     "metadata": {},
     "output_type": "execute_result"
    }
   ],
   "source": [
    "\"ben sabah {2} uyandım. {0} gittim. Gelirken de {1} kg elmna aldım\".format(\"saha\",2, \"5\")"
   ]
  },
  {
   "cell_type": "code",
   "execution_count": 37,
   "id": "3ff221b3",
   "metadata": {},
   "outputs": [
    {
     "name": "stdout",
     "output_type": "stream",
     "text": [
      "generosity wins in all circumtances\n"
     ]
    }
   ],
   "source": [
    "#mix  use of string arguments\n",
    "phrase = \"{morality} {1} {0} {condition}\".format(\"in all\", \"wins\", morality = \"generosity\", condition= \"circumtances\")\n",
    "print(phrase)"
   ]
  },
  {
   "cell_type": "code",
   "execution_count": 33,
   "id": "bc21938c",
   "metadata": {},
   "outputs": [
    {
     "data": {
      "text/plain": [
       "'benim güzel  öğrecilerimin maşallhı var mı acaba'"
      ]
     },
     "execution_count": 33,
     "metadata": {},
     "output_type": "execute_result"
    }
   ],
   "source": [
    "\"benim {}  öğrecilerimin maşallhı var {}\".format(\"güzel\",\"mı acaba\")"
   ]
  },
  {
   "cell_type": "code",
   "execution_count": 25,
   "id": "7c543c1e",
   "metadata": {},
   "outputs": [],
   "source": [
    "x = \"güzel\"\n",
    "y = \"mıacaba\""
   ]
  },
  {
   "cell_type": "code",
   "execution_count": 26,
   "id": "4d20f2bf",
   "metadata": {},
   "outputs": [],
   "source": [
    "stringim = \"benim {} öğrencilerimin maşallahı var{}\""
   ]
  },
  {
   "cell_type": "code",
   "execution_count": 27,
   "id": "381f08b3",
   "metadata": {},
   "outputs": [
    {
     "data": {
      "text/plain": [
       "'benim güzel öğrencilerimin maşallahı varmıacaba'"
      ]
     },
     "execution_count": 27,
     "metadata": {},
     "output_type": "execute_result"
    }
   ],
   "source": [
    "stringim.format(x, y)"
   ]
  },
  {
   "cell_type": "code",
   "execution_count": 32,
   "id": "4241d6cf",
   "metadata": {},
   "outputs": [
    {
     "name": "stdout",
     "output_type": "stream",
     "text": [
      "genorisity wins in all circumtances\n"
     ]
    }
   ],
   "source": [
    "# genorisity wins in all circumtances\n",
    "phrase = \"{2} {3} {1} {0}\".format(\"circumtances\", \"in all\", \"genorisity\",\"wins\") # positional arguments\n",
    "print(phrase)"
   ]
  },
  {
   "cell_type": "code",
   "execution_count": 40,
   "id": "58ccece7",
   "metadata": {},
   "outputs": [
    {
     "ename": "SyntaxError",
     "evalue": "positional argument follows keyword argument (2899566675.py, line 1)",
     "output_type": "error",
     "traceback": [
      "\u001b[1;36m  Input \u001b[1;32mIn [40]\u001b[1;36m\u001b[0m\n\u001b[1;33m    phrase = \"{moraş} {1} {0} {cond}\".format(moral= \"genorisity\",cond= \"circumtances\", \"in all\", \"wins\")\u001b[0m\n\u001b[1;37m                                                                                                       ^\u001b[0m\n\u001b[1;31mSyntaxError\u001b[0m\u001b[1;31m:\u001b[0m positional argument follows keyword argument\n"
     ]
    }
   ],
   "source": [
    "phrase = \"{moraş} {1} {0} {cond}\".format(moral= \"genorisity\",cond= \"circumtances\", \"in all\", \"wins\")\n",
    "<ilk önce positional arguments sonra keyword arguments"
   ]
  },
  {
   "cell_type": "code",
   "execution_count": 41,
   "id": "ea66b11c",
   "metadata": {},
   "outputs": [
    {
     "name": "stdout",
     "output_type": "stream",
     "text": [
      "the sum of 3 * 7 is = 21\n"
     ]
    }
   ],
   "source": [
    "a = 3 \n",
    "b = 7\n",
    "print(\"the sum of {} * {} is = {}\".format(a, b, a*b))"
   ]
  },
  {
   "cell_type": "markdown",
   "id": "a26954f3",
   "metadata": {},
   "source": [
    "# f- string"
   ]
  },
  {
   "cell_type": "code",
   "execution_count": 43,
   "id": "15db523f",
   "metadata": {},
   "outputs": [
    {
     "name": "stdout",
     "output_type": "stream",
     "text": [
      "8\n"
     ]
    }
   ],
   "source": [
    "sample = f\"{2 ** 3}\"\n",
    "print(sample)"
   ]
  },
  {
   "cell_type": "code",
   "execution_count": 48,
   "id": "45ba5759",
   "metadata": {},
   "outputs": [
    {
     "name": "stdout",
     "output_type": "stream",
     "text": [
      "may name is Mari̇an\n"
     ]
    }
   ],
   "source": [
    "name = \"MARİAN\".capitalize()           #.capitalize() metodu sadece baş harfi büyük yapor.\n",
    "print(f\"may name is {name}\")"
   ]
  },
  {
   "cell_type": "code",
   "execution_count": 49,
   "id": "a58daefa",
   "metadata": {
    "scrolled": true
   },
   "outputs": [
    {
     "name": "stdout",
     "output_type": "stream",
     "text": [
      "may name is Mari̇an\n"
     ]
    }
   ],
   "source": [
    "name = \"MARİAN\"\n",
    "print(f\"may name is {name.capitalize()}\")"
   ]
  },
  {
   "cell_type": "code",
   "execution_count": 52,
   "id": "73084467",
   "metadata": {},
   "outputs": [
    {
     "name": "stdout",
     "output_type": "stream",
     "text": [
      "my name is MARIA\n"
     ]
    }
   ],
   "source": [
    "my_name = \"maria\"                         #.upper()    metodu  bütün hepsini büyük harf yapar.\n",
    "print(f\"my name is {my_name.upper()}\")"
   ]
  },
  {
   "cell_type": "markdown",
   "id": "c4b5c8d9",
   "metadata": {},
   "source": [
    "## there is multiline f- string formating style"
   ]
  },
  {
   "cell_type": "code",
   "execution_count": 55,
   "id": "c4ee7f11",
   "metadata": {},
   "outputs": [
    {
     "name": "stdout",
     "output_type": "stream",
     "text": [
      " Hi joseph. You are one of the teachers in the Datascience section.\n"
     ]
    }
   ],
   "source": [
    "name = \"joseph\"\n",
    "job = \"teachers\"\n",
    "domain = \"Datascience\"\n",
    "message = f\" Hi {name}.\"\\\n",
    "f\" You are one of the {job}\"\\\n",
    "f\" in the {domain} section.\"\n",
    "print(message)"
   ]
  },
  {
   "cell_type": "code",
   "execution_count": 61,
   "id": "23544e4d",
   "metadata": {},
   "outputs": [
    {
     "data": {
      "text/plain": [
       "' Hi Numan.Are you clever?'"
      ]
     },
     "execution_count": 61,
     "metadata": {},
     "output_type": "execute_result"
    }
   ],
   "source": [
    "name= \"Numan\"\n",
    "status = \"clever\"\n",
    "\n",
    "message = f\" Hi \\\n",
    "{name}.Are you \\\n",
    "{status}?\"\n",
    "message"
   ]
  },
  {
   "cell_type": "markdown",
   "id": "2315757f",
   "metadata": {},
   "source": [
    "## immutability"
   ]
  },
  {
   "cell_type": "code",
   "execution_count": 62,
   "id": "cb3ef78b",
   "metadata": {},
   "outputs": [
    {
     "name": "stdout",
     "output_type": "stream",
     "text": [
      "NUman pol\n"
     ]
    }
   ],
   "source": [
    "name = \"Numan pol\"          # not changes\n",
    "name.swapcase()\n",
    "\n",
    "print(name)"
   ]
  },
  {
   "cell_type": "code",
   "execution_count": 63,
   "id": "e8b306cd",
   "metadata": {},
   "outputs": [
    {
     "name": "stdout",
     "output_type": "stream",
     "text": [
      "nUMAN POL\n"
     ]
    }
   ],
   "source": [
    "name = \"Numan pol\".swapcase()      #changes\n",
    "print(name)"
   ]
  },
  {
   "cell_type": "code",
   "execution_count": null,
   "id": "eb7e487a",
   "metadata": {},
   "outputs": [],
   "source": []
  }
 ],
 "metadata": {
  "kernelspec": {
   "display_name": "Python 3 (ipykernel)",
   "language": "python",
   "name": "python3"
  },
  "language_info": {
   "codemirror_mode": {
    "name": "ipython",
    "version": 3
   },
   "file_extension": ".py",
   "mimetype": "text/x-python",
   "name": "python",
   "nbconvert_exporter": "python",
   "pygments_lexer": "ipython3",
   "version": "3.9.12"
  }
 },
 "nbformat": 4,
 "nbformat_minor": 5
}
