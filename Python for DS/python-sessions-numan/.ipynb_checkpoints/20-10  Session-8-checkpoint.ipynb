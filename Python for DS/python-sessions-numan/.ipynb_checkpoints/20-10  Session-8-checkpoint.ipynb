{
 "cells": [
  {
   "cell_type": "markdown",
   "id": "e4f9f9af",
   "metadata": {},
   "source": [
    "## list-indexing -slicing a list"
   ]
  },
  {
   "cell_type": "code",
   "execution_count": 1,
   "id": "89c0794c",
   "metadata": {},
   "outputs": [],
   "source": [
    "## list_name[index no]"
   ]
  },
  {
   "cell_type": "code",
   "execution_count": 2,
   "id": "b1ecd7cb",
   "metadata": {},
   "outputs": [],
   "source": [
    "## 28121[2]    birşey indexlenebilir olması için sayılabilir olması lazım\n",
    "## len(125)        integer veriler iterable değildir.Ama str ifadeler iterable dır."
   ]
  },
  {
   "cell_type": "code",
   "execution_count": 3,
   "id": "1963598a",
   "metadata": {},
   "outputs": [
    {
     "name": "stdout",
     "output_type": "stream",
     "text": [
      "a\n"
     ]
    }
   ],
   "source": [
    "word = [\"h\", \"a\",\"f\"]           ## list_name[index no]\n",
    "print(word[1])"
   ]
  },
  {
   "cell_type": "code",
   "execution_count": 4,
   "id": "de611001",
   "metadata": {},
   "outputs": [
    {
     "name": "stdout",
     "output_type": "stream",
     "text": [
      "purple\n",
      "<class 'str'>\n",
      "p\n",
      "<class 'str'>\n"
     ]
    }
   ],
   "source": [
    "colors = [\"red\", \"blue\", \"purple\"]\n",
    "print(colors[2])\n",
    "print(type(colors[2]))\n",
    "print((colors[2][3]))\n",
    "print(type(colors[2][3]))\n"
   ]
  },
  {
   "cell_type": "code",
   "execution_count": 5,
   "id": "3068dd7f",
   "metadata": {},
   "outputs": [
    {
     "name": "stdout",
     "output_type": "stream",
     "text": [
      "brown\n"
     ]
    }
   ],
   "source": [
    "colors = [\"red\", \"blue\", \"purple\",\"brown\"]\n",
    "print(colors[3])\n",
    "                               \n"
   ]
  },
  {
   "cell_type": "code",
   "execution_count": 6,
   "id": "3d88c277",
   "metadata": {},
   "outputs": [
    {
     "data": {
      "text/plain": [
       "'brown'"
      ]
     },
     "execution_count": 6,
     "metadata": {},
     "output_type": "execute_result"
    }
   ],
   "source": [
    "colors = [\"red\", \"blue\", \"purple\",\"brown\"][3]\n",
    "colors\n"
   ]
  },
  {
   "cell_type": "code",
   "execution_count": 7,
   "id": "0c4ef7a8",
   "metadata": {},
   "outputs": [
    {
     "name": "stdout",
     "output_type": "stream",
     "text": [
      "[['Newyork', 'Canada', 'losangeles', 'istanbul', 'İzmir']]\n",
      "['Newyork', 'Canada', 'losangeles', 'istanbul', 'İzmir']\n",
      "losangeles\n",
      "a\n"
     ]
    }
   ],
   "source": [
    "city = [\"Newyork\", \"Canada\", \"losangeles\",\"istanbul\", \"İzmir\"]\n",
    "city_list = []\n",
    "city_list.append(city)     # we have created a nested list\n",
    "print(city_list)\n",
    "print(city_list[0])       #access to first and only element  \n",
    "print(city_list[0][2])\n",
    "print(city_list[0][2][3])    #iç içe index bakılır.\n"
   ]
  },
  {
   "cell_type": "code",
   "execution_count": 8,
   "id": "69c7fe79",
   "metadata": {},
   "outputs": [],
   "source": [
    "## slicing a list"
   ]
  },
  {
   "cell_type": "code",
   "execution_count": 11,
   "id": "c5bb1679",
   "metadata": {},
   "outputs": [],
   "source": [
    "## list_name = [start:stop:step]      from start to stop"
   ]
  },
  {
   "cell_type": "code",
   "execution_count": null,
   "id": "922edf96",
   "metadata": {},
   "outputs": [],
   "source": [
    "even_numbers = {2, 4 ,6 ,8 10}\n",
    "even_numbers"
   ]
  },
  {
   "cell_type": "code",
   "execution_count": 14,
   "id": "9d24ccba",
   "metadata": {},
   "outputs": [
    {
     "data": {
      "text/plain": [
       "range(0, 11)"
      ]
     },
     "execution_count": 14,
     "metadata": {},
     "output_type": "execute_result"
    }
   ],
   "source": [
    "range(0, 11)          # create a object"
   ]
  },
  {
   "cell_type": "code",
   "execution_count": 15,
   "id": "f9896bd4",
   "metadata": {},
   "outputs": [
    {
     "data": {
      "text/plain": [
       "range"
      ]
     },
     "execution_count": 15,
     "metadata": {},
     "output_type": "execute_result"
    }
   ],
   "source": [
    "type(range(0, 11))"
   ]
  },
  {
   "cell_type": "code",
   "execution_count": 20,
   "id": "8831a3cf",
   "metadata": {},
   "outputs": [
    {
     "name": "stdout",
     "output_type": "stream",
     "text": [
      "[0, 1, 2, 3, 4, 5, 6, 7, 8, 9, 10]\n"
     ]
    }
   ],
   "source": [
    "sayılar = list(range(0, 11))\n",
    "print(sayılar)"
   ]
  },
  {
   "cell_type": "code",
   "execution_count": 10,
   "id": "f9e8d0b8",
   "metadata": {},
   "outputs": [
    {
     "name": "stdout",
     "output_type": "stream",
     "text": [
      "[1, 3, 5, 7, 9]\n"
     ]
    }
   ],
   "source": [
    "sayı = list(range(11))\n",
    "print(sayı[1:11:2])"
   ]
  },
  {
   "cell_type": "code",
   "execution_count": 21,
   "id": "9bfdb442",
   "metadata": {},
   "outputs": [
    {
     "data": {
      "text/plain": [
       "range(11, -1)"
      ]
     },
     "execution_count": 21,
     "metadata": {},
     "output_type": "execute_result"
    }
   ],
   "source": [
    "range(11, -1)"
   ]
  },
  {
   "cell_type": "code",
   "execution_count": null,
   "id": "db168740",
   "metadata": {},
   "outputs": [],
   "source": []
  }
 ],
 "metadata": {
  "kernelspec": {
   "display_name": "Python 3 (ipykernel)",
   "language": "python",
   "name": "python3"
  },
  "language_info": {
   "codemirror_mode": {
    "name": "ipython",
    "version": 3
   },
   "file_extension": ".py",
   "mimetype": "text/x-python",
   "name": "python",
   "nbconvert_exporter": "python",
   "pygments_lexer": "ipython3",
   "version": "3.9.12"
  }
 },
 "nbformat": 4,
 "nbformat_minor": 5
}
