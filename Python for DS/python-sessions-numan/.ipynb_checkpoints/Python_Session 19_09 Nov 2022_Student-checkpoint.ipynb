{
 "cells": [
  {
   "cell_type": "code",
   "execution_count": 2,
   "id": "8fc6ad9c",
   "metadata": {},
   "outputs": [],
   "source": [
    "kelimeler = [\"asmak\", \"kesmek\", \"kelleucurmak\"]"
   ]
  },
  {
   "cell_type": "code",
   "execution_count": 3,
   "id": "f2044fb3",
   "metadata": {},
   "outputs": [
    {
     "data": {
      "text/plain": [
       "<map at 0x127cb306460>"
      ]
     },
     "execution_count": 3,
     "metadata": {},
     "output_type": "execute_result"
    }
   ],
   "source": [
    "map(len, kelimeler)"
   ]
  },
  {
   "cell_type": "markdown",
   "id": "fd103eca",
   "metadata": {},
   "source": []
  }
 ],
 "metadata": {
  "kernelspec": {
   "display_name": "Python 3 (ipykernel)",
   "language": "python",
   "name": "python3"
  },
  "language_info": {
   "codemirror_mode": {
    "name": "ipython",
    "version": 3
   },
   "file_extension": ".py",
   "mimetype": "text/x-python",
   "name": "python",
   "nbconvert_exporter": "python",
   "pygments_lexer": "ipython3",
   "version": "3.9.12"
  }
 },
 "nbformat": 4,
 "nbformat_minor": 5
}
