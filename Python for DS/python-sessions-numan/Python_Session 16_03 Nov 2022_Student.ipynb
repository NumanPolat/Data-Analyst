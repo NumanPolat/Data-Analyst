{
 "cells": [
  {
   "cell_type": "markdown",
   "id": "bce45f1c",
   "metadata": {},
   "source": [
    "## Generator Comprehension"
   ]
  },
  {
   "cell_type": "code",
   "execution_count": 3,
   "id": "03d19c62",
   "metadata": {},
   "outputs": [
    {
     "data": {
      "text/plain": [
       "<generator object <genexpr> at 0x00000246E204D9E0>"
      ]
     },
     "execution_count": 3,
     "metadata": {},
     "output_type": "execute_result"
    }
   ],
   "source": [
    "generator = (i**2 for i in range(6))\n",
    "generator"
   ]
  },
  {
   "cell_type": "code",
   "execution_count": 4,
   "id": "00770fcc",
   "metadata": {},
   "outputs": [
    {
     "data": {
      "text/plain": [
       "[0, 1, 4, 9, 16, 25]"
      ]
     },
     "execution_count": 4,
     "metadata": {},
     "output_type": "execute_result"
    }
   ],
   "source": [
    "list(genenrator)"
   ]
  },
  {
   "cell_type": "code",
   "execution_count": 7,
   "id": "19fe55cd",
   "metadata": {},
   "outputs": [
    {
     "name": "stdout",
     "output_type": "stream",
     "text": [
      "\n"
     ]
    }
   ],
   "source": [
    "print(*generator)"
   ]
  },
  {
   "cell_type": "code",
   "execution_count": 8,
   "id": "1e9633f3",
   "metadata": {},
   "outputs": [
    {
     "name": "stdout",
     "output_type": "stream",
     "text": [
      "0\n",
      "1\n",
      "4\n",
      "9\n",
      "16\n",
      "25\n"
     ]
    }
   ],
   "source": [
    "generator = (i**2 for i in range(6))\n",
    "\n",
    "for i in generator:\n",
    "    print(i)"
   ]
  },
  {
   "cell_type": "code",
   "execution_count": 15,
   "id": "06af0383",
   "metadata": {},
   "outputs": [
    {
     "data": {
      "text/plain": [
       "[]"
      ]
     },
     "execution_count": 15,
     "metadata": {},
     "output_type": "execute_result"
    }
   ],
   "source": [
    "list(generator)"
   ]
  },
  {
   "cell_type": "code",
   "execution_count": 24,
   "id": "3f0fbdb6",
   "metadata": {},
   "outputs": [
    {
     "data": {
      "text/plain": [
       "<generator object <genexpr> at 0x00000246E47617B0>"
      ]
     },
     "execution_count": 24,
     "metadata": {},
     "output_type": "execute_result"
    }
   ],
   "source": [
    "generator = (i**2 for i in range(6))\n",
    "generator"
   ]
  },
  {
   "cell_type": "code",
   "execution_count": 25,
   "id": "c2b5e5b4",
   "metadata": {},
   "outputs": [
    {
     "name": "stdout",
     "output_type": "stream",
     "text": [
      "0\n"
     ]
    }
   ],
   "source": [
    "print(next(generator))"
   ]
  },
  {
   "cell_type": "code",
   "execution_count": 26,
   "id": "8361134a",
   "metadata": {},
   "outputs": [
    {
     "name": "stdout",
     "output_type": "stream",
     "text": [
      "1\n"
     ]
    }
   ],
   "source": [
    "print(next(generator))"
   ]
  },
  {
   "cell_type": "code",
   "execution_count": 27,
   "id": "78ab0ddf",
   "metadata": {},
   "outputs": [
    {
     "name": "stdout",
     "output_type": "stream",
     "text": [
      "4\n"
     ]
    }
   ],
   "source": [
    "print(next(generator))"
   ]
  },
  {
   "cell_type": "code",
   "execution_count": 28,
   "id": "ca3f6067",
   "metadata": {},
   "outputs": [
    {
     "name": "stdout",
     "output_type": "stream",
     "text": [
      "9\n"
     ]
    }
   ],
   "source": [
    "print(next(generator))"
   ]
  },
  {
   "cell_type": "code",
   "execution_count": 29,
   "id": "cc0bdf81",
   "metadata": {},
   "outputs": [
    {
     "name": "stdout",
     "output_type": "stream",
     "text": [
      "16\n"
     ]
    }
   ],
   "source": [
    "print(next(generator))"
   ]
  },
  {
   "cell_type": "code",
   "execution_count": 30,
   "id": "3674c38f",
   "metadata": {},
   "outputs": [
    {
     "name": "stdout",
     "output_type": "stream",
     "text": [
      "25\n"
     ]
    }
   ],
   "source": [
    "print(next(generator))"
   ]
  },
  {
   "cell_type": "code",
   "execution_count": 31,
   "id": "4c767d17",
   "metadata": {},
   "outputs": [
    {
     "ename": "StopIteration",
     "evalue": "",
     "output_type": "error",
     "traceback": [
      "\u001b[1;31m---------------------------------------------------------------------------\u001b[0m",
      "\u001b[1;31mStopIteration\u001b[0m                             Traceback (most recent call last)",
      "Input \u001b[1;32mIn [31]\u001b[0m, in \u001b[0;36m<cell line: 1>\u001b[1;34m()\u001b[0m\n\u001b[1;32m----> 1\u001b[0m \u001b[38;5;28mprint\u001b[39m(\u001b[38;5;28;43mnext\u001b[39;49m\u001b[43m(\u001b[49m\u001b[43mgenerator\u001b[49m\u001b[43m)\u001b[49m)\n",
      "\u001b[1;31mStopIteration\u001b[0m: "
     ]
    }
   ],
   "source": [
    "print(next(generator))"
   ]
  },
  {
   "cell_type": "code",
   "execution_count": 32,
   "id": "24f4485d",
   "metadata": {},
   "outputs": [
    {
     "data": {
      "text/plain": [
       "[]"
      ]
     },
     "execution_count": 32,
     "metadata": {},
     "output_type": "execute_result"
    }
   ],
   "source": [
    "list(genenrator)"
   ]
  },
  {
   "cell_type": "code",
   "execution_count": 33,
   "id": "1c928239",
   "metadata": {},
   "outputs": [
    {
     "data": {
      "text/plain": [
       "<generator object <genexpr> at 0x00000246E47615F0>"
      ]
     },
     "execution_count": 33,
     "metadata": {},
     "output_type": "execute_result"
    }
   ],
   "source": [
    "generate = (i/2 for i in [0,9,21,32])\n",
    "\n",
    "generate"
   ]
  },
  {
   "cell_type": "code",
   "execution_count": 34,
   "id": "316388fd",
   "metadata": {},
   "outputs": [
    {
     "name": "stdout",
     "output_type": "stream",
     "text": [
      "0.0\n",
      "4.5\n",
      "10.5\n",
      "16.0\n"
     ]
    }
   ],
   "source": [
    "for item in generate:\n",
    "    print(item)"
   ]
  },
  {
   "cell_type": "code",
   "execution_count": 36,
   "id": "c30a1675",
   "metadata": {},
   "outputs": [
    {
     "name": "stdout",
     "output_type": "stream",
     "text": [
      "(0, 0, 0)\n",
      "(1, 1, 1)\n",
      "(2, 4, 8)\n",
      "(3, 9, 27)\n",
      "(4, 16, 64)\n",
      "(5, 25, 125)\n",
      "(6, 36, 216)\n",
      "(7, 49, 343)\n",
      "(8, 64, 512)\n",
      "(9, 81, 729)\n"
     ]
    }
   ],
   "source": [
    "generate = ((i, i**2, i**3) for i in range(10))\n",
    "\n",
    "for item in generate:\n",
    "    print(item)"
   ]
  },
  {
   "cell_type": "code",
   "execution_count": 37,
   "id": "9b98d0fc",
   "metadata": {},
   "outputs": [
    {
     "name": "stdout",
     "output_type": "stream",
     "text": [
      "apple apple apple pie pie\n"
     ]
    }
   ],
   "source": [
    "generate = ((\"apple\" if i < 3 else \"pie\") for i in range(5))\n",
    "\n",
    "print(*generate)"
   ]
  },
  {
   "cell_type": "markdown",
   "id": "7f4c3dec",
   "metadata": {},
   "source": [
    "## Built Function"
   ]
  },
  {
   "cell_type": "code",
   "execution_count": 39,
   "id": "6691c612",
   "metadata": {},
   "outputs": [
    {
     "name": "stdout",
     "output_type": "stream",
     "text": [
      "[(0, 'hagi'), (1, 'capone'), (2, 'hasam')]\n"
     ]
    }
   ],
   "source": [
    "name = [\"hagi\", \"capone\", \"hasam\"]\n",
    "\n",
    "sayac = 0\n",
    "liste =[]\n",
    "\n",
    "for i in name:\n",
    "    liste.append((sayac, i))\n",
    "    sayac +=1\n",
    "print(liste)"
   ]
  },
  {
   "cell_type": "code",
   "execution_count": 42,
   "id": "b806ff7d",
   "metadata": {},
   "outputs": [
    {
     "name": "stdout",
     "output_type": "stream",
     "text": [
      "[(0, 'hagi'), (1, 'capone'), (2, 'hasam')]\n"
     ]
    }
   ],
   "source": [
    "print(list(enumerate(name)))"
   ]
  },
  {
   "cell_type": "code",
   "execution_count": 43,
   "id": "e6dcae1e",
   "metadata": {},
   "outputs": [
    {
     "name": "stdout",
     "output_type": "stream",
     "text": [
      "<class 'enumerate'>\n",
      "[(0, 'bread'), (1, 'water'), (2, 'olive')]\n",
      "[(10, 'bread'), (11, 'water'), (12, 'olive')]\n"
     ]
    }
   ],
   "source": [
    "grocery = ['bread','water','olive']\n",
    "enum_grocery = enumerate(grocery)\n",
    "print(type(enum_grocery))\n",
    "print(list(enum_grocery))\n",
    "enum_grocery = enumerate(grocery,10)\n",
    "print(list(enum_grocery))"
   ]
  },
  {
   "cell_type": "code",
   "execution_count": 44,
   "id": "e5c38867",
   "metadata": {},
   "outputs": [
    {
     "data": {
      "text/plain": [
       "{0: 'bread', 1: 'water', 2: 'olive'}"
      ]
     },
     "execution_count": 44,
     "metadata": {},
     "output_type": "execute_result"
    }
   ],
   "source": [
    "grocery = ['bread','water','olive']\n",
    "enum_grocery = enumerate(grocery)\n",
    "\n",
    "dict(enum_grocery)"
   ]
  },
  {
   "cell_type": "code",
   "execution_count": 45,
   "id": "745ae36d",
   "metadata": {},
   "outputs": [
    {
     "name": "stdout",
     "output_type": "stream",
     "text": [
      "the largest number is: 16\n",
      "the smallest number is: -222\n"
     ]
    }
   ],
   "source": [
    "number = [-222,0,16,5,10,6]    ## serilerin hepsi aynı class olacak.\n",
    "largest_num = max(number)\n",
    "smallest_num = min(number)\n",
    "print('the largest number is:', largest_num)\n",
    "print('the smallest number is:', smallest_num)"
   ]
  },
  {
   "cell_type": "code",
   "execution_count": 47,
   "id": "e2739efa",
   "metadata": {},
   "outputs": [
    {
     "ename": "TypeError",
     "evalue": "'>' not supported between instances of 'str' and 'int'",
     "output_type": "error",
     "traceback": [
      "\u001b[1;31m---------------------------------------------------------------------------\u001b[0m",
      "\u001b[1;31mTypeError\u001b[0m                                 Traceback (most recent call last)",
      "Input \u001b[1;32mIn [47]\u001b[0m, in \u001b[0;36m<cell line: 2>\u001b[1;34m()\u001b[0m\n\u001b[0;32m      1\u001b[0m number \u001b[38;5;241m=\u001b[39m [\u001b[38;5;241m-\u001b[39m\u001b[38;5;241m222\u001b[39m,\u001b[38;5;241m0\u001b[39m,\u001b[38;5;241m16\u001b[39m,\u001b[38;5;241m5\u001b[39m,\u001b[38;5;241m10\u001b[39m,\u001b[38;5;241m6\u001b[39m,\u001b[38;5;124m\"\u001b[39m\u001b[38;5;124m4\u001b[39m\u001b[38;5;124m\"\u001b[39m] \n\u001b[1;32m----> 2\u001b[0m largest_num \u001b[38;5;241m=\u001b[39m \u001b[38;5;28;43mmax\u001b[39;49m\u001b[43m(\u001b[49m\u001b[43mnumber\u001b[49m\u001b[43m)\u001b[49m\n\u001b[0;32m      3\u001b[0m smallest_num \u001b[38;5;241m=\u001b[39m \u001b[38;5;28mmin\u001b[39m(number)\n\u001b[0;32m      4\u001b[0m \u001b[38;5;28mprint\u001b[39m(\u001b[38;5;124m'\u001b[39m\u001b[38;5;124mthe largest number is:\u001b[39m\u001b[38;5;124m'\u001b[39m, largest_num)\n",
      "\u001b[1;31mTypeError\u001b[0m: '>' not supported between instances of 'str' and 'int'"
     ]
    }
   ],
   "source": [
    "number = [-222,0,16,5,10,6,\"4\"] \n",
    "largest_num = max(number)\n",
    "smallest_num = min(number)\n",
    "print('the largest number is:', largest_num)\n",
    "print('the smallest number is:', smallest_num)"
   ]
  },
  {
   "cell_type": "code",
   "execution_count": 50,
   "id": "12965716",
   "metadata": {},
   "outputs": [
    {
     "data": {
      "text/plain": [
       "'t'"
      ]
     },
     "execution_count": 50,
     "metadata": {},
     "output_type": "execute_result"
    }
   ],
   "source": [
    "max(\"mertens\")"
   ]
  },
  {
   "cell_type": "code",
   "execution_count": 49,
   "id": "611c8e81",
   "metadata": {},
   "outputs": [
    {
     "data": {
      "text/plain": [
       "'a'"
      ]
     },
     "execution_count": 49,
     "metadata": {},
     "output_type": "execute_result"
    }
   ],
   "source": [
    "min(\"adriano\")"
   ]
  },
  {
   "cell_type": "code",
   "execution_count": 51,
   "id": "ee91efd9",
   "metadata": {},
   "outputs": [
    {
     "data": {
      "text/plain": [
       "97"
      ]
     },
     "execution_count": 51,
     "metadata": {},
     "output_type": "execute_result"
    }
   ],
   "source": [
    "ord(\"a\")    ## unicode"
   ]
  },
  {
   "cell_type": "code",
   "execution_count": 52,
   "id": "6ba3b89e",
   "metadata": {},
   "outputs": [
    {
     "data": {
      "text/plain": [
       "1"
      ]
     },
     "execution_count": 52,
     "metadata": {},
     "output_type": "execute_result"
    }
   ],
   "source": [
    "min([1,2,3,4,5])"
   ]
  },
  {
   "cell_type": "code",
   "execution_count": 53,
   "id": "842c8934",
   "metadata": {},
   "outputs": [
    {
     "data": {
      "text/plain": [
       "5"
      ]
     },
     "execution_count": 53,
     "metadata": {},
     "output_type": "execute_result"
    }
   ],
   "source": [
    "max([1,2,3,4,5])"
   ]
  },
  {
   "cell_type": "markdown",
   "id": "d99d4369",
   "metadata": {},
   "source": [
    "### sum\n",
    "iterable olmalıki toplasın"
   ]
  },
  {
   "cell_type": "code",
   "execution_count": 57,
   "id": "1b1a5754",
   "metadata": {},
   "outputs": [
    {
     "ename": "TypeError",
     "evalue": "sum() takes at most 2 arguments (5 given)",
     "output_type": "error",
     "traceback": [
      "\u001b[1;31m---------------------------------------------------------------------------\u001b[0m",
      "\u001b[1;31mTypeError\u001b[0m                                 Traceback (most recent call last)",
      "Input \u001b[1;32mIn [57]\u001b[0m, in \u001b[0;36m<cell line: 1>\u001b[1;34m()\u001b[0m\n\u001b[1;32m----> 1\u001b[0m \u001b[38;5;28;43msum\u001b[39;49m\u001b[43m(\u001b[49m\u001b[38;5;241;43m1\u001b[39;49m\u001b[43m,\u001b[49m\u001b[38;5;241;43m2\u001b[39;49m\u001b[43m,\u001b[49m\u001b[38;5;241;43m3\u001b[39;49m\u001b[43m,\u001b[49m\u001b[38;5;241;43m4\u001b[39;49m\u001b[43m,\u001b[49m\u001b[38;5;241;43m5\u001b[39;49m\u001b[43m)\u001b[49m\n",
      "\u001b[1;31mTypeError\u001b[0m: sum() takes at most 2 arguments (5 given)"
     ]
    }
   ],
   "source": [
    "sum(1,2,3,4,5)"
   ]
  },
  {
   "cell_type": "code",
   "execution_count": 54,
   "id": "5d7f9360",
   "metadata": {},
   "outputs": [
    {
     "name": "stdout",
     "output_type": "stream",
     "text": [
      "32\n"
     ]
    }
   ],
   "source": [
    "number = [10, -15, 25, 12]\n",
    "numbers_sum = sum(number)\n",
    "print(numbers_sum)"
   ]
  },
  {
   "cell_type": "code",
   "execution_count": 55,
   "id": "b7f0ae9e",
   "metadata": {},
   "outputs": [
    {
     "name": "stdout",
     "output_type": "stream",
     "text": [
      "52\n"
     ]
    }
   ],
   "source": [
    "print(numbers_sum+20)"
   ]
  },
  {
   "cell_type": "markdown",
   "id": "4db9ee20",
   "metadata": {},
   "source": [
    "### round(numbers, ndigits\n",
    "\n",
    "yuvarlama yapğar ndigits ise kac basamak oldugunu söyler"
   ]
  },
  {
   "cell_type": "code",
   "execution_count": 60,
   "id": "6053f193",
   "metadata": {},
   "outputs": [
    {
     "name": "stdout",
     "output_type": "stream",
     "text": [
      "12\n",
      "11\n",
      "3.67\n",
      "3.67\n"
     ]
    }
   ],
   "source": [
    "print(round(12))\n",
    "print(round(10.8))\n",
    "print(round(3.665, 2))\n",
    "print(round(3.675, 2))"
   ]
  },
  {
   "cell_type": "markdown",
   "id": "a387e5cf",
   "metadata": {},
   "source": [
    "## Defining a function"
   ]
  },
  {
   "cell_type": "code",
   "execution_count": 64,
   "id": "259d2b69",
   "metadata": {},
   "outputs": [],
   "source": [
    "def first_function(x,y):\n",
    "    print(x **2 + y ** 3)"
   ]
  },
  {
   "cell_type": "code",
   "execution_count": 65,
   "id": "dc6e60cc",
   "metadata": {},
   "outputs": [
    {
     "name": "stdout",
     "output_type": "stream",
     "text": [
      "31\n"
     ]
    }
   ],
   "source": [
    "first_function(2,3)"
   ]
  },
  {
   "cell_type": "code",
   "execution_count": 69,
   "id": "8a4da66a",
   "metadata": {},
   "outputs": [
    {
     "name": "stdout",
     "output_type": "stream",
     "text": [
      "5\n"
     ]
    }
   ],
   "source": [
    "def add(x, y):\n",
    "    print(x+y)\n",
    "add(3,2)"
   ]
  },
  {
   "cell_type": "code",
   "execution_count": 72,
   "id": "8c7b617b",
   "metadata": {},
   "outputs": [],
   "source": [
    "def hipotenus(a, b):\n",
    "    print((a**2 + b**2)** (0.5))"
   ]
  },
  {
   "cell_type": "code",
   "execution_count": 73,
   "id": "05c40867",
   "metadata": {},
   "outputs": [
    {
     "name": "stdout",
     "output_type": "stream",
     "text": [
      "5.0\n"
     ]
    }
   ],
   "source": [
    "hipotenus(3,4)"
   ]
  },
  {
   "cell_type": "code",
   "execution_count": 77,
   "id": "69a8b101",
   "metadata": {},
   "outputs": [
    {
     "name": "stdout",
     "output_type": "stream",
     "text": [
      "1.sayı2\n",
      "2.sayı2\n",
      "string git:+\n",
      "22\n"
     ]
    }
   ],
   "source": [
    "a = input(\"1.sayı\")\n",
    "b = input(\"2.sayı\")\n",
    "c = input(\"string git:\")\n",
    "\n",
    "\n",
    "def calculator(a, b, c):\n",
    "    if c == \"+\":\n",
    "        print(a+b)\n",
    "    elif c == \"-\":\n",
    "        print(a-b)\n",
    "    elif c == \"*\":\n",
    "        print(a*b)\n",
    "    else:\n",
    "        print(a/b)\n",
    "calculator(a, b, c)"
   ]
  },
  {
   "cell_type": "code",
   "execution_count": 85,
   "id": "774a15e4",
   "metadata": {},
   "outputs": [
    {
     "name": "stdout",
     "output_type": "stream",
     "text": [
      "1.sayı5\n",
      "2.sayı6\n",
      "string git:3\n",
      "yanlış giriş yaptınız\n"
     ]
    }
   ],
   "source": [
    "a = int(input(\"1.sayı\"))\n",
    "b = int(input(\"2.sayı\"))\n",
    "c = input(\"string git:\")\n",
    "\n",
    "\n",
    "def calculator(a, b, c):\n",
    "    if c == \"+\":\n",
    "        print(a+b)\n",
    "    elif c == \"-\":\n",
    "        print(a-b)\n",
    "    elif c == \"*\":\n",
    "        print(a*b)\n",
    "    elif c == \"/\":\n",
    "        print(a/b)\n",
    "    else:\n",
    "        print(\"yanlış giriş yaptınız\")\n",
    "calculator(a, b, c)"
   ]
  },
  {
   "cell_type": "code",
   "execution_count": 101,
   "id": "83003b9d",
   "metadata": {},
   "outputs": [
    {
     "name": "stdout",
     "output_type": "stream",
     "text": [
      "20\n"
     ]
    }
   ],
   "source": [
    "def multiply(a,b):\n",
    "    return(a*b)    #return any numeric data type value \n",
    "\n",
    "print(multiply(10,2))"
   ]
  },
  {
   "cell_type": "code",
   "execution_count": 89,
   "id": "5f921dc0",
   "metadata": {},
   "outputs": [
    {
     "data": {
      "text/plain": [
       "14"
      ]
     },
     "execution_count": 89,
     "metadata": {},
     "output_type": "execute_result"
    }
   ],
   "source": [
    "def add(num1, num2):\n",
    "    return num1 + num2\n",
    "add(11,3)"
   ]
  },
  {
   "cell_type": "code",
   "execution_count": 90,
   "id": "78b216e2",
   "metadata": {},
   "outputs": [],
   "source": [
    "listem  = []\n",
    "\n",
    "for i in range(5):\n",
    "    listem.append(i + add(21,8))"
   ]
  },
  {
   "cell_type": "code",
   "execution_count": 91,
   "id": "4b292dd3",
   "metadata": {},
   "outputs": [
    {
     "data": {
      "text/plain": [
       "[29, 30, 31, 32, 33]"
      ]
     },
     "execution_count": 91,
     "metadata": {},
     "output_type": "execute_result"
    }
   ],
   "source": [
    "listem"
   ]
  },
  {
   "cell_type": "code",
   "execution_count": 92,
   "id": "4c572a64",
   "metadata": {},
   "outputs": [
    {
     "name": "stdout",
     "output_type": "stream",
     "text": [
      "12\n"
     ]
    },
    {
     "data": {
      "text/plain": [
       "NoneType"
      ]
     },
     "execution_count": 92,
     "metadata": {},
     "output_type": "execute_result"
    }
   ],
   "source": [
    "a = print(7+5)\n",
    "type(a)"
   ]
  },
  {
   "cell_type": "code",
   "execution_count": 93,
   "id": "76a41ebd",
   "metadata": {},
   "outputs": [
    {
     "ename": "TypeError",
     "evalue": "unsupported operand type(s) for *: 'NoneType' and 'int'",
     "output_type": "error",
     "traceback": [
      "\u001b[1;31m---------------------------------------------------------------------------\u001b[0m",
      "\u001b[1;31mTypeError\u001b[0m                                 Traceback (most recent call last)",
      "Input \u001b[1;32mIn [93]\u001b[0m, in \u001b[0;36m<cell line: 1>\u001b[1;34m()\u001b[0m\n\u001b[1;32m----> 1\u001b[0m \u001b[43ma\u001b[49m\u001b[43m \u001b[49m\u001b[38;5;241;43m*\u001b[39;49m\u001b[43m \u001b[49m\u001b[38;5;241;43m3\u001b[39;49m\n",
      "\u001b[1;31mTypeError\u001b[0m: unsupported operand type(s) for *: 'NoneType' and 'int'"
     ]
    }
   ],
   "source": [
    "a * 3"
   ]
  },
  {
   "cell_type": "code",
   "execution_count": 94,
   "id": "0b3ec06d",
   "metadata": {},
   "outputs": [],
   "source": [
    "def add2(s1,s2):\n",
    "    print(s1 + s2)"
   ]
  },
  {
   "cell_type": "code",
   "execution_count": 97,
   "id": "96a0c3b5",
   "metadata": {},
   "outputs": [
    {
     "name": "stdout",
     "output_type": "stream",
     "text": [
      "29\n"
     ]
    },
    {
     "ename": "TypeError",
     "evalue": "unsupported operand type(s) for +: 'int' and 'NoneType'",
     "output_type": "error",
     "traceback": [
      "\u001b[1;31m---------------------------------------------------------------------------\u001b[0m",
      "\u001b[1;31mTypeError\u001b[0m                                 Traceback (most recent call last)",
      "Input \u001b[1;32mIn [97]\u001b[0m, in \u001b[0;36m<cell line: 3>\u001b[1;34m()\u001b[0m\n\u001b[0;32m      1\u001b[0m listem2  \u001b[38;5;241m=\u001b[39m []\n\u001b[0;32m      3\u001b[0m \u001b[38;5;28;01mfor\u001b[39;00m i \u001b[38;5;129;01min\u001b[39;00m \u001b[38;5;28mrange\u001b[39m(\u001b[38;5;241m5\u001b[39m):\n\u001b[1;32m----> 4\u001b[0m     listem2\u001b[38;5;241m.\u001b[39mappend(\u001b[43mi\u001b[49m\u001b[43m \u001b[49m\u001b[38;5;241;43m+\u001b[39;49m\u001b[43m \u001b[49m\u001b[43madd2\u001b[49m\u001b[43m(\u001b[49m\u001b[38;5;241;43m21\u001b[39;49m\u001b[43m,\u001b[49m\u001b[38;5;241;43m8\u001b[39;49m\u001b[43m)\u001b[49m)\n\u001b[0;32m      5\u001b[0m listem2\n",
      "\u001b[1;31mTypeError\u001b[0m: unsupported operand type(s) for +: 'int' and 'NoneType'"
     ]
    }
   ],
   "source": [
    "listem2  = []\n",
    "\n",
    "for i in range(5):\n",
    "    listem2.append(i + add2(21,8))\n",
    "listem2"
   ]
  },
  {
   "cell_type": "code",
   "execution_count": 98,
   "id": "a94ea2fb",
   "metadata": {},
   "outputs": [],
   "source": [
    "def topla(x,y):\n",
    "    return(x+y)\n"
   ]
  },
  {
   "cell_type": "code",
   "execution_count": 100,
   "id": "38b1450c",
   "metadata": {},
   "outputs": [
    {
     "data": {
      "text/plain": [
       "int"
      ]
     },
     "execution_count": 100,
     "metadata": {},
     "output_type": "execute_result"
    }
   ],
   "source": [
    "type(topla(4,5))"
   ]
  },
  {
   "cell_type": "code",
   "execution_count": 103,
   "id": "e775839d",
   "metadata": {},
   "outputs": [
    {
     "data": {
      "text/plain": [
       "'ali,veli, deli'"
      ]
     },
     "execution_count": 103,
     "metadata": {},
     "output_type": "execute_result"
    }
   ],
   "source": [
    "def string():\n",
    "    return\"ali,veli, deli\"\n",
    "string()"
   ]
  },
  {
   "cell_type": "markdown",
   "id": "8b77ca34",
   "metadata": {},
   "source": [
    "## Duration comparison between for loop annd list comprehension"
   ]
  },
  {
   "cell_type": "code",
   "execution_count": 108,
   "id": "b3ef7b8e",
   "metadata": {},
   "outputs": [],
   "source": [
    "from timeit import timeit"
   ]
  },
  {
   "cell_type": "code",
   "execution_count": 110,
   "id": "bb298a8e",
   "metadata": {},
   "outputs": [
    {
     "name": "stdout",
     "output_type": "stream",
     "text": [
      "list comprehensiono is 1.45 time faster than loop\n"
     ]
    }
   ],
   "source": [
    "def for_loop():\n",
    "    result = []\n",
    "    for i in range(1000000):\n",
    "        result.append(i)\n",
    "    return result\n",
    "\n",
    "\n",
    "def list_comprehension():\n",
    "    return [i for i in range(1000000)]\n",
    "\n",
    "expsize = 100\n",
    "\n",
    "time1 = timeit(for_loop, number = expsize)\n",
    "\n",
    "time2 = timeit(list_comprehension, number = expsize)\n",
    "\n",
    "print(f\"list comprehensiono is {round(time1/time2, 2)} time faster than loop\")"
   ]
  },
  {
   "cell_type": "code",
   "execution_count": null,
   "id": "a8b1c1e8",
   "metadata": {},
   "outputs": [],
   "source": []
  },
  {
   "cell_type": "code",
   "execution_count": null,
   "id": "52a6c354",
   "metadata": {},
   "outputs": [],
   "source": []
  }
 ],
 "metadata": {
  "kernelspec": {
   "display_name": "Python 3 (ipykernel)",
   "language": "python",
   "name": "python3"
  },
  "language_info": {
   "codemirror_mode": {
    "name": "ipython",
    "version": 3
   },
   "file_extension": ".py",
   "mimetype": "text/x-python",
   "name": "python",
   "nbconvert_exporter": "python",
   "pygments_lexer": "ipython3",
   "version": "3.9.12"
  }
 },
 "nbformat": 4,
 "nbformat_minor": 5
}
