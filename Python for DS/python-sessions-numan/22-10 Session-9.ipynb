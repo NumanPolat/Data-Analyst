{
 "cells": [
  {
   "cell_type": "markdown",
   "id": "60a14ec1",
   "metadata": {},
   "source": [
    "<h1><p style=\"text-align: center; color:darkblue\">Python Session-9 <br> 22 Oct 2022</p>"
   ]
  },
  {
   "cell_type": "markdown",
   "id": "4044c851",
   "metadata": {},
   "source": [
    "## <p style=\"background-color:#FDFEFE; font-family:newtimeroman; color:#4d77cf; font-size:150%; text-align:center; border-radius:10px 10px;\"><br><br>Collection Types<br><br>Tuples<br><br>Dictionaries</p>"
   ]
  },
  {
   "cell_type": "markdown",
   "id": "7d982794",
   "metadata": {},
   "source": [
    "<a id=\"toc\"></a>\n",
    "\n",
    "## <p style=\"background-color:#9d4f8c; font-family:newtimeroman; color:#FFF9ED; font-size:175%; text-align:center; border-radius:10px 10px;\">Tuples</p>"
   ]
  },
  {
   "cell_type": "code",
   "execution_count": null,
   "id": "13006de6",
   "metadata": {},
   "outputs": [],
   "source": []
  }
 ],
 "metadata": {
  "kernelspec": {
   "display_name": "Python 3 (ipykernel)",
   "language": "python",
   "name": "python3"
  },
  "language_info": {
   "codemirror_mode": {
    "name": "ipython",
    "version": 3
   },
   "file_extension": ".py",
   "mimetype": "text/x-python",
   "name": "python",
   "nbconvert_exporter": "python",
   "pygments_lexer": "ipython3",
   "version": "3.9.12"
  }
 },
 "nbformat": 4,
 "nbformat_minor": 5
}
