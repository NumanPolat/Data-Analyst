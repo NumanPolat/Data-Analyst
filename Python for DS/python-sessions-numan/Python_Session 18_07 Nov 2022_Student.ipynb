{
 "cells": [
  {
   "cell_type": "markdown",
   "id": "2edf3dee",
   "metadata": {},
   "source": [
    "## Arbitrary number of arguments"
   ]
  },
  {
   "cell_type": "code",
   "execution_count": 2,
   "id": "424abbf2",
   "metadata": {},
   "outputs": [
    {
     "name": "stdout",
     "output_type": "stream",
     "text": [
      "Athens in Europe\n",
      "Ulanbatar in Asia\n",
      "İstanbul in Europe\n"
     ]
    }
   ],
   "source": [
    "def city(capital, continent=\"Europe\"):\n",
    "    print(capital, \"in\", continent)\n",
    "    \n",
    "city(\"Athens\")\n",
    "city(\"Ulanbatar\", continent=\"Asia\")\n",
    "city(\"İstanbul\")"
   ]
  },
  {
   "cell_type": "code",
   "execution_count": 9,
   "id": "02a7fd9d",
   "metadata": {},
   "outputs": [
    {
     "name": "stdout",
     "output_type": "stream",
     "text": [
      "I want to get apple and banana\n"
     ]
    }
   ],
   "source": [
    "def fruiter(fruit1,fruit2):\n",
    "    print(\"I want to get\", fruit1, \"and\", fruit2)\n",
    "   \n",
    "fruiter(\"apple\", \"banana\")"
   ]
  },
  {
   "cell_type": "code",
   "execution_count": null,
   "id": "220b816c",
   "metadata": {},
   "outputs": [],
   "source": []
  },
  {
   "cell_type": "code",
   "execution_count": null,
   "id": "6c0ff963",
   "metadata": {},
   "outputs": [],
   "source": [
    "*args and **kwargs (review)"
   ]
  },
  {
   "cell_type": "code",
   "execution_count": 10,
   "id": "c1eb799c",
   "metadata": {},
   "outputs": [
    {
     "name": "stdout",
     "output_type": "stream",
     "text": [
      "I want to get:\n",
      "- orange\n",
      "- banana\n",
      "- melon\n",
      "- ananas\n"
     ]
    }
   ],
   "source": [
    "def fruiterer(*fruit):\n",
    "    print(\"I want to get:\")\n",
    "    for i in fruit:\n",
    "        print(\"-\", i)\n",
    "\n",
    "fruiterer(\"orange\", \"banana\", \"melon\", \"ananas\")"
   ]
  },
  {
   "cell_type": "code",
   "execution_count": 11,
   "id": "b610a458",
   "metadata": {},
   "outputs": [
    {
     "name": "stdout",
     "output_type": "stream",
     "text": [
      "orange banana melon ananas "
     ]
    }
   ],
   "source": [
    "def fruiterer(*fruit):\n",
    "    for i in fruit:\n",
    "        print(i, end=\" \")\n",
    "\n",
    "fruiterer(\"orange\", \"banana\", \"melon\", \"ananas\")"
   ]
  },
  {
   "cell_type": "code",
   "execution_count": 20,
   "id": "6abbe179",
   "metadata": {},
   "outputs": [],
   "source": [
    "def slicer(*num):\n",
    "    evens = []\n",
    "    odds = []\n",
    "    \n",
    "    for  i in num:\n",
    "        if i % 2 == 0:\n",
    "            evens.append(i)\n",
    "        else:\n",
    "            odds.append(i)\n",
    "    print(\"evens list:\",evens)\n",
    "    print(\"odds list:\", odds)"
   ]
  },
  {
   "cell_type": "code",
   "execution_count": 21,
   "id": "6ae5e76a",
   "metadata": {},
   "outputs": [
    {
     "name": "stdout",
     "output_type": "stream",
     "text": [
      "evens list: [2, 4, 6, 8]\n",
      "odds list: [1, 3, 5, 7, 9]\n"
     ]
    }
   ],
   "source": [
    "slicer(1,2,3,4,5,6,7,8,9)"
   ]
  },
  {
   "cell_type": "code",
   "execution_count": 26,
   "id": "bbd8b47f",
   "metadata": {},
   "outputs": [
    {
     "name": "stdout",
     "output_type": "stream",
     "text": [
      "odd list: [(1, 3, 5, 7, 9)]\n",
      "evens list: [(2, 4, 6, 8)]\n"
     ]
    }
   ],
   "source": [
    "def slicer(*numbers):\n",
    "    evens = [numbers[1::2]]\n",
    "    odds = [numbers[0::2]]\n",
    "    print(\"odd list:\", odds)\n",
    "    print(\"evens list:\", evens)\n",
    "slicer(1,2,3,4,5,6,7,8,9)"
   ]
  },
  {
   "cell_type": "code",
   "execution_count": 29,
   "id": "a7e1c40f",
   "metadata": {},
   "outputs": [
    {
     "name": "stdout",
     "output_type": "stream",
     "text": [
      "evens: [2, 4, 6, 8]\n",
      "odds: [1, 3, 5, 7, 9]\n"
     ]
    }
   ],
   "source": [
    "def slicer(*num):\n",
    "    print(\"evens:\", [i for i in num if not i %2])\n",
    "    print(\"odds:\", [i for i in num if  i%2 ])\n",
    "slicer(1,2,3,4,5,6,7,8,9)"
   ]
  },
  {
   "cell_type": "code",
   "execution_count": 28,
   "id": "f65e7d74",
   "metadata": {},
   "outputs": [
    {
     "name": "stdout",
     "output_type": "stream",
     "text": [
      "evens: [2, 4, 6, 8]\n",
      "odds: [1, 3, 5, 7, 9]\n"
     ]
    }
   ],
   "source": [
    "def slicer(*num):\n",
    "    print(\"evens:\", [i for i in num if i %2 == 0 ])\n",
    "    print(\"odds:\", [i for i in num if not  i%2 ==0 ])\n",
    "slicer(1,2,3,4,5,6,7,8,9)"
   ]
  },
  {
   "cell_type": "code",
   "execution_count": 31,
   "id": "79d76e4e",
   "metadata": {},
   "outputs": [
    {
     "name": "stdout",
     "output_type": "stream",
     "text": [
      "lions are Carniovers\n",
      "bears are Omnivores\n",
      "deers are Herbivores\n",
      "human are Nomnivores\n"
     ]
    }
   ],
   "source": [
    "def animals(**kwargs):\n",
    "    for key, value in kwargs.items():\n",
    "        print(value, \"are\", key)\n",
    "\n",
    "animals(Carniovers = \"lions\", Omnivores=\"bears\", Herbivores=\"deers\", Nomnivores=\"human\")"
   ]
  },
  {
   "cell_type": "code",
   "execution_count": 35,
   "id": "faea40b4",
   "metadata": {},
   "outputs": [
    {
     "name": "stdout",
     "output_type": "stream",
     "text": [
      "['Hagi', 'Ergun', 'Hasan']\n",
      "[45, 42, 38]\n"
     ]
    }
   ],
   "source": [
    "def organizer(**people):\n",
    "    names = []\n",
    "    ages =  []\n",
    "    for keys, values in people.items():\n",
    "        names.append(keys)\n",
    "        ages.append(values)\n",
    "    print(names, ages, sep = \"\\n\")\n",
    "\n",
    "organizer(Hagi = 45, Ergun = 42, Hasan = 38)"
   ]
  },
  {
   "cell_type": "code",
   "execution_count": 37,
   "id": "a9ed9620",
   "metadata": {},
   "outputs": [
    {
     "name": "stdout",
     "output_type": "stream",
     "text": [
      "names: ['Hagi', 'Ergun', 'Hasan']\n",
      "ages: [45, 42, 38]\n"
     ]
    }
   ],
   "source": [
    "def organizer(**data):\n",
    "    names = [i for i in data.keys()]\n",
    "    ages = [i for  i in data.values()]\n",
    "    \n",
    "    print(\"names:\", names)\n",
    "    print(\"ages:\", ages)\n",
    "\n",
    "organizer(Hagi = 45, Ergun = 42, Hasan = 38)"
   ]
  },
  {
   "cell_type": "code",
   "execution_count": 39,
   "id": "51a41e17",
   "metadata": {},
   "outputs": [],
   "source": [
    "cümle = (\"herkes haddini bilecek\")\n",
    "def vowels(letter):\n",
    "    vowels = \"a e u i ü ö ı o\".split()\n",
    "    if letter.lower() in vowels:\n",
    "        return True\n",
    "    else:\n",
    "        return False"
   ]
  },
  {
   "cell_type": "code",
   "execution_count": 41,
   "id": "33070997",
   "metadata": {},
   "outputs": [
    {
     "data": {
      "text/plain": [
       "<filter at 0x225db838400>"
      ]
     },
     "execution_count": 41,
     "metadata": {},
     "output_type": "execute_result"
    }
   ],
   "source": [
    "filter(vowels, cümle)"
   ]
  },
  {
   "cell_type": "code",
   "execution_count": 42,
   "id": "28b96c61",
   "metadata": {},
   "outputs": [
    {
     "data": {
      "text/plain": [
       "['e', 'e', 'a', 'i', 'i', 'i', 'e', 'e']"
      ]
     },
     "execution_count": 42,
     "metadata": {},
     "output_type": "execute_result"
    }
   ],
   "source": [
    "filtered_vowels = filter(vowels, cümle)\n",
    "list(filtered_vowels)"
   ]
  },
  {
   "cell_type": "code",
   "execution_count": 47,
   "id": "2ea03fcf",
   "metadata": {},
   "outputs": [],
   "source": [
    "filter(vowels, cümle)\n",
    "filtered_vowels = filter(vowels, cümle)\n"
   ]
  },
  {
   "cell_type": "code",
   "execution_count": 48,
   "id": "80f7531c",
   "metadata": {},
   "outputs": [
    {
     "name": "stdout",
     "output_type": "stream",
     "text": [
      "e e a i i i e e\n"
     ]
    }
   ],
   "source": [
    "print(*filtered_vowels)"
   ]
  },
  {
   "cell_type": "code",
   "execution_count": 49,
   "id": "23dc9596",
   "metadata": {},
   "outputs": [
    {
     "name": "stdout",
     "output_type": "stream",
     "text": [
      "h e r k e s   h a d d i n i   b i l e c e k\n"
     ]
    }
   ],
   "source": [
    "print(*(filter(None, cümle)))"
   ]
  },
  {
   "cell_type": "code",
   "execution_count": null,
   "id": "a739d19b",
   "metadata": {},
   "outputs": [],
   "source": [
    "listem  =[1,2,3,4]\n",
    "\n",
    "def kare(x):\n",
    "    return x**2\n"
   ]
  },
  {
   "cell_type": "code",
   "execution_count": 56,
   "id": "616aa905",
   "metadata": {},
   "outputs": [
    {
     "name": "stdout",
     "output_type": "stream",
     "text": [
      "[1, 4, 9, 16]\n"
     ]
    }
   ],
   "source": [
    "newlist  = []\n",
    "for i in listem:\n",
    "    newlist.append(kare(i))\n",
    "print(newlist)"
   ]
  },
  {
   "cell_type": "code",
   "execution_count": 57,
   "id": "e1d8d615",
   "metadata": {},
   "outputs": [
    {
     "data": {
      "text/plain": [
       "<map at 0x225db4a3940>"
      ]
     },
     "execution_count": 57,
     "metadata": {},
     "output_type": "execute_result"
    }
   ],
   "source": [
    "map(kare, listem)"
   ]
  },
  {
   "cell_type": "code",
   "execution_count": 58,
   "id": "24ddf37c",
   "metadata": {},
   "outputs": [
    {
     "data": {
      "text/plain": [
       "[1, 4, 9, 16]"
      ]
     },
     "execution_count": 58,
     "metadata": {},
     "output_type": "execute_result"
    }
   ],
   "source": [
    "list(map(kare, listem))"
   ]
  },
  {
   "cell_type": "markdown",
   "id": "defb64c4",
   "metadata": {},
   "source": [
    "### lambda"
   ]
  },
  {
   "cell_type": "code",
   "execution_count": 61,
   "id": "acc95349",
   "metadata": {},
   "outputs": [
    {
     "data": {
      "text/plain": [
       "<function __main__.<lambda>(x)>"
      ]
     },
     "execution_count": 61,
     "metadata": {},
     "output_type": "execute_result"
    }
   ],
   "source": [
    "lambda x: \"odd\" if x%2 !=0 else \"evens\""
   ]
  },
  {
   "cell_type": "code",
   "execution_count": 64,
   "id": "4d9d7b20",
   "metadata": {},
   "outputs": [
    {
     "data": {
      "text/plain": [
       "'even'"
      ]
     },
     "execution_count": 64,
     "metadata": {},
     "output_type": "execute_result"
    }
   ],
   "source": [
    "(lambda x: \"odd\" if x%2 !=0 else \"even\")(2)"
   ]
  },
  {
   "cell_type": "code",
   "execution_count": 69,
   "id": "cc11aadb",
   "metadata": {},
   "outputs": [
    {
     "data": {
      "text/plain": [
       "'evens'"
      ]
     },
     "execution_count": 69,
     "metadata": {},
     "output_type": "execute_result"
    }
   ],
   "source": [
    "deneme = (lambda x: \"odd\" if x%2 !=0 else \"evens\")\n",
    "deneme(4)"
   ]
  },
  {
   "cell_type": "code",
   "execution_count": 60,
   "id": "f597e864",
   "metadata": {},
   "outputs": [
    {
     "name": "stdout",
     "output_type": "stream",
     "text": [
      "4\n"
     ]
    }
   ],
   "source": [
    "print((lambda x: x**2)(2))"
   ]
  },
  {
   "cell_type": "code",
   "execution_count": 72,
   "id": "5992d29d",
   "metadata": {},
   "outputs": [
    {
     "name": "stdout",
     "output_type": "stream",
     "text": [
      "4.0\n"
     ]
    }
   ],
   "source": [
    "print((lambda x,y: (x+y)/2)(3,5))"
   ]
  },
  {
   "cell_type": "code",
   "execution_count": 79,
   "id": "25163091",
   "metadata": {},
   "outputs": [
    {
     "data": {
      "text/plain": [
       "'ila'"
      ]
     },
     "execution_count": 79,
     "metadata": {},
     "output_type": "execute_result"
    }
   ],
   "source": [
    "\"ali\"[::-1]"
   ]
  },
  {
   "cell_type": "code",
   "execution_count": 82,
   "id": "b70c2e92",
   "metadata": {},
   "outputs": [
    {
     "data": {
      "text/plain": [
       "<function __main__.<lambda>(x)>"
      ]
     },
     "execution_count": 82,
     "metadata": {},
     "output_type": "execute_result"
    }
   ],
   "source": [
    "(lambda x: (x[::-1])(\"ali\"))"
   ]
  },
  {
   "cell_type": "code",
   "execution_count": null,
   "id": "0db1146f",
   "metadata": {},
   "outputs": [],
   "source": [
    "(lambda x: x[::-1](\"ali\"))"
   ]
  },
  {
   "cell_type": "code",
   "execution_count": 85,
   "id": "02e4c042",
   "metadata": {},
   "outputs": [],
   "source": [
    "sayılar = [1,2,3,4,5,6]"
   ]
  },
  {
   "cell_type": "code",
   "execution_count": 89,
   "id": "14506b43",
   "metadata": {},
   "outputs": [
    {
     "name": "stdout",
     "output_type": "stream",
     "text": [
      "1 : odd\n",
      "2 : even\n",
      "3 : odd\n",
      "4 : even\n",
      "5 : odd\n",
      "6 : even\n"
     ]
    }
   ],
   "source": [
    "for i in sayılar:\n",
    "    print(i, \":\",((lambda x: \"odd\" if x%2 !=0 else \"even\")(i)))\n",
    "\n"
   ]
  },
  {
   "cell_type": "code",
   "execution_count": null,
   "id": "b68dd166",
   "metadata": {},
   "outputs": [],
   "source": []
  }
 ],
 "metadata": {
  "kernelspec": {
   "display_name": "Python 3 (ipykernel)",
   "language": "python",
   "name": "python3"
  },
  "language_info": {
   "codemirror_mode": {
    "name": "ipython",
    "version": 3
   },
   "file_extension": ".py",
   "mimetype": "text/x-python",
   "name": "python",
   "nbconvert_exporter": "python",
   "pygments_lexer": "ipython3",
   "version": "3.9.12"
  }
 },
 "nbformat": 4,
 "nbformat_minor": 5
}
