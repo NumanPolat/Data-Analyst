{
 "cells": [
  {
   "cell_type": "code",
   "execution_count": 1,
   "id": "a8f7e493",
   "metadata": {},
   "outputs": [
    {
     "data": {
      "text/plain": [
       "True"
      ]
     },
     "execution_count": 1,
     "metadata": {},
     "output_type": "execute_result"
    }
   ],
   "source": [
    "1 == 1"
   ]
  },
  {
   "cell_type": "code",
   "execution_count": 2,
   "id": "7bd35310",
   "metadata": {},
   "outputs": [
    {
     "data": {
      "text/plain": [
       "False"
      ]
     },
     "execution_count": 2,
     "metadata": {},
     "output_type": "execute_result"
    }
   ],
   "source": [
    "3 > 3"
   ]
  },
  {
   "cell_type": "code",
   "execution_count": 3,
   "id": "6351fe86",
   "metadata": {},
   "outputs": [
    {
     "name": "stdout",
     "output_type": "stream",
     "text": [
      "veli\n"
     ]
    }
   ],
   "source": [
    "if \"ali\" != \"hagi\":\n",
    "    print(\"veli\")"
   ]
  },
  {
   "cell_type": "code",
   "execution_count": 4,
   "id": "1ed38806",
   "metadata": {},
   "outputs": [
    {
     "name": "stdout",
     "output_type": "stream",
     "text": [
      "if blogu calısmadı\n"
     ]
    }
   ],
   "source": [
    "if 1 and \"bir\" and []:\n",
    "    print(\"if blogu calıstı\")\n",
    "print(\"if blogu calısmadı\")"
   ]
  },
  {
   "cell_type": "code",
   "execution_count": 5,
   "id": "da90c45d",
   "metadata": {},
   "outputs": [
    {
     "data": {
      "text/plain": [
       "(1,)"
      ]
     },
     "execution_count": 5,
     "metadata": {},
     "output_type": "execute_result"
    }
   ],
   "source": [
    "1 and \"bir\" and (1,)"
   ]
  },
  {
   "cell_type": "code",
   "execution_count": 6,
   "id": "f717edef",
   "metadata": {},
   "outputs": [
    {
     "name": "stdout",
     "output_type": "stream",
     "text": [
      "if blogu calıstı\n",
      "hep calısır\n"
     ]
    }
   ],
   "source": [
    "if 1 and \"bir\" and (1,):\n",
    "     print(\"if blogu calıstı\")\n",
    "print(\"hep calısır\")"
   ]
  },
  {
   "cell_type": "code",
   "execution_count": 7,
   "id": "f34b0bc6",
   "metadata": {},
   "outputs": [],
   "source": [
    "if \"ali\" == \"Ali\":\n",
    "    print(\"sadık\")"
   ]
  },
  {
   "cell_type": "code",
   "execution_count": 8,
   "id": "d6d611c9",
   "metadata": {},
   "outputs": [
    {
     "ename": "KeyboardInterrupt",
     "evalue": "Interrupted by user",
     "output_type": "error",
     "traceback": [
      "\u001b[1;31m---------------------------------------------------------------------------\u001b[0m",
      "\u001b[1;31mKeyboardInterrupt\u001b[0m                         Traceback (most recent call last)",
      "Input \u001b[1;32mIn [8]\u001b[0m, in \u001b[0;36m<cell line: 1>\u001b[1;34m()\u001b[0m\n\u001b[1;32m----> 1\u001b[0m \u001b[38;5;28mtype\u001b[39m(\u001b[38;5;28;43minput\u001b[39;49m\u001b[43m(\u001b[49m\u001b[38;5;124;43m\"\u001b[39;49m\u001b[38;5;124;43menter a give name: \u001b[39;49m\u001b[38;5;124;43m\"\u001b[39;49m\u001b[43m)\u001b[49m)\n",
      "File \u001b[1;32m~\\anaconda3\\lib\\site-packages\\ipykernel\\kernelbase.py:1075\u001b[0m, in \u001b[0;36mKernel.raw_input\u001b[1;34m(self, prompt)\u001b[0m\n\u001b[0;32m   1071\u001b[0m \u001b[38;5;28;01mif\u001b[39;00m \u001b[38;5;129;01mnot\u001b[39;00m \u001b[38;5;28mself\u001b[39m\u001b[38;5;241m.\u001b[39m_allow_stdin:\n\u001b[0;32m   1072\u001b[0m     \u001b[38;5;28;01mraise\u001b[39;00m StdinNotImplementedError(\n\u001b[0;32m   1073\u001b[0m         \u001b[38;5;124m\"\u001b[39m\u001b[38;5;124mraw_input was called, but this frontend does not support input requests.\u001b[39m\u001b[38;5;124m\"\u001b[39m\n\u001b[0;32m   1074\u001b[0m     )\n\u001b[1;32m-> 1075\u001b[0m \u001b[38;5;28;01mreturn\u001b[39;00m \u001b[38;5;28;43mself\u001b[39;49m\u001b[38;5;241;43m.\u001b[39;49m\u001b[43m_input_request\u001b[49m\u001b[43m(\u001b[49m\n\u001b[0;32m   1076\u001b[0m \u001b[43m    \u001b[49m\u001b[38;5;28;43mstr\u001b[39;49m\u001b[43m(\u001b[49m\u001b[43mprompt\u001b[49m\u001b[43m)\u001b[49m\u001b[43m,\u001b[49m\n\u001b[0;32m   1077\u001b[0m \u001b[43m    \u001b[49m\u001b[38;5;28;43mself\u001b[39;49m\u001b[38;5;241;43m.\u001b[39;49m\u001b[43m_parent_ident\u001b[49m\u001b[43m[\u001b[49m\u001b[38;5;124;43m\"\u001b[39;49m\u001b[38;5;124;43mshell\u001b[39;49m\u001b[38;5;124;43m\"\u001b[39;49m\u001b[43m]\u001b[49m\u001b[43m,\u001b[49m\n\u001b[0;32m   1078\u001b[0m \u001b[43m    \u001b[49m\u001b[38;5;28;43mself\u001b[39;49m\u001b[38;5;241;43m.\u001b[39;49m\u001b[43mget_parent\u001b[49m\u001b[43m(\u001b[49m\u001b[38;5;124;43m\"\u001b[39;49m\u001b[38;5;124;43mshell\u001b[39;49m\u001b[38;5;124;43m\"\u001b[39;49m\u001b[43m)\u001b[49m\u001b[43m,\u001b[49m\n\u001b[0;32m   1079\u001b[0m \u001b[43m    \u001b[49m\u001b[43mpassword\u001b[49m\u001b[38;5;241;43m=\u001b[39;49m\u001b[38;5;28;43;01mFalse\u001b[39;49;00m\u001b[43m,\u001b[49m\n\u001b[0;32m   1080\u001b[0m \u001b[43m\u001b[49m\u001b[43m)\u001b[49m\n",
      "File \u001b[1;32m~\\anaconda3\\lib\\site-packages\\ipykernel\\kernelbase.py:1120\u001b[0m, in \u001b[0;36mKernel._input_request\u001b[1;34m(self, prompt, ident, parent, password)\u001b[0m\n\u001b[0;32m   1117\u001b[0m             \u001b[38;5;28;01mbreak\u001b[39;00m\n\u001b[0;32m   1118\u001b[0m \u001b[38;5;28;01mexcept\u001b[39;00m \u001b[38;5;167;01mKeyboardInterrupt\u001b[39;00m:\n\u001b[0;32m   1119\u001b[0m     \u001b[38;5;66;03m# re-raise KeyboardInterrupt, to truncate traceback\u001b[39;00m\n\u001b[1;32m-> 1120\u001b[0m     \u001b[38;5;28;01mraise\u001b[39;00m \u001b[38;5;167;01mKeyboardInterrupt\u001b[39;00m(\u001b[38;5;124m\"\u001b[39m\u001b[38;5;124mInterrupted by user\u001b[39m\u001b[38;5;124m\"\u001b[39m) \u001b[38;5;28;01mfrom\u001b[39;00m \u001b[38;5;28mNone\u001b[39m\n\u001b[0;32m   1121\u001b[0m \u001b[38;5;28;01mexcept\u001b[39;00m \u001b[38;5;167;01mException\u001b[39;00m:\n\u001b[0;32m   1122\u001b[0m     \u001b[38;5;28mself\u001b[39m\u001b[38;5;241m.\u001b[39mlog\u001b[38;5;241m.\u001b[39mwarning(\u001b[38;5;124m\"\u001b[39m\u001b[38;5;124mInvalid Message:\u001b[39m\u001b[38;5;124m\"\u001b[39m, exc_info\u001b[38;5;241m=\u001b[39m\u001b[38;5;28;01mTrue\u001b[39;00m)\n",
      "\u001b[1;31mKeyboardInterrupt\u001b[0m: Interrupted by user"
     ]
    }
   ],
   "source": [
    "type(input(\"enter a give name: \"))"
   ]
  },
  {
   "cell_type": "code",
   "execution_count": null,
   "id": "956fe986",
   "metadata": {},
   "outputs": [],
   "source": [
    "type(input(\"enter a give number: \"))"
   ]
  },
  {
   "cell_type": "code",
   "execution_count": null,
   "id": "bfc75ece",
   "metadata": {},
   "outputs": [],
   "source": [
    "empty = 14 \n",
    "if empty > 3:\n",
    "    print(\"there still set to sit\")"
   ]
  },
  {
   "cell_type": "code",
   "execution_count": null,
   "id": "11826e31",
   "metadata": {},
   "outputs": [],
   "source": [
    "set1 = set(\"twelve plus one\")\n",
    "set2 = set(\"eleven plus two\")\n",
    "if set1 == set2 :\n",
    "    print(\"aynıdır\")\n"
   ]
  },
  {
   "cell_type": "code",
   "execution_count": null,
   "id": "90a92750",
   "metadata": {},
   "outputs": [],
   "source": [
    "set1 "
   ]
  },
  {
   "cell_type": "code",
   "execution_count": null,
   "id": "c668dd94",
   "metadata": {},
   "outputs": [],
   "source": [
    "set2"
   ]
  },
  {
   "cell_type": "code",
   "execution_count": null,
   "id": "96bfdae0",
   "metadata": {},
   "outputs": [],
   "source": [
    "number = input(\"enter a True or False:\")\n",
    "if number == True:\n",
    "    print(\"false\")\n",
    "number == False:\n",
    "    print(\"True\")"
   ]
  },
  {
   "cell_type": "code",
   "execution_count": null,
   "id": "658923d2",
   "metadata": {},
   "outputs": [],
   "source": [
    "convert=input(\"Yes or No giriniz:\").title()"
   ]
  },
  {
   "cell_type": "code",
   "execution_count": null,
   "id": "34121515",
   "metadata": {
    "scrolled": true
   },
   "outputs": [],
   "source": [
    "convert"
   ]
  },
  {
   "cell_type": "code",
   "execution_count": null,
   "id": "dd070cf3",
   "metadata": {},
   "outputs": [],
   "source": [
    "convert=input(\"Yes or No giriniz:\").title().strip() ==\"yes\"\n",
    "convert"
   ]
  },
  {
   "cell_type": "markdown",
   "id": "0a1a6f8e",
   "metadata": {},
   "source": [
    "print(f\"you entered {convert}\")"
   ]
  },
  {
   "cell_type": "markdown",
   "id": "730e5fcd",
   "metadata": {},
   "source": [
    "## if- else statements"
   ]
  },
  {
   "cell_type": "code",
   "execution_count": null,
   "id": "8ed47612",
   "metadata": {},
   "outputs": [],
   "source": [
    "if condition:                          #ya if çalısır yada else bloğu calısır.\n",
    "    execute body\"\n",
    "else:\n",
    "    execute2"
   ]
  },
  {
   "cell_type": "code",
   "execution_count": null,
   "id": "8ac9ddf0",
   "metadata": {},
   "outputs": [],
   "source": [
    "x = 10"
   ]
  },
  {
   "cell_type": "code",
   "execution_count": null,
   "id": "a4ca1ad3",
   "metadata": {},
   "outputs": [],
   "source": [
    "if x > 6:\n",
    "    print(\"x sayısı 6 dan büyüktür.\")\n",
    "else:\n",
    "    print(\"x sayısı 6 dan büyük değildir.\")"
   ]
  },
  {
   "cell_type": "code",
   "execution_count": null,
   "id": "77e2d85b",
   "metadata": {},
   "outputs": [],
   "source": [
    "x = list(range(1, 10))\n",
    "x"
   ]
  },
  {
   "cell_type": "code",
   "execution_count": null,
   "id": "1862b93a",
   "metadata": {},
   "outputs": [],
   "source": [
    "if 10 in x:\n",
    "    print(\"hello\")\n",
    "else:\n",
    "    print(\"world\")"
   ]
  },
  {
   "cell_type": "code",
   "execution_count": null,
   "id": "2176958c",
   "metadata": {},
   "outputs": [],
   "source": [
    "course ='hagi'\n",
    "if  course == \"hagi\":\n",
    "    print(\"eşittir\")\n",
    "else:\n",
    "    print(\"değildir\")"
   ]
  },
  {
   "cell_type": "code",
   "execution_count": null,
   "id": "49f74d0a",
   "metadata": {},
   "outputs": [],
   "source": [
    "number = int(input(\"give a number:\"))\n",
    "if number %2 == 0:\n",
    "    print(\"numbver is a even\")\n",
    "else:\n",
    "    print(\"number is a odd\")"
   ]
  },
  {
   "cell_type": "code",
   "execution_count": null,
   "id": "d684a405",
   "metadata": {},
   "outputs": [],
   "source": [
    "number = int(input(\"give a number:\"))\n",
    "if number >= 0:\n",
    "    print(\"pozitif\")\n",
    "else:\n",
    "    print(\"negatif\")"
   ]
  },
  {
   "cell_type": "code",
   "execution_count": 4,
   "id": "565fc4d4",
   "metadata": {},
   "outputs": [
    {
     "name": "stdout",
     "output_type": "stream",
     "text": [
      "1.sayı:10\n",
      "2. sayı:188\n",
      "1. sayı 2. den büyük değildir\n"
     ]
    }
   ],
   "source": [
    "number1 = int(input(\"1.sayı:\"))\n",
    "number2 = int(input(\"2. sayı:\"))\n",
    "\n",
    "if number1 > number2:\n",
    "    print(\"1. sayı 2. den büyüktür.\")\n",
    "else:\n",
    "    print(\"1. sayı 2. den büyük değildir\")"
   ]
  },
  {
   "cell_type": "code",
   "execution_count": 5,
   "id": "3f6db96e",
   "metadata": {},
   "outputs": [
    {
     "name": "stdout",
     "output_type": "stream",
     "text": [
      "enter a first number:15\n",
      "enter a second number:10\n",
      "The larger number is:  15.0\n"
     ]
    }
   ],
   "source": [
    "num1 =float(input(\"enter a first number:\"))\n",
    "num2 =float(input(\"enter a second number:\"))\n",
    "\n",
    "if num1 > num2:\n",
    "    larger = num1\n",
    "else:\n",
    "    larger = num2\n",
    "print(\"The larger number is: \", larger)"
   ]
  },
  {
   "cell_type": "code",
   "execution_count": 12,
   "id": "ab4d4263",
   "metadata": {},
   "outputs": [
    {
     "name": "stdout",
     "output_type": "stream",
     "text": [
      "yes\n"
     ]
    }
   ],
   "source": [
    "bool_value = True\n",
    "if bool_value == False:\n",
    "    print(\"No\")\n",
    "else:\n",
    "    print(\"yes\")"
   ]
  },
  {
   "cell_type": "markdown",
   "id": "2b7bbec7",
   "metadata": {},
   "source": [
    "## if- elif- else"
   ]
  },
  {
   "cell_type": "code",
   "execution_count": 15,
   "id": "3444f000",
   "metadata": {},
   "outputs": [
    {
     "name": "stdout",
     "output_type": "stream",
     "text": [
      "any other\n"
     ]
    }
   ],
   "source": [
    "audince = \"baby\"\n",
    "if audince == \"kid\":\n",
    "    print(\"it is free to go to cinema\")\n",
    "elif audince == \"teen\":\n",
    "    print(\"discounted price!\")\n",
    "elif audince == \"adult\":\n",
    "    print(\"Normal price\")\n",
    "else:\n",
    "    print(\"any other\")\n"
   ]
  },
  {
   "cell_type": "code",
   "execution_count": 18,
   "id": "2b76fd42",
   "metadata": {},
   "outputs": [
    {
     "name": "stdout",
     "output_type": "stream",
     "text": [
      "enter a number:10\n",
      "enter a number:3\n",
      "enter a number:2\n",
      "en büyük saı number1 dir.\n"
     ]
    }
   ],
   "source": [
    "number1 = float(input(\"enter a number:\"))\n",
    "number2 = float(input(\"enter a number:\"))\n",
    "number3 = float(input(\"enter a number:\"))\n",
    "\n",
    "if number1 > (number2 and number3):\n",
    "    print(\"en büyük sayı number1 dir.\")\n",
    "elif number2 > (number1 and number3):\n",
    "    print(\"en büyük sayı number2 dir\")\n",
    "else:\n",
    "    print(\"number 3 en büyüktür\")"
   ]
  },
  {
   "cell_type": "code",
   "execution_count": null,
   "id": "e08d6c6f",
   "metadata": {},
   "outputs": [],
   "source": [
    "number1 = float(input(\"enter a number:\"))\n",
    "number2 = float(input(\"enter a number:\"))\n",
    "number3 = float(input(\"enter a number:\"))\n",
    "if number1 >= (number2 and number3):\n",
    "    number1 = largest\n",
    "elif number2 >= (number1 and number3):\n",
    "    number2 =largest\n",
    "else:\n",
    "    number3 = largest"
   ]
  },
  {
   "cell_type": "code",
   "execution_count": 19,
   "id": "b6b1065b",
   "metadata": {},
   "outputs": [
    {
     "name": "stdout",
     "output_type": "stream",
     "text": [
      "enter a number:-15\n",
      "negative\n"
     ]
    }
   ],
   "source": [
    "num = int(input(\"enter a number:\"))\n",
    "if num == 0:\n",
    "    print(\"num is zero\")\n",
    "elif num>0:\n",
    "    print(\"num is positive\")\n",
    "else:\n",
    "    print(\"negative\")"
   ]
  },
  {
   "cell_type": "code",
   "execution_count": 23,
   "id": "37126967",
   "metadata": {},
   "outputs": [
    {
     "name": "stdout",
     "output_type": "stream",
     "text": [
      "discounted price!\n"
     ]
    }
   ],
   "source": [
    "audince_group = \"kid\", \"teen\", \"adult\"\n",
    "audince = \"teen\"\n",
    "if audince in audince_group:\n",
    "    if audince == \"kid\":\n",
    "        print(\"it is free to go to cinema\")\n",
    "    elif audince == \"teen\":\n",
    "        print(\"discounted price!\")\n",
    "    else:\n",
    "        print(\"normal price\")\n",
    "else:\n",
    "    print(\"no such audince, stay at your home!\")"
   ]
  },
  {
   "cell_type": "code",
   "execution_count": 33,
   "id": "5ad06378",
   "metadata": {},
   "outputs": [
    {
     "name": "stdout",
     "output_type": "stream",
     "text": [
      "give a number:85\n",
      "B+\n"
     ]
    }
   ],
   "source": [
    "note = float(input(\"give a number:\"))\n",
    "if note > 94:\n",
    "    print(\"A+\")\n",
    "elif (90 <= note <= 94):\n",
    "    print(\"A\")\n",
    "elif (85 <= note < 90):\n",
    "    print(\"B+\")\n",
    "elif (80 <= note < 85):\n",
    "    print(\"B\")\n",
    "else:\n",
    "    print(\"below B \")"
   ]
  },
  {
   "cell_type": "code",
   "execution_count": 30,
   "id": "fad9262a",
   "metadata": {},
   "outputs": [
    {
     "name": "stdout",
     "output_type": "stream",
     "text": [
      "enter your score:91\n",
      "Your degree: A\n"
     ]
    }
   ],
   "source": [
    "score = int(input('enter your score:'))\n",
    "if score >= 90:\n",
    "    if score >= 95:\n",
    "        Score_letter = 'A+'\n",
    "    else:\n",
    "        Score_letter = 'A'\n",
    "elif score >= 80:\n",
    "    if score >= 85:\n",
    "        Score_letter = 'B+'\n",
    "    else:\n",
    "        Score_letter = 'B'\n",
    "else:\n",
    "    Score_letter = 'below B'\n",
    "print('Your degree: %s' % Score_letter)"
   ]
  },
  {
   "cell_type": "code",
   "execution_count": null,
   "id": "d6df5402",
   "metadata": {},
   "outputs": [],
   "source": []
  }
 ],
 "metadata": {
  "kernelspec": {
   "display_name": "Python 3 (ipykernel)",
   "language": "python",
   "name": "python3"
  },
  "language_info": {
   "codemirror_mode": {
    "name": "ipython",
    "version": 3
   },
   "file_extension": ".py",
   "mimetype": "text/x-python",
   "name": "python",
   "nbconvert_exporter": "python",
   "pygments_lexer": "ipython3",
   "version": "3.9.12"
  }
 },
 "nbformat": 4,
 "nbformat_minor": 5
}
