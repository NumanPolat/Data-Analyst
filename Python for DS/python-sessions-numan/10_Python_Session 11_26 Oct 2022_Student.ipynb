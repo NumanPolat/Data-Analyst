{
 "cells": [
  {
   "cell_type": "markdown",
   "id": "29d60b78",
   "metadata": {},
   "source": [
    "<img src=\"https://docs.google.com/uc?id=14xeXxFrVRjvOoUYWn_GuyE-v84wVzrqr\" class=\"img-fluid\" alt=\"CLRWY\" width=\"400\" height=\"200\">"
   ]
  },
  {
   "cell_type": "markdown",
   "id": "d87aeae5",
   "metadata": {},
   "source": [
    "<h1><p style=\"text-align: center; color:darkblue\">Python Session-11 <br> 26 Oct 2022</p>"
   ]
  },
  {
   "cell_type": "markdown",
   "id": "2a056995",
   "metadata": {},
   "source": [
    "## <p style=\"background-color:#FDFEFE; font-family:newtimeroman; color:#4d77cf; font-size:150%; text-align:center; border-radius:10px 10px;\"><br><br>Definition&Creating a Set<br><br>Main Operations with Sets<br><br>Conditional Statemenst - IF Statements</p>"
   ]
  },
  {
   "cell_type": "markdown",
   "id": "ab0f9c4f",
   "metadata": {},
   "source": [
    "<a id=\"toc\"></a>\n",
    "\n",
    "## <p style=\"background-color:#9d4f8c; font-family:newtimeroman; color:#FFF9ED; font-size:175%; text-align:center; border-radius:10px 10px;\">Definition&Creating a Set</p>"
   ]
  },
  {
   "cell_type": "code",
   "execution_count": 3,
   "id": "a49ac13c",
   "metadata": {},
   "outputs": [
    {
     "data": {
      "text/plain": [
       "{'blue', 'pink', 'purple', 'red', 'white'}"
      ]
     },
     "execution_count": 3,
     "metadata": {},
     "output_type": "execute_result"
    }
   ],
   "source": [
    "colors = \"red\", \"blue\", \"pink\", \"red\", \"white\", \"blue\", \"purple\"\n",
    "set(colors)"
   ]
  },
  {
   "cell_type": "code",
   "execution_count": 5,
   "id": "d9511abe",
   "metadata": {},
   "outputs": [
    {
     "name": "stdout",
     "output_type": "stream",
     "text": [
      "{}\n",
      "<class 'dict'>\n"
     ]
    }
   ],
   "source": [
    "empty = {}\n",
    "print(empty)\n",
    "print(type(empty))"
   ]
  },
  {
   "cell_type": "code",
   "execution_count": 7,
   "id": "f3d06e34",
   "metadata": {},
   "outputs": [
    {
     "name": "stdout",
     "output_type": "stream",
     "text": [
      "<class 'set'>\n"
     ]
    }
   ],
   "source": [
    "print(type(set()))    # boş küme set ile yapılır."
   ]
  },
  {
   "cell_type": "code",
   "execution_count": 9,
   "id": "f5328770",
   "metadata": {},
   "outputs": [
    {
     "data": {
      "text/plain": [
       "{0, 1, 2}"
      ]
     },
     "execution_count": 9,
     "metadata": {},
     "output_type": "execute_result"
    }
   ],
   "source": [
    "first_kume = {1,1,2,0,1}\n",
    "first_kume"
   ]
  },
  {
   "cell_type": "code",
   "execution_count": 11,
   "id": "0d970d80",
   "metadata": {},
   "outputs": [
    {
     "data": {
      "text/plain": [
       "5"
      ]
     },
     "execution_count": 11,
     "metadata": {},
     "output_type": "execute_result"
    }
   ],
   "source": [
    "len([1,1,2,0,1])"
   ]
  },
  {
   "cell_type": "code",
   "execution_count": 12,
   "id": "5ae0710d",
   "metadata": {},
   "outputs": [
    {
     "data": {
      "text/plain": [
       "3"
      ]
     },
     "execution_count": 12,
     "metadata": {},
     "output_type": "execute_result"
    }
   ],
   "source": [
    "len({1,1,2,0,1})"
   ]
  },
  {
   "cell_type": "code",
   "execution_count": 1,
   "id": "13a7da8c",
   "metadata": {},
   "outputs": [
    {
     "name": "stdout",
     "output_type": "stream",
     "text": [
      "['a', 'b', 'c', 'd', 'e', 'f', 'g', 'h', 'j', 'k', 'l', 'm', 'n', 'o', 'p', 'r', 's', 't']\n"
     ]
    }
   ],
   "source": [
    "letters = \"a b c d e f g h j k l m n o p r s t\".split()\n",
    "print(letters)"
   ]
  },
  {
   "cell_type": "code",
   "execution_count": 2,
   "id": "9fb8bc7e",
   "metadata": {},
   "outputs": [
    {
     "name": "stdout",
     "output_type": "stream",
     "text": [
      "{'f', 'o', 'k', 'a', 'e', 'p', 'j', 'h', 'm', 'b', 'g', 'n', 't', 'l', 'c', 'r', 's', 'd'}\n"
     ]
    }
   ],
   "source": [
    "print(set(letters))"
   ]
  },
  {
   "cell_type": "code",
   "execution_count": 4,
   "id": "b2a3380a",
   "metadata": {},
   "outputs": [
    {
     "data": {
      "text/plain": [
       "2"
      ]
     },
     "execution_count": 4,
     "metadata": {},
     "output_type": "execute_result"
    }
   ],
   "source": [
    "say_something = {1, \"1\", 1.0}        burada 1 ile 1.0 aynı sayar.\n",
    "len(say_something)"
   ]
  },
  {
   "cell_type": "code",
   "execution_count": 5,
   "id": "9b7d5650",
   "metadata": {},
   "outputs": [
    {
     "data": {
      "text/plain": [
       "True"
      ]
     },
     "execution_count": 5,
     "metadata": {},
     "output_type": "execute_result"
    }
   ],
   "source": [
    "1 ==1.0"
   ]
  },
  {
   "cell_type": "code",
   "execution_count": 6,
   "id": "0db677f6",
   "metadata": {},
   "outputs": [],
   "source": [
    "given_list =  [1,2,3,4]"
   ]
  },
  {
   "cell_type": "code",
   "execution_count": 7,
   "id": "8b1dc605",
   "metadata": {},
   "outputs": [
    {
     "ename": "TypeError",
     "evalue": "unhashable type: 'list'",
     "output_type": "error",
     "traceback": [
      "\u001b[1;31m---------------------------------------------------------------------------\u001b[0m",
      "\u001b[1;31mTypeError\u001b[0m                                 Traceback (most recent call last)",
      "Input \u001b[1;32mIn [7]\u001b[0m, in \u001b[0;36m<cell line: 1>\u001b[1;34m()\u001b[0m\n\u001b[1;32m----> 1\u001b[0m kümemiz \u001b[38;5;241m=\u001b[39m {given_list}\n",
      "\u001b[1;31mTypeError\u001b[0m: unhashable type: 'list'"
     ]
    }
   ],
   "source": [
    "kümemiz = {given_list}          #unhasable mutable dır."
   ]
  },
  {
   "cell_type": "code",
   "execution_count": 8,
   "id": "cfa81610",
   "metadata": {},
   "outputs": [
    {
     "data": {
      "text/plain": [
       "{1, 2, 3, 4}"
      ]
     },
     "execution_count": 8,
     "metadata": {},
     "output_type": "execute_result"
    }
   ],
   "source": [
    "set((1,2,3,4))"
   ]
  },
  {
   "cell_type": "code",
   "execution_count": 9,
   "id": "9a1c3f42",
   "metadata": {},
   "outputs": [
    {
     "ename": "TypeError",
     "evalue": "unhashable type: 'list'",
     "output_type": "error",
     "traceback": [
      "\u001b[1;31m---------------------------------------------------------------------------\u001b[0m",
      "\u001b[1;31mTypeError\u001b[0m                                 Traceback (most recent call last)",
      "Input \u001b[1;32mIn [9]\u001b[0m, in \u001b[0;36m<cell line: 2>\u001b[1;34m()\u001b[0m\n\u001b[0;32m      1\u001b[0m \u001b[38;5;28mlist\u001b[39m \u001b[38;5;241m=\u001b[39m [[\u001b[38;5;241m1\u001b[39m,\u001b[38;5;241m2\u001b[39m,\u001b[38;5;241m3\u001b[39m],\u001b[38;5;124m\"\u001b[39m\u001b[38;5;124ma\u001b[39m\u001b[38;5;124m\"\u001b[39m,\u001b[38;5;241m6\u001b[39m,\u001b[38;5;241m3.14\u001b[39m]\n\u001b[1;32m----> 2\u001b[0m \u001b[38;5;28;43mset\u001b[39;49m\u001b[43m(\u001b[49m\u001b[38;5;28;43mlist\u001b[39;49m\u001b[43m)\u001b[49m\n",
      "\u001b[1;31mTypeError\u001b[0m: unhashable type: 'list'"
     ]
    }
   ],
   "source": [
    "list = [[1,2,3],\"a\",6,3.14]   #kümenin elemanları list olamıyor.\n",
    "set(list)"
   ]
  },
  {
   "cell_type": "code",
   "execution_count": 10,
   "id": "dd9558f6",
   "metadata": {},
   "outputs": [
    {
     "ename": "TypeError",
     "evalue": "unhashable type: 'list'",
     "output_type": "error",
     "traceback": [
      "\u001b[1;31m---------------------------------------------------------------------------\u001b[0m",
      "\u001b[1;31mTypeError\u001b[0m                                 Traceback (most recent call last)",
      "Input \u001b[1;32mIn [10]\u001b[0m, in \u001b[0;36m<cell line: 1>\u001b[1;34m()\u001b[0m\n\u001b[1;32m----> 1\u001b[0m { [\u001b[38;5;241m1\u001b[39m,\u001b[38;5;241m2\u001b[39m],\u001b[38;5;124m\"\u001b[39m\u001b[38;5;124mali\u001b[39m\u001b[38;5;124m\"\u001b[39m,\u001b[38;5;124m\"\u001b[39m\u001b[38;5;124mhagi\u001b[39m\u001b[38;5;124m\"\u001b[39m}\n",
      "\u001b[1;31mTypeError\u001b[0m: unhashable type: 'list'"
     ]
    }
   ],
   "source": [
    "{ [1,2],\"ali\",\"hagi\"}                 # elemanlarından biride list olsada olmaz"
   ]
  },
  {
   "cell_type": "code",
   "execution_count": 11,
   "id": "c30be641",
   "metadata": {},
   "outputs": [
    {
     "ename": "TypeError",
     "evalue": "unhashable type: 'dict'",
     "output_type": "error",
     "traceback": [
      "\u001b[1;31m---------------------------------------------------------------------------\u001b[0m",
      "\u001b[1;31mTypeError\u001b[0m                                 Traceback (most recent call last)",
      "Input \u001b[1;32mIn [11]\u001b[0m, in \u001b[0;36m<cell line: 1>\u001b[1;34m()\u001b[0m\n\u001b[1;32m----> 1\u001b[0m { {\u001b[38;5;241m1\u001b[39m: \u001b[38;5;124m\"\u001b[39m\u001b[38;5;124mbir\u001b[39m\u001b[38;5;124m\"\u001b[39m}, \u001b[38;5;241m2\u001b[39m, \u001b[38;5;241m3\u001b[39m}\n",
      "\u001b[1;31mTypeError\u001b[0m: unhashable type: 'dict'"
     ]
    }
   ],
   "source": [
    "{ {1: \"bir\"}, 2, 3}           #dict fonk una çalısmaz unhasable dır değiştirilebilir"
   ]
  },
  {
   "cell_type": "code",
   "execution_count": 14,
   "id": "33ec4d33",
   "metadata": {},
   "outputs": [
    {
     "data": {
      "text/plain": [
       "{(1, 2, (3, 4))}"
      ]
     },
     "execution_count": 14,
     "metadata": {},
     "output_type": "execute_result"
    }
   ],
   "source": [
    "tuple = {(1,2,(3,4))}        #Tupple değiştirelemz oldugu için ollur\n",
    "tuple"
   ]
  },
  {
   "cell_type": "code",
   "execution_count": null,
   "id": "dc06af4f",
   "metadata": {},
   "outputs": [],
   "source": []
  },
  {
   "cell_type": "code",
   "execution_count": null,
   "id": "30b8763b",
   "metadata": {},
   "outputs": [],
   "source": []
  },
  {
   "cell_type": "code",
   "execution_count": null,
   "id": "ced6b046",
   "metadata": {},
   "outputs": [],
   "source": []
  },
  {
   "cell_type": "code",
   "execution_count": null,
   "id": "e62f1ba6",
   "metadata": {},
   "outputs": [],
   "source": []
  },
  {
   "cell_type": "markdown",
   "id": "eb7afbbe",
   "metadata": {},
   "source": [
    "<a id=\"toc\"></a>\n",
    "\n",
    "## <p style=\"background-color:#9d4f8c; font-family:newtimeroman; color:#FFF9ED; font-size:175%; text-align:center; border-radius:10px 10px;\">Main Operations with Sets</p>"
   ]
  },
  {
   "cell_type": "code",
   "execution_count": 15,
   "id": "148a56aa",
   "metadata": {},
   "outputs": [],
   "source": [
    "a = {\"carnation\", \"orchid\", \"rose\", \"violet\"}\n",
    "\n",
    "b = {\"rose\", \"orchid\", \"rose\", \"violet\", \"carnation\"}"
   ]
  },
  {
   "cell_type": "code",
   "execution_count": 16,
   "id": "d688d5fa",
   "metadata": {},
   "outputs": [
    {
     "data": {
      "text/plain": [
       "{'carnation', 'orchid', 'rose', 'violet'}"
      ]
     },
     "execution_count": 16,
     "metadata": {},
     "output_type": "execute_result"
    }
   ],
   "source": [
    "a"
   ]
  },
  {
   "cell_type": "code",
   "execution_count": 17,
   "id": "21b0da5b",
   "metadata": {},
   "outputs": [
    {
     "data": {
      "text/plain": [
       "{'carnation', 'orchid', 'rose', 'violet'}"
      ]
     },
     "execution_count": 17,
     "metadata": {},
     "output_type": "execute_result"
    }
   ],
   "source": [
    "b"
   ]
  },
  {
   "cell_type": "code",
   "execution_count": 19,
   "id": "a212cb91",
   "metadata": {},
   "outputs": [
    {
     "data": {
      "text/plain": [
       "{'carnation', 'lily', 'orchid', 'rose', 'violet'}"
      ]
     },
     "execution_count": 19,
     "metadata": {},
     "output_type": "execute_result"
    }
   ],
   "source": [
    "a.add(\"lily\")\n",
    "a"
   ]
  },
  {
   "cell_type": "code",
   "execution_count": 23,
   "id": "a246f9da",
   "metadata": {},
   "outputs": [],
   "source": [
    "date = set(\"10/26/2022\")\n",
    "date2={\"10/26/2022\"}"
   ]
  },
  {
   "cell_type": "code",
   "execution_count": 21,
   "id": "4266fec7",
   "metadata": {},
   "outputs": [
    {
     "data": {
      "text/plain": [
       "{'/', '0', '1', '2', '6'}"
      ]
     },
     "execution_count": 21,
     "metadata": {},
     "output_type": "execute_result"
    }
   ],
   "source": [
    "date"
   ]
  },
  {
   "cell_type": "code",
   "execution_count": 24,
   "id": "32471f2f",
   "metadata": {},
   "outputs": [
    {
     "data": {
      "text/plain": [
       "{'10/26/2022'}"
      ]
     },
     "execution_count": 24,
     "metadata": {},
     "output_type": "execute_result"
    }
   ],
   "source": [
    "date2"
   ]
  },
  {
   "cell_type": "code",
   "execution_count": null,
   "id": "5077b69d",
   "metadata": {},
   "outputs": [],
   "source": []
  },
  {
   "cell_type": "code",
   "execution_count": null,
   "id": "ca081ad4",
   "metadata": {},
   "outputs": [],
   "source": []
  },
  {
   "cell_type": "markdown",
   "id": "2f9092fa",
   "metadata": {},
   "source": [
    "<a id=\"toc\"></a>\n",
    "\n",
    "## <p style=\"background-color:#9d4f8c; font-family:newtimeroman; color:#FFF9ED; font-size:175%; text-align:center; border-radius:10px 10px;\">Conditional Statemenst - IF Statements</p>"
   ]
  },
  {
   "cell_type": "markdown",
   "id": "6a73b16e",
   "metadata": {},
   "source": [
    "<img src=\"Hamburger.png\" class=\"img-fluid\" alt=\"CLRWY\" width=\"400\" height=\"200\">"
   ]
  },
  {
   "cell_type": "code",
   "execution_count": null,
   "id": "7182cb3b",
   "metadata": {},
   "outputs": [],
   "source": []
  },
  {
   "cell_type": "code",
   "execution_count": null,
   "id": "fbf94644",
   "metadata": {},
   "outputs": [],
   "source": []
  },
  {
   "cell_type": "code",
   "execution_count": null,
   "id": "883a6fca",
   "metadata": {},
   "outputs": [],
   "source": []
  },
  {
   "cell_type": "code",
   "execution_count": null,
   "id": "b5854435",
   "metadata": {},
   "outputs": [],
   "source": []
  },
  {
   "cell_type": "code",
   "execution_count": null,
   "id": "1a877a1b",
   "metadata": {},
   "outputs": [],
   "source": []
  },
  {
   "cell_type": "markdown",
   "id": "937c7c82",
   "metadata": {},
   "source": [
    "<img src=\"https://docs.google.com/uc?id=14xeXxFrVRjvOoUYWn_GuyE-v84wVzrqr\" class=\"img-fluid\" alt=\"CLRWY\" width=\"400\" height=\"200\">"
   ]
  },
  {
   "cell_type": "code",
   "execution_count": null,
   "id": "9677244c",
   "metadata": {},
   "outputs": [],
   "source": []
  }
 ],
 "metadata": {
  "kernelspec": {
   "display_name": "Python 3 (ipykernel)",
   "language": "python",
   "name": "python3"
  },
  "language_info": {
   "codemirror_mode": {
    "name": "ipython",
    "version": 3
   },
   "file_extension": ".py",
   "mimetype": "text/x-python",
   "name": "python",
   "nbconvert_exporter": "python",
   "pygments_lexer": "ipython3",
   "version": "3.9.12"
  }
 },
 "nbformat": 4,
 "nbformat_minor": 5
}
