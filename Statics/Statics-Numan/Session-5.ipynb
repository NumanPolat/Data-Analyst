{
 "cells": [
  {
   "cell_type": "markdown",
   "id": "ef15ce39",
   "metadata": {},
   "source": [
    "One Sample Z Test"
   ]
  },
  {
   "cell_type": "code",
   "execution_count": 1,
   "id": "b8e5b5db",
   "metadata": {},
   "outputs": [],
   "source": [
    "## Performed when the population variance or standart deviation are know"
   ]
  },
  {
   "cell_type": "code",
   "execution_count": 2,
   "id": "4ca3fd08",
   "metadata": {},
   "outputs": [],
   "source": [
    "##import libraries\n",
    "from scipy import stats\n",
    "import numpy as np\n"
   ]
  },
  {
   "cell_type": "code",
   "execution_count": 3,
   "id": "8c3e5033",
   "metadata": {},
   "outputs": [],
   "source": [
    "#HO mu = 10\n",
    "#H! mu > 10"
   ]
  },
  {
   "cell_type": "markdown",
   "id": "23513972",
   "metadata": {},
   "source": [
    "Write the given variables"
   ]
  },
  {
   "cell_type": "code",
   "execution_count": 4,
   "id": "6690339e",
   "metadata": {},
   "outputs": [],
   "source": [
    "mu = 10\n",
    "\n",
    "xbar = 10.5\n",
    "n = 40\n",
    "\n",
    "sigma = 1.5\n",
    "\n",
    "alpha = 0.05"
   ]
  },
  {
   "cell_type": "markdown",
   "id": "7ca7d509",
   "metadata": {},
   "source": [
    "Calculate the test statistic"
   ]
  },
  {
   "cell_type": "code",
   "execution_count": 5,
   "id": "157ffb30",
   "metadata": {},
   "outputs": [
    {
     "data": {
      "text/plain": [
       "2.1081851067789197"
      ]
     },
     "execution_count": 5,
     "metadata": {},
     "output_type": "execute_result"
    }
   ],
   "source": [
    "z = (xbar - mu) / (sigma/np.sqrt(n))\n",
    "z"
   ]
  },
  {
   "cell_type": "markdown",
   "id": "cdb7526c",
   "metadata": {},
   "source": [
    "Calculate the p value"
   ]
  },
  {
   "cell_type": "code",
   "execution_count": 6,
   "id": "9653ec83",
   "metadata": {},
   "outputs": [
    {
     "data": {
      "text/plain": [
       "0.017507490509831247"
      ]
     },
     "execution_count": 6,
     "metadata": {},
     "output_type": "execute_result"
    }
   ],
   "source": [
    "p_value = 1 - stats.norm.cdf(z)\n",
    "p_value"
   ]
  },
  {
   "cell_type": "markdown",
   "id": "8b11529d",
   "metadata": {},
   "source": [
    "Conclusion"
   ]
  },
  {
   "cell_type": "code",
   "execution_count": 7,
   "id": "219a70e7",
   "metadata": {},
   "outputs": [
    {
     "name": "stdout",
     "output_type": "stream",
     "text": [
      "At 0.05 level of significance, we can reject the null hypothesis in favor of alternative hypothesis.\n"
     ]
    }
   ],
   "source": [
    "if p_value < alpha:\n",
    "    print('At {} level of significance, we can reject the null hypothesis in favor of alternative hypothesis.'.format(alpha))\n",
    "else:\n",
    "    print('At {} level of significance, we fail to reject the null hypothesis.'.format(alpha))"
   ]
  },
  {
   "cell_type": "markdown",
   "id": "3b245ae6",
   "metadata": {},
   "source": [
    "Example 2"
   ]
  },
  {
   "cell_type": "code",
   "execution_count": 8,
   "id": "d74ec3c1",
   "metadata": {},
   "outputs": [],
   "source": [
    "#HO mu = 170\n",
    "#H1 mu > 170"
   ]
  },
  {
   "cell_type": "code",
   "execution_count": 13,
   "id": "5c63de50",
   "metadata": {},
   "outputs": [],
   "source": [
    "mu = 170\n",
    "\n",
    "xbar = 170\n",
    "n = 400\n",
    "\n",
    "sigma = 65\n",
    "\n",
    "alpha = 0.05  "
   ]
  },
  {
   "cell_type": "code",
   "execution_count": 14,
   "id": "3d8b9c49",
   "metadata": {},
   "outputs": [
    {
     "data": {
      "text/plain": [
       "0.0"
      ]
     },
     "execution_count": 14,
     "metadata": {},
     "output_type": "execute_result"
    }
   ],
   "source": [
    "z = (xbar - mu) / (sigma/np.sqrt(n))\n",
    "z"
   ]
  },
  {
   "cell_type": "code",
   "execution_count": 11,
   "id": "2f72787f",
   "metadata": {},
   "outputs": [
    {
     "data": {
      "text/plain": [
       "3.25"
      ]
     },
     "execution_count": 11,
     "metadata": {},
     "output_type": "execute_result"
    }
   ],
   "source": [
    "## Syandart Error\n",
    "sigma/ np.sqrt(n)"
   ]
  },
  {
   "cell_type": "code",
   "execution_count": 12,
   "id": "7889b47b",
   "metadata": {},
   "outputs": [
    {
     "data": {
      "text/plain": [
       "0.5"
      ]
     },
     "execution_count": 12,
     "metadata": {},
     "output_type": "execute_result"
    }
   ],
   "source": [
    "p_value = 1 - stats.norm.cdf(z)\n",
    "p_value"
   ]
  },
  {
   "cell_type": "code",
   "execution_count": null,
   "id": "bf632f81",
   "metadata": {},
   "outputs": [],
   "source": [
    "1 - stats.norm.cdf(178,170,3.25)"
   ]
  },
  {
   "cell_type": "code",
   "execution_count": null,
   "id": "ebbc20bd",
   "metadata": {},
   "outputs": [],
   "source": [
    "if p_value < alpha:\n",
    "    print('At {} level of significance, we can reject the null hypothesis in favor of alternative hypothesis.'.format(alpha))\n",
    "else:\n",
    "    print('At {} level of significance, we fail to reject the null hypothesis.'.format(alpha))"
   ]
  },
  {
   "cell_type": "markdown",
   "id": "8f777783",
   "metadata": {},
   "source": [
    "# One Sample t Test"
   ]
  },
  {
   "cell_type": "code",
   "execution_count": null,
   "id": "6e6f69fe",
   "metadata": {},
   "outputs": [],
   "source": [
    "#HO mu = 110\n",
    "#H1 mu < 110"
   ]
  },
  {
   "cell_type": "code",
   "execution_count": 20,
   "id": "bc32e8c5",
   "metadata": {},
   "outputs": [],
   "source": [
    "mu = 110\n",
    "\n",
    "xbar = 108\n",
    "n = 20\n",
    "s = 10 \n",
    "\n",
    "\n",
    "alpha = 0.01  "
   ]
  },
  {
   "cell_type": "code",
   "execution_count": 21,
   "id": "c1d3cc3a",
   "metadata": {},
   "outputs": [
    {
     "data": {
      "text/plain": [
       "-0.8944271909999159"
      ]
     },
     "execution_count": 21,
     "metadata": {},
     "output_type": "execute_result"
    }
   ],
   "source": [
    "t = (xbar-mu) /  (s / np.sqrt(n))\n",
    "t"
   ]
  },
  {
   "cell_type": "code",
   "execution_count": 23,
   "id": "910b5fa2",
   "metadata": {},
   "outputs": [
    {
     "data": {
      "text/plain": [
       "0.1911420676837155"
      ]
     },
     "execution_count": 23,
     "metadata": {},
     "output_type": "execute_result"
    }
   ],
   "source": [
    "p_value = stats.t.cdf(t, df=n-1)\n",
    "p_value"
   ]
  },
  {
   "cell_type": "code",
   "execution_count": 24,
   "id": "3b758dae",
   "metadata": {},
   "outputs": [
    {
     "data": {
      "text/plain": [
       "-0.8944271909999159"
      ]
     },
     "execution_count": 24,
     "metadata": {},
     "output_type": "execute_result"
    }
   ],
   "source": [
    "stats.t.ppf(p_value, df=n-1)"
   ]
  },
  {
   "cell_type": "code",
   "execution_count": 25,
   "id": "08ff1ce6",
   "metadata": {},
   "outputs": [
    {
     "data": {
      "text/plain": [
       "-2.5394831906222888"
      ]
     },
     "execution_count": 25,
     "metadata": {},
     "output_type": "execute_result"
    }
   ],
   "source": [
    "#How to calculate critical value\n",
    "stats.t.ppf(alpha, df=n-1)"
   ]
  },
  {
   "cell_type": "code",
   "execution_count": null,
   "id": "2cd03895",
   "metadata": {},
   "outputs": [],
   "source": []
  },
  {
   "cell_type": "code",
   "execution_count": null,
   "id": "2b408796",
   "metadata": {},
   "outputs": [],
   "source": []
  },
  {
   "cell_type": "code",
   "execution_count": null,
   "id": "0bd19e62",
   "metadata": {},
   "outputs": [],
   "source": []
  },
  {
   "cell_type": "code",
   "execution_count": null,
   "id": "1252c8a5",
   "metadata": {},
   "outputs": [],
   "source": []
  },
  {
   "cell_type": "code",
   "execution_count": null,
   "id": "5ef2118f",
   "metadata": {},
   "outputs": [],
   "source": []
  },
  {
   "cell_type": "code",
   "execution_count": null,
   "id": "786807be",
   "metadata": {},
   "outputs": [],
   "source": []
  }
 ],
 "metadata": {
  "kernelspec": {
   "display_name": "Python 3 (ipykernel)",
   "language": "python",
   "name": "python3"
  },
  "language_info": {
   "codemirror_mode": {
    "name": "ipython",
    "version": 3
   },
   "file_extension": ".py",
   "mimetype": "text/x-python",
   "name": "python",
   "nbconvert_exporter": "python",
   "pygments_lexer": "ipython3",
   "version": "3.9.12"
  }
 },
 "nbformat": 4,
 "nbformat_minor": 5
}
